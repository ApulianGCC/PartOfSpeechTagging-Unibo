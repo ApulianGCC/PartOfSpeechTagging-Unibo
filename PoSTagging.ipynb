{
 "cells": [
  {
   "cell_type": "markdown",
   "metadata": {
    "id": "mwEwo-GQcRwm"
   },
   "source": [
    "# POS Tagging\n",
    "Part-of Speech (POS) tagging as Sequence Labelling using Recurrent Neural Architectures performed on the \"Dependency Treebank\" dataset."
   ]
  },
  {
   "cell_type": "markdown",
   "metadata": {
    "id": "6Q26AUnpbf_D"
   },
   "source": [
    "# Libraries import"
   ]
  },
  {
   "cell_type": "code",
   "execution_count": 1,
   "metadata": {
    "id": "uyS835QrBm1W"
   },
   "outputs": [
    {
     "name": "stdout",
     "output_type": "stream",
     "text": [
      "Requirement already satisfied: gensim in c:\\users\\nicola\\anaconda3\\lib\\site-packages (3.6.0)\n",
      "Requirement already satisfied: scipy>=0.18.1 in c:\\users\\nicola\\anaconda3\\lib\\site-packages (from gensim) (1.7.1)\n",
      "Requirement already satisfied: numpy>=1.11.3 in c:\\users\\nicola\\anaconda3\\lib\\site-packages (from gensim) (1.21.2)\n",
      "Requirement already satisfied: six>=1.5.0 in c:\\users\\nicola\\anaconda3\\lib\\site-packages (from gensim) (1.16.0)\n",
      "Requirement already satisfied: smart-open>=1.2.1 in c:\\users\\nicola\\anaconda3\\lib\\site-packages (from gensim) (6.2.0)\n",
      "Requirement already satisfied: keras-tuner in c:\\users\\nicola\\anaconda3\\lib\\site-packages (1.1.3)\n",
      "Requirement already satisfied: packaging in c:\\users\\nicola\\anaconda3\\lib\\site-packages (from keras-tuner) (21.0)\n",
      "Requirement already satisfied: tensorboard in c:\\users\\nicola\\anaconda3\\lib\\site-packages (from keras-tuner) (2.9.1)\n",
      "Requirement already satisfied: numpy in c:\\users\\nicola\\anaconda3\\lib\\site-packages (from keras-tuner) (1.21.2)\n",
      "Requirement already satisfied: ipython in c:\\users\\nicola\\anaconda3\\lib\\site-packages (from keras-tuner) (7.27.0)\n",
      "Requirement already satisfied: requests in c:\\users\\nicola\\anaconda3\\lib\\site-packages (from keras-tuner) (2.26.0)\n",
      "Requirement already satisfied: kt-legacy in c:\\users\\nicola\\anaconda3\\lib\\site-packages (from keras-tuner) (1.0.4)\n",
      "Requirement already satisfied: decorator in c:\\users\\nicola\\anaconda3\\lib\\site-packages (from ipython->keras-tuner) (5.1.0)\n",
      "Requirement already satisfied: matplotlib-inline in c:\\users\\nicola\\anaconda3\\lib\\site-packages (from ipython->keras-tuner) (0.1.2)\n",
      "Requirement already satisfied: traitlets>=4.2 in c:\\users\\nicola\\anaconda3\\lib\\site-packages (from ipython->keras-tuner) (5.1.0)\n",
      "Requirement already satisfied: setuptools>=18.5 in c:\\users\\nicola\\anaconda3\\lib\\site-packages (from ipython->keras-tuner) (58.0.4)\n",
      "Requirement already satisfied: colorama in c:\\users\\nicola\\anaconda3\\lib\\site-packages (from ipython->keras-tuner) (0.4.4)\n",
      "Requirement already satisfied: prompt-toolkit!=3.0.0,!=3.0.1,<3.1.0,>=2.0.0 in c:\\users\\nicola\\anaconda3\\lib\\site-packages (from ipython->keras-tuner) (3.0.20)\n",
      "Requirement already satisfied: backcall in c:\\users\\nicola\\anaconda3\\lib\\site-packages (from ipython->keras-tuner) (0.2.0)\n",
      "Requirement already satisfied: jedi>=0.16 in c:\\users\\nicola\\anaconda3\\lib\\site-packages (from ipython->keras-tuner) (0.17.2)\n",
      "Requirement already satisfied: pygments in c:\\users\\nicola\\anaconda3\\lib\\site-packages (from ipython->keras-tuner) (2.10.0)\n",
      "Requirement already satisfied: pickleshare in c:\\users\\nicola\\anaconda3\\lib\\site-packages (from ipython->keras-tuner) (0.7.5)\n",
      "Requirement already satisfied: parso<0.8.0,>=0.7.0 in c:\\users\\nicola\\anaconda3\\lib\\site-packages (from jedi>=0.16->ipython->keras-tuner) (0.7.0)\n",
      "Requirement already satisfied: wcwidth in c:\\users\\nicola\\anaconda3\\lib\\site-packages (from prompt-toolkit!=3.0.0,!=3.0.1,<3.1.0,>=2.0.0->ipython->keras-tuner) (0.2.5)\n",
      "Requirement already satisfied: pyparsing>=2.0.2 in c:\\users\\nicola\\anaconda3\\lib\\site-packages (from packaging->keras-tuner) (2.4.7)\n",
      "Requirement already satisfied: idna<4,>=2.5 in c:\\users\\nicola\\anaconda3\\lib\\site-packages (from requests->keras-tuner) (3.2)\n",
      "Requirement already satisfied: charset-normalizer~=2.0.0 in c:\\users\\nicola\\anaconda3\\lib\\site-packages (from requests->keras-tuner) (2.0.4)\n",
      "Requirement already satisfied: urllib3<1.27,>=1.21.1 in c:\\users\\nicola\\anaconda3\\lib\\site-packages (from requests->keras-tuner) (1.26.7)\n",
      "Requirement already satisfied: certifi>=2017.4.17 in c:\\users\\nicola\\anaconda3\\lib\\site-packages (from requests->keras-tuner) (2021.10.8)\n",
      "Requirement already satisfied: absl-py>=0.4 in c:\\users\\nicola\\anaconda3\\lib\\site-packages (from tensorboard->keras-tuner) (1.2.0)\n",
      "Requirement already satisfied: markdown>=2.6.8 in c:\\users\\nicola\\anaconda3\\lib\\site-packages (from tensorboard->keras-tuner) (3.4.1)\n",
      "Requirement already satisfied: protobuf<3.20,>=3.9.2 in c:\\users\\nicola\\anaconda3\\lib\\site-packages (from tensorboard->keras-tuner) (3.19.4)\n",
      "Requirement already satisfied: tensorboard-plugin-wit>=1.6.0 in c:\\users\\nicola\\anaconda3\\lib\\site-packages (from tensorboard->keras-tuner) (1.8.1)\n",
      "Requirement already satisfied: grpcio>=1.24.3 in c:\\users\\nicola\\anaconda3\\lib\\site-packages (from tensorboard->keras-tuner) (1.47.0)\n",
      "Requirement already satisfied: google-auth-oauthlib<0.5,>=0.4.1 in c:\\users\\nicola\\anaconda3\\lib\\site-packages (from tensorboard->keras-tuner) (0.4.6)\n",
      "Requirement already satisfied: wheel>=0.26 in c:\\users\\nicola\\anaconda3\\lib\\site-packages (from tensorboard->keras-tuner) (0.37.0)\n",
      "Requirement already satisfied: werkzeug>=1.0.1 in c:\\users\\nicola\\anaconda3\\lib\\site-packages (from tensorboard->keras-tuner) (2.0.1)\n",
      "Requirement already satisfied: google-auth<3,>=1.6.3 in c:\\users\\nicola\\anaconda3\\lib\\site-packages (from tensorboard->keras-tuner) (2.9.1)\n",
      "Requirement already satisfied: tensorboard-data-server<0.7.0,>=0.6.0 in c:\\users\\nicola\\anaconda3\\lib\\site-packages (from tensorboard->keras-tuner) (0.6.1)\n",
      "Requirement already satisfied: cachetools<6.0,>=2.0.0 in c:\\users\\nicola\\anaconda3\\lib\\site-packages (from google-auth<3,>=1.6.3->tensorboard->keras-tuner) (5.2.0)\n",
      "Requirement already satisfied: six>=1.9.0 in c:\\users\\nicola\\anaconda3\\lib\\site-packages (from google-auth<3,>=1.6.3->tensorboard->keras-tuner) (1.16.0)\n",
      "Requirement already satisfied: rsa<5,>=3.1.4 in c:\\users\\nicola\\anaconda3\\lib\\site-packages (from google-auth<3,>=1.6.3->tensorboard->keras-tuner) (4.8)\n",
      "Requirement already satisfied: pyasn1-modules>=0.2.1 in c:\\users\\nicola\\anaconda3\\lib\\site-packages (from google-auth<3,>=1.6.3->tensorboard->keras-tuner) (0.2.8)\n",
      "Requirement already satisfied: requests-oauthlib>=0.7.0 in c:\\users\\nicola\\anaconda3\\lib\\site-packages (from google-auth-oauthlib<0.5,>=0.4.1->tensorboard->keras-tuner) (1.3.1)\n",
      "Requirement already satisfied: importlib-metadata>=4.4 in c:\\users\\nicola\\anaconda3\\lib\\site-packages (from markdown>=2.6.8->tensorboard->keras-tuner) (4.8.1)\n",
      "Requirement already satisfied: zipp>=0.5 in c:\\users\\nicola\\anaconda3\\lib\\site-packages (from importlib-metadata>=4.4->markdown>=2.6.8->tensorboard->keras-tuner) (3.6.0)\n",
      "Requirement already satisfied: pyasn1<0.5.0,>=0.4.6 in c:\\users\\nicola\\anaconda3\\lib\\site-packages (from pyasn1-modules>=0.2.1->google-auth<3,>=1.6.3->tensorboard->keras-tuner) (0.4.8)\n",
      "Requirement already satisfied: oauthlib>=3.0.0 in c:\\users\\nicola\\anaconda3\\lib\\site-packages (from requests-oauthlib>=0.7.0->google-auth-oauthlib<0.5,>=0.4.1->tensorboard->keras-tuner) (3.2.0)\n"
     ]
    }
   ],
   "source": [
    "!pip install gensim\n",
    "!pip install keras-tuner"
   ]
  },
  {
   "cell_type": "code",
   "execution_count": 2,
   "metadata": {
    "id": "MLTACltptpOR"
   },
   "outputs": [
    {
     "name": "stderr",
     "output_type": "stream",
     "text": [
      "C:\\Users\\Nicola\\anaconda3\\lib\\site-packages\\gensim\\utils.py:1212: UserWarning: detected Windows; aliasing chunkize to chunkize_serial\n",
      "  warnings.warn(\"detected Windows; aliasing chunkize to chunkize_serial\")\n"
     ]
    }
   ],
   "source": [
    "# system packages\n",
    "import os\n",
    "import shutil\n",
    "import sys\n",
    "\n",
    "import pandas as pd\n",
    "import numpy as np\n",
    "import matplotlib.pyplot as plt\n",
    "import itertools\n",
    "import random\n",
    "from functools import partial\n",
    "\n",
    "from tqdm import tqdm\n",
    "\n",
    "from typing import List, Callable, Dict, Tuple\n",
    "import urllib.request  #  download files\n",
    "import zipfile\n",
    "\n",
    "from collections import OrderedDict\n",
    "import re\n",
    "import nltk\n",
    "import pickle\n",
    "\n",
    "\n",
    "\n",
    "import tensorflow as tf\n",
    "from tensorflow import keras as ks\n",
    "from tensorflow.keras import layers\n",
    "import keras_tuner as kt\n",
    "\n",
    "from sklearn.metrics import f1_score, accuracy_score, classification_report, confusion_matrix, ConfusionMatrixDisplay\n",
    "\n",
    "\n",
    "import gensim\n",
    "import gensim.downloader as gloader"
   ]
  },
  {
   "cell_type": "code",
   "execution_count": 3,
   "metadata": {},
   "outputs": [],
   "source": [
    "# I define a fixed seed, this way it is possible to reproduce the results\n",
    "\n",
    "def set_reproducibility(seed):\n",
    "    random.seed(seed)\n",
    "    np.random.seed(seed)\n",
    "    tf.random.set_seed(seed)\n",
    "    os.environ['TF_DETERMINISTIC_OPS'] = '1'\n",
    "    \n",
    "\n",
    "SEED = 42\n",
    "\n",
    "set_reproducibility(SEED)"
   ]
  },
  {
   "cell_type": "markdown",
   "metadata": {
    "id": "8JJkTS7sBreE"
   },
   "source": [
    "# Prerequisites - Database download and extraction\n",
    "First of all we are going to download and extract the \"Dependecy Treebank\" database from NLTK, to do that we are going to define some specific function.\n"
   ]
  },
  {
   "cell_type": "code",
   "execution_count": 4,
   "metadata": {
    "id": "OlC8A4_lv94_"
   },
   "outputs": [
    {
     "name": "stderr",
     "output_type": "stream",
     "text": [
      "\"rm\" non Š riconosciuto come comando interno o esterno,\n",
      " un programma eseguibile o un file batch.\n"
     ]
    }
   ],
   "source": [
    "!rm -rf Datasets"
   ]
  },
  {
   "cell_type": "code",
   "execution_count": 5,
   "metadata": {
    "id": "eJk39m4BywQc"
   },
   "outputs": [],
   "source": [
    "def download_dataset(download_path: str, url: str):\n",
    "  \"\"\"\n",
    "  Utility function that allows to download a dataset given a specific url\n",
    "\n",
    "  param: download_path: path where the resource will be downloaded\n",
    "  param: url: the url where the resource can be found\n",
    "  \"\"\"\n",
    "  if not os.path.exists(download_path):\n",
    "    print(\"Downloading dataset...\")\n",
    "    urllib.request.urlretrieve(url, download_path)\n",
    "    print(\"Download complete!\")\n",
    "\n",
    "def extract_dataset(download_path: str, extract_path: str):\n",
    "    \"\"\"\n",
    "      Utility function that allows to extract a dataset\n",
    "\n",
    "      param: download_path: path where the resource is stored\n",
    "      param: extract_path: path where the resource will be extracted\n",
    "    \"\"\"\n",
    "    print(\"Extracting dataset... (it may take a while...)\")\n",
    "    with zipfile.ZipFile(dataset_path,\"r\") as zip_ref:\n",
    "      zip_ref.extractall(dataset_folder)\n",
    "    print(\"Extraction completed!\")"
   ]
  },
  {
   "cell_type": "code",
   "execution_count": 6,
   "metadata": {
    "colab": {
     "base_uri": "https://localhost:8080/"
    },
    "id": "xLyspb6rB1_1",
    "outputId": "ef7dc88f-5cbd-421b-c4ca-5ded8c3ff574"
   },
   "outputs": [
    {
     "name": "stdout",
     "output_type": "stream",
     "text": [
      "Extracting dataset... (it may take a while...)\n",
      "Extraction completed!\n"
     ]
    }
   ],
   "source": [
    "dataset_name = \"dependency_treebank\"\n",
    "dataset_folder = os.path.join(os.getcwd(), \"Datasets\")\n",
    "\n",
    "if not os.path.exists(dataset_folder):\n",
    "    os.makedirs(dataset_folder)\n",
    "\n",
    "url = 'https://raw.githubusercontent.com/nltk/nltk_data/gh-pages/packages/corpora/dependency_treebank.zip'\n",
    "dataset_path = os.path.join(dataset_folder, \"dependency_treebank.zip\")\n",
    "\n",
    "\n",
    "download_dataset(dataset_path, url)\n",
    "extract_dataset(dataset_path, dataset_folder)"
   ]
  },
  {
   "cell_type": "markdown",
   "metadata": {
    "id": "F4d7J32DCSBQ"
   },
   "source": [
    "# Data preparation\n",
    "In this section we are going to prepare the data, in order we will encode the data, then explore them and finally we'll build the vocabularies."
   ]
  },
  {
   "cell_type": "markdown",
   "metadata": {
    "id": "i_AMpdIjJNyX"
   },
   "source": [
    "## Dataset encoding\n",
    "For the dataset encoding we decided to split the documents into sentences. We decided to split documents into sentences because in a sequence labeling task like this one, the grammatical analysis for the tag assignment must focus on single sentences and not on the full document.\n",
    "<br> In the following subsection we are going to define the necessary function to perform the encoding, but first of all we define some constants we will use in this project. <br>\n",
    "\n",
    "For the encoding of the dataset we decided to introduce the boolean variable *to_lowercase*, which if set to True puts all words to lower case.  "
   ]
  },
  {
   "cell_type": "code",
   "execution_count": 7,
   "metadata": {
    "id": "nP_xtO90E7Uc"
   },
   "outputs": [],
   "source": [
    "#Constant Definition\n",
    "\n",
    "COLUMN_DOCUMENT_ID = 'doc_id'\n",
    "COLUMN_SENTENCE_ID = 'sentence_id'\n",
    "COLUMN_WORDS = 'words'\n",
    "COLUMN_TAGS = 'tags'\n",
    "COLUMN_WORDS_INDEXED = 'indexed_words'\n",
    "COLUMN_TAGS_INDEXED = 'indexed_tags'\n",
    "\n",
    "\n",
    "MODEL_TYPE  =  'model_type'\n",
    "BASELINE = 'baseline'\n",
    "GRU = 'gru'\n",
    "DOUBLE_LSTM = 'double_lstm'\n",
    "DOUBLE_FC = 'double_fc'\n",
    "\n",
    "\n",
    "# Keys of the dictionary\n",
    "LEARNING_RATE = 'lr'\n",
    "OPTIMIZER = 'optim'\n",
    "BATCH_SIZE = 'batch_size'\n",
    "VAL_ACCURACY = 'val_accuracy'\n",
    "\n",
    "LSTM_UNITS = 'lstm_units'\n",
    "GRU_UNITS = 'gru_units'\n",
    "SECOND_LSTM_UNITS = 'second_lstm_units'\n",
    "FC_UNITS = 'fc_units'\n",
    "FC_ACTIVATIONS = 'fc_activ'"
   ]
  },
  {
   "cell_type": "code",
   "execution_count": 8,
   "metadata": {
    "id": "7kDtwWUyw1XA"
   },
   "outputs": [],
   "source": [
    "def encode_document(doc_path: str, to_lowercase:bool) -> List[Dict]:\n",
    "  \"\"\"\n",
    "  The function allows to encode all the information of a single document,\n",
    "  splitting it into sentences, identified by document id and a sentence id.\n",
    "\n",
    "  :param doc_path: path of the document which has to be encoded\n",
    "  :param to_lowercase: boolean which is used to decide whether or not to conver the whole text to lowercase\n",
    "\n",
    "  :return document_rows: a list of vocabularies containing, for each sentence of the document\n",
    "        the following information:\n",
    "          - document_id: identifier for the document\n",
    "          - sentence_id: identifier for the sentence in the document\n",
    "          - words: list containing all the tokens in the sentence\n",
    "          - tags: list containing all the tags for the tokens of the sentence\n",
    "  \"\"\"\n",
    "  doc = os.path.basename(doc_path)\n",
    "  document_rows = [] # list which will contain all the rows for the document we are currently parsing\n",
    "  doc_id = int(re.findall(r'\\d+', doc)[0]) # finds the number of the document\n",
    "\n",
    "  with open(doc_path, mode='r', encoding='utf-8') as text_file:\n",
    "    text = text_file.read()\n",
    "    text = text.split(\"\\n\\n\") # A new sentence is identified by two \\n characters\n",
    "\n",
    "    sentence_id = 0 # unique id for the sentence in the document\n",
    "\n",
    "    for sentence in text:\n",
    "      sentence_id += 1\n",
    "\n",
    "      words_array = [] \n",
    "      tags_array = []\n",
    "\n",
    "      lines = sentence.split(\"\\n\")\n",
    "\n",
    "      for line in lines:\n",
    "        data = line.split('\\t') # data contains information on both the word and the POS tag\n",
    "\n",
    "        if line != '':\n",
    "\n",
    "          if to_lowercase:\n",
    "            data[0] = data[0].lower()\n",
    "\n",
    "          words_array.append(data[0])\n",
    "          tags_array.append(data[1])\n",
    "\n",
    "      # Once extracted all the information about the sentence in the document, I build the entry for the dataframe\n",
    "      dataframe_entry = {\n",
    "            COLUMN_DOCUMENT_ID: doc_id,\n",
    "            COLUMN_SENTENCE_ID: sentence_id,\n",
    "            COLUMN_WORDS: words_array,\n",
    "            COLUMN_TAGS: tags_array\n",
    "        }\n",
    "\n",
    "      document_rows.append(dataframe_entry)\n",
    "\n",
    "  return document_rows\n",
    "\n",
    "\n",
    "def encode_dataset(dataset_name: str, to_lowercase: bool = False) -> pd.DataFrame:\n",
    "  \"\"\"\n",
    "    The function allows us to encode the dataset we will use for the assignment\n",
    "\n",
    "    :param dataset_name: String representing the name of the dataset\n",
    "    :param to_lowercase: Boolean value representing whether or not to convert the whole text to lowercase\n",
    "\n",
    "    :return df: dataframe which contains all the sentences of the documents, sorted by document id.\n",
    "  \"\"\"\n",
    "  dataframe_rows = []\n",
    "  dataset_folder = os.path.join(os.getcwd(), \"Datasets\", dataset_name)\n",
    "\n",
    "  for doc in os.listdir(dataset_folder):\n",
    "    doc_path = os.path.join(dataset_folder,doc)\n",
    "\n",
    "    try:\n",
    "      document_sentences = encode_document(doc_path, to_lowercase)\n",
    "      for sentence in document_sentences:\n",
    "        dataframe_rows.append(sentence)\n",
    "\n",
    "    except Exception as e:\n",
    "      print('Failed to process %s. Reason: %s' % (doc_path, e))\n",
    "      sys.exit(0)\n",
    "\n",
    "  # transform the list of rows in a proper dataframe\n",
    "  df = pd.DataFrame(dataframe_rows)\n",
    "  df = df[[\"doc_id\", \"sentence_id\", \"words\", \"tags\"]]\n",
    "\n",
    "\n",
    "  # Serialization of the dataframe into a pickle file\n",
    "  folder = os.path.join(os.getcwd(), \"Datasets\", \"Dataframes\", dataset_name)\n",
    "  if not os.path.exists(folder):\n",
    "    os.makedirs(folder)\t     \n",
    "\n",
    "  dataframe_path = os.path.join(folder, dataset_name + \".pkl\")\n",
    "  df.to_pickle(dataframe_path)\n",
    "\n",
    "  return df.sort_values(['doc_id', 'sentence_id'])"
   ]
  },
  {
   "cell_type": "code",
   "execution_count": 9,
   "metadata": {
    "colab": {
     "base_uri": "https://localhost:8080/",
     "height": 276
    },
    "id": "xIbI-frcJmyc",
    "outputId": "a38129a6-a0ae-4d11-9649-1f013e4da5d8"
   },
   "outputs": [
    {
     "name": "stdout",
     "output_type": "stream",
     "text": [
      "Encoding dataset...\n",
      "Encoding completed!\n",
      "Dataset size: (3914, 4)\n",
      "Some examples:\n"
     ]
    },
    {
     "data": {
      "text/html": [
       "<div>\n",
       "<style scoped>\n",
       "    .dataframe tbody tr th:only-of-type {\n",
       "        vertical-align: middle;\n",
       "    }\n",
       "\n",
       "    .dataframe tbody tr th {\n",
       "        vertical-align: top;\n",
       "    }\n",
       "\n",
       "    .dataframe thead th {\n",
       "        text-align: right;\n",
       "    }\n",
       "</style>\n",
       "<table border=\"1\" class=\"dataframe\">\n",
       "  <thead>\n",
       "    <tr style=\"text-align: right;\">\n",
       "      <th></th>\n",
       "      <th>doc_id</th>\n",
       "      <th>sentence_id</th>\n",
       "      <th>words</th>\n",
       "      <th>tags</th>\n",
       "    </tr>\n",
       "  </thead>\n",
       "  <tbody>\n",
       "    <tr>\n",
       "      <th>0</th>\n",
       "      <td>1</td>\n",
       "      <td>1</td>\n",
       "      <td>[pierre, vinken, ,, 61, years, old, ,, will, j...</td>\n",
       "      <td>[NNP, NNP, ,, CD, NNS, JJ, ,, MD, VB, DT, NN, ...</td>\n",
       "    </tr>\n",
       "    <tr>\n",
       "      <th>1</th>\n",
       "      <td>1</td>\n",
       "      <td>2</td>\n",
       "      <td>[mr., vinken, is, chairman, of, elsevier, n.v....</td>\n",
       "      <td>[NNP, NNP, VBZ, NN, IN, NNP, NNP, ,, DT, NNP, ...</td>\n",
       "    </tr>\n",
       "    <tr>\n",
       "      <th>2</th>\n",
       "      <td>2</td>\n",
       "      <td>1</td>\n",
       "      <td>[rudolph, agnew, ,, 55, years, old, and, forme...</td>\n",
       "      <td>[NNP, NNP, ,, CD, NNS, JJ, CC, JJ, NN, IN, NNP...</td>\n",
       "    </tr>\n",
       "    <tr>\n",
       "      <th>3</th>\n",
       "      <td>3</td>\n",
       "      <td>1</td>\n",
       "      <td>[a, form, of, asbestos, once, used, to, make, ...</td>\n",
       "      <td>[DT, NN, IN, NN, RB, VBN, TO, VB, NNP, NN, NNS...</td>\n",
       "    </tr>\n",
       "    <tr>\n",
       "      <th>4</th>\n",
       "      <td>3</td>\n",
       "      <td>2</td>\n",
       "      <td>[the, asbestos, fiber, ,, crocidolite, ,, is, ...</td>\n",
       "      <td>[DT, NN, NN, ,, NN, ,, VBZ, RB, JJ, IN, PRP, V...</td>\n",
       "    </tr>\n",
       "  </tbody>\n",
       "</table>\n",
       "</div>"
      ],
      "text/plain": [
       "   doc_id  sentence_id                                              words  \\\n",
       "0       1            1  [pierre, vinken, ,, 61, years, old, ,, will, j...   \n",
       "1       1            2  [mr., vinken, is, chairman, of, elsevier, n.v....   \n",
       "2       2            1  [rudolph, agnew, ,, 55, years, old, and, forme...   \n",
       "3       3            1  [a, form, of, asbestos, once, used, to, make, ...   \n",
       "4       3            2  [the, asbestos, fiber, ,, crocidolite, ,, is, ...   \n",
       "\n",
       "                                                tags  \n",
       "0  [NNP, NNP, ,, CD, NNS, JJ, ,, MD, VB, DT, NN, ...  \n",
       "1  [NNP, NNP, VBZ, NN, IN, NNP, NNP, ,, DT, NNP, ...  \n",
       "2  [NNP, NNP, ,, CD, NNS, JJ, CC, JJ, NN, IN, NNP...  \n",
       "3  [DT, NN, IN, NN, RB, VBN, TO, VB, NNP, NN, NNS...  \n",
       "4  [DT, NN, NN, ,, NN, ,, VBZ, RB, JJ, IN, PRP, V...  "
      ]
     },
     "execution_count": 9,
     "metadata": {},
     "output_type": "execute_result"
    }
   ],
   "source": [
    "print(\"Encoding dataset...\")\n",
    "df= encode_dataset(dataset_name, to_lowercase=True)\n",
    "print(\"Encoding completed!\")\n",
    "\n",
    "print(f\"Dataset size: {df.shape}\")\n",
    "print(f\"Some examples:\")\n",
    "df.head()"
   ]
  },
  {
   "cell_type": "markdown",
   "metadata": {
    "id": "3O9ErZQLJ0uE"
   },
   "source": [
    "## Data exploration\n",
    "In this subsection we are going to explore our data in order to learn some information like the most frequent words and tags."
   ]
  },
  {
   "cell_type": "code",
   "execution_count": 10,
   "metadata": {
    "id": "j4z1bE2n9dg1"
   },
   "outputs": [],
   "source": [
    "def get_unique_words(df: pd.DataFrame)-> List[str]:\n",
    "    \"\"\"\n",
    "      The function allows to retrieve all the unique words in our dataframe\n",
    "      and return them in a sorted List\n",
    "\n",
    "      :param df: the dataframe from which we want to get all the unique words\n",
    "\n",
    "      :return words_listing: a list of string containing all the unique words\n",
    "\n",
    "    \"\"\"\n",
    "    words_listing = set()\n",
    "    sentences_list = df[COLUMN_WORDS].values.tolist()\n",
    "\n",
    "    for sentence in sentences_list: \n",
    "      words_listing.update(sentence)\n",
    "\n",
    "    return sorted(list(words_listing))\n",
    "\n",
    "def get_unique_tags(df: pd.DataFrame)-> List[str]:\n",
    "    \"\"\"\n",
    "  The function allows to retrieve all the unique tags in our dataframe\n",
    "  and return them in a sorted List\n",
    "\n",
    "  :param df: the dataframe from which we want to get all the unique tags\n",
    "\n",
    "  :return tags_listing: a list of string containing all the unique tags\n",
    "\n",
    "    \"\"\"\n",
    "    tags_listing = set()\n",
    "    tags_list = df[COLUMN_TAGS].values.tolist()\n",
    "    \n",
    "    for tags in tags_list: \n",
    "      tags_listing.update(tags)\n",
    "\n",
    "    return sorted(list(tags_listing))"
   ]
  },
  {
   "cell_type": "code",
   "execution_count": 11,
   "metadata": {
    "colab": {
     "base_uri": "https://localhost:8080/"
    },
    "id": "xPmguBa8KGO8",
    "outputId": "71492c9d-0857-40ae-8fd1-bba9eae669c4"
   },
   "outputs": [
    {
     "name": "stdout",
     "output_type": "stream",
     "text": [
      "Unique words:  10947\n",
      "Unique tags:  45\n"
     ]
    }
   ],
   "source": [
    "words_listing = get_unique_words(df)\n",
    "tags_listing = get_unique_tags(df)\n",
    "print('Unique words: ', len(words_listing))\n",
    "print('Unique tags: ', len(tags_listing))"
   ]
  },
  {
   "cell_type": "markdown",
   "metadata": {
    "id": "eZX5QWvHKZk2"
   },
   "source": [
    "Here we are going to compute the top 10 most frequent tags and words."
   ]
  },
  {
   "cell_type": "code",
   "execution_count": 12,
   "metadata": {
    "colab": {
     "base_uri": "https://localhost:8080/"
    },
    "id": "fp0fjOkfKdY3",
    "outputId": "140c0afa-3102-42bd-ef7b-ae034f4ef4b7"
   },
   "outputs": [
    {
     "name": "stdout",
     "output_type": "stream",
     "text": [
      "Top 10 most common tags:  [('NN', 13166), ('IN', 9857), ('NNP', 9410), ('DT', 8165), ('NNS', 6047), ('JJ', 5834), (',', 4886), ('.', 3874), ('CD', 3546), ('VBD', 3043)]\n",
      "Top 10 most common words:  [(',', 4885), ('the', 4764), ('.', 3828), ('of', 2325), ('to', 2182), ('a', 1988), ('in', 1769), ('and', 1556), (\"'s\", 865), ('for', 853)]\n"
     ]
    }
   ],
   "source": [
    "tags_fd = nltk.probability.FreqDist(itertools.chain(*df[COLUMN_TAGS].values.tolist()))\n",
    "most_common_tags = tags_fd.most_common(10)\n",
    "\n",
    "words_fd = nltk.probability.FreqDist(itertools.chain(*df[COLUMN_WORDS].values.tolist()))\n",
    "most_common_words = words_fd.most_common(10)\n",
    "\n",
    "print('Top 10 most common tags: ', most_common_tags)\n",
    "print('Top 10 most common words: ', most_common_words)\n"
   ]
  },
  {
   "cell_type": "markdown",
   "metadata": {
    "id": "swthbGeAMyvr"
   },
   "source": [
    "Now we are going to plot the ditribution of all the tags that are present in the dataframe and then the distribution of the 50 most frequent words.\n",
    "\n"
   ]
  },
  {
   "cell_type": "code",
   "execution_count": 13,
   "metadata": {
    "colab": {
     "base_uri": "https://localhost:8080/",
     "height": 565
    },
    "id": "NHqcURctM4qA",
    "outputId": "f7472dba-5ab9-44b4-9c69-06bf21de47b2"
   },
   "outputs": [
    {
     "data": {
      "image/png": "[encoded data removed]",
      "text/plain": [
       "<Figure size 800x550 with 1 Axes>"
      ]
     },
     "metadata": {
      "needs_background": "light"
     },
     "output_type": "display_data"
    },
    {
     "data": {
      "text/plain": [
       "<AxesSubplot:title={'center':'Tags distribution'}, xlabel='Samples', ylabel='Counts'>"
      ]
     },
     "execution_count": 13,
     "metadata": {},
     "output_type": "execute_result"
    }
   ],
   "source": [
    "plt.rcParams['figure.figsize'] = [6, 4]\n",
    "plt.rcParams['figure.dpi'] = 100\n",
    "plt.style.use('seaborn-notebook')\n",
    "\n",
    "\n",
    "tags_fd.plot(title=\"Tags distribution\")"
   ]
  },
  {
   "cell_type": "code",
   "execution_count": 14,
   "metadata": {
    "colab": {
     "base_uri": "https://localhost:8080/",
     "height": 590
    },
    "id": "g4ZZTqzTRNkq",
    "outputId": "5ddd6022-b6ab-4f0c-82ff-d45800b4bd0e"
   },
   "outputs": [
    {
     "data": {
      "image/png": "[encoded data removed]",
      "text/plain": [
       "<Figure size 800x550 with 1 Axes>"
      ]
     },
     "metadata": {
      "needs_background": "light"
     },
     "output_type": "display_data"
    },
    {
     "data": {
      "text/plain": [
       "<AxesSubplot:title={'center':'top 50 Words distribution'}, xlabel='Samples', ylabel='Counts'>"
      ]
     },
     "execution_count": 14,
     "metadata": {},
     "output_type": "execute_result"
    }
   ],
   "source": [
    "words_fd.plot(50, title=\"top 50 Words distribution\")"
   ]
  },
  {
   "cell_type": "markdown",
   "metadata": {
    "id": "PteAbN1DSSMV"
   },
   "source": [
    "## Building the vocabularies"
   ]
  },
  {
   "cell_type": "markdown",
   "metadata": {
    "id": "37NrM_p39dWG"
   },
   "source": [
    "In this subsection we are going to build the vocabularies that will be used for the generation of the embedding matrix. We will generate two pairs of vocabularies which allow us to map both words and tags to their index."
   ]
  },
  {
   "cell_type": "code",
   "execution_count": 15,
   "metadata": {
    "id": "RE4fPsv2wn5p"
   },
   "outputs": [],
   "source": [
    "#Constant Definition\n",
    "PADDING_TOKEN_VAL = 0\n",
    "PADDING_TOKEN_STRING = '0'"
   ]
  },
  {
   "cell_type": "code",
   "execution_count": 16,
   "metadata": {
    "id": "yxbYCXBuUMcE"
   },
   "outputs": [],
   "source": [
    "def build_vocabulary(strings : List[str]) -> Tuple[Dict[int, str], Dict[str, int]]:                                               \n",
    "    \"\"\"\n",
    "    Function that allow us to build a vocabulary given a list of string\n",
    "\n",
    "    param: strings: a list of strings\n",
    "\n",
    "    return:\n",
    "      - idx_to_str: vocabulary index to word\n",
    "      - str_to_idx : vocabulary word to index\n",
    "    \"\"\"\n",
    "    \n",
    "    idx_to_str = OrderedDict()\n",
    "    str_to_idx = OrderedDict()\n",
    "    strings = sorted(strings)\n",
    "    \n",
    "    idx_to_str[0] = PADDING_TOKEN_STRING\n",
    "    str_to_idx[PADDING_TOKEN_STRING] = PADDING_TOKEN_VAL\n",
    "\n",
    "    for i, word in enumerate(strings):                \n",
    "        idx_to_str[i+1] = word\n",
    "        str_to_idx[word] = i+1 \n",
    "    \n",
    "    return idx_to_str, str_to_idx\n",
    "                                 "
   ]
  },
  {
   "cell_type": "markdown",
   "metadata": {
    "id": "vII52LS5UyHV"
   },
   "source": [
    "We need to check that we can use 0 as padding token. In order to do this, we have to be sure that it doesn't appear in our lists of unique words and tags."
   ]
  },
  {
   "cell_type": "code",
   "execution_count": 17,
   "metadata": {
    "colab": {
     "base_uri": "https://localhost:8080/"
    },
    "id": "WZNJQGRxU0Xf",
    "outputId": "a95618fe-ada0-4e22-c9c4-0ebe7feddce7"
   },
   "outputs": [
    {
     "name": "stdout",
     "output_type": "stream",
     "text": [
      "we can use 0 as padding token value or we can use \"0\" as padding token tag \n"
     ]
    }
   ],
   "source": [
    "if PADDING_TOKEN_STRING in words_listing or PADDING_TOKEN_VAL in tags_listing:\n",
    "  print(f'we can\\'t use {PADDING_TOKEN_VAL} as padding token value or we can\\'t use {PADDING_TOKEN_STRING} as padding token tag ')\n",
    "else:\n",
    "  print(f'we can use {PADDING_TOKEN_VAL} as padding token value or we can use \"{PADDING_TOKEN_STRING}\" as padding token tag ')\n"
   ]
  },
  {
   "cell_type": "code",
   "execution_count": 18,
   "metadata": {
    "id": "_PeogyVjAD1X"
   },
   "outputs": [],
   "source": [
    "idx_to_word, word_to_idx = build_vocabulary(words_listing)\n",
    "idx_to_tag,tag_to_idx = build_vocabulary(tags_listing)"
   ]
  },
  {
   "cell_type": "markdown",
   "metadata": {
    "id": "iIf83QS5FCLs"
   },
   "source": [
    "Now we can update our dataframe and extend it with the indexed columns (The lists of indexes of each word and each tag)."
   ]
  },
  {
   "cell_type": "code",
   "execution_count": 19,
   "metadata": {
    "id": "JWkp19gaFBoE"
   },
   "outputs": [],
   "source": [
    "def extend_dataframe_with_index( df: pd.DataFrame, word_to_idx: Dict[str, int], tag_to_idx: Dict[str, int]) -> pd.DataFrame:\n",
    "    \"\"\"\n",
    "    The function allows to add columns to the dataframe, adding the column of\n",
    "    the indexed words and the column of the indexed tag. \n",
    "    \n",
    "    The two columns are added  according to the values of the previously created dictionaries.\n",
    "    \n",
    "    :param df: DataFrame that has to be extended\n",
    "    :param word_to_idx: Dictionary containing words as keys and their index as value\n",
    "    :param tag_to_idx: Dictionary containing tags as keys and their index as value\n",
    "    \n",
    "    :return df: Extended dataframe\n",
    "    \"\"\"\n",
    "    column_words_indexed = []\n",
    "    column_tags_indexed = []\n",
    "\n",
    "    for words,tags in zip(df[COLUMN_WORDS],df[COLUMN_TAGS]):\n",
    "        column_words_indexed.append([word_to_idx[word] for word in words ])\n",
    "        column_tags_indexed.append([tag_to_idx[tag] for tag in tags ])\n",
    "\n",
    "    df[COLUMN_WORDS_INDEXED] = column_words_indexed\n",
    "    df[COLUMN_TAGS_INDEXED] = column_tags_indexed\n",
    "\n",
    "    return df"
   ]
  },
  {
   "cell_type": "code",
   "execution_count": 20,
   "metadata": {
    "colab": {
     "base_uri": "https://localhost:8080/"
    },
    "id": "rm5Mr6wZF0mK",
    "outputId": "21d3d17c-aea8-4cda-d1d3-a90410063840"
   },
   "outputs": [
    {
     "name": "stdout",
     "output_type": "stream",
     "text": [
      "Dataset size: (3914, 6)\n"
     ]
    },
    {
     "data": {
      "text/html": [
       "<div>\n",
       "<style scoped>\n",
       "    .dataframe tbody tr th:only-of-type {\n",
       "        vertical-align: middle;\n",
       "    }\n",
       "\n",
       "    .dataframe tbody tr th {\n",
       "        vertical-align: top;\n",
       "    }\n",
       "\n",
       "    .dataframe thead th {\n",
       "        text-align: right;\n",
       "    }\n",
       "</style>\n",
       "<table border=\"1\" class=\"dataframe\">\n",
       "  <thead>\n",
       "    <tr style=\"text-align: right;\">\n",
       "      <th></th>\n",
       "      <th>doc_id</th>\n",
       "      <th>sentence_id</th>\n",
       "      <th>words</th>\n",
       "      <th>tags</th>\n",
       "      <th>indexed_words</th>\n",
       "      <th>indexed_tags</th>\n",
       "    </tr>\n",
       "  </thead>\n",
       "  <tbody>\n",
       "    <tr>\n",
       "      <th>0</th>\n",
       "      <td>1</td>\n",
       "      <td>1</td>\n",
       "      <td>[pierre, vinken, ,, 61, years, old, ,, will, j...</td>\n",
       "      <td>[NNP, NNP, ,, CD, NNS, JJ, ,, MD, VB, DT, NN, ...</td>\n",
       "      <td>[7545, 10540, 20, 822, 10902, 7113, 20, 10776,...</td>\n",
       "      <td>[21, 21, 4, 10, 23, 15, 4, 19, 35, 11, 20, 14,...</td>\n",
       "    </tr>\n",
       "    <tr>\n",
       "      <th>1</th>\n",
       "      <td>1</td>\n",
       "      <td>2</td>\n",
       "      <td>[mr., vinken, is, chairman, of, elsevier, n.v....</td>\n",
       "      <td>[NNP, NNP, VBZ, NN, IN, NNP, NNP, ,, DT, NNP, ...</td>\n",
       "      <td>[6738, 10540, 5659, 2445, 7078, 3936, 6791, 20...</td>\n",
       "      <td>[21, 21, 40, 20, 14, 21, 21, 4, 11, 21, 37, 20...</td>\n",
       "    </tr>\n",
       "    <tr>\n",
       "      <th>2</th>\n",
       "      <td>2</td>\n",
       "      <td>1</td>\n",
       "      <td>[rudolph, agnew, ,, 55, years, old, and, forme...</td>\n",
       "      <td>[NNP, NNP, ,, CD, NNS, JJ, CC, JJ, NN, IN, NNP...</td>\n",
       "      <td>[8678, 1239, 20, 771, 10902, 7113, 1377, 4590,...</td>\n",
       "      <td>[21, 21, 4, 10, 23, 15, 9, 15, 20, 14, 21, 21,...</td>\n",
       "    </tr>\n",
       "    <tr>\n",
       "      <th>3</th>\n",
       "      <td>3</td>\n",
       "      <td>1</td>\n",
       "      <td>[a, form, of, asbestos, once, used, to, make, ...</td>\n",
       "      <td>[DT, NN, IN, NN, RB, VBN, TO, VB, NNP, NN, NNS...</td>\n",
       "      <td>[1028, 4584, 7078, 1553, 7129, 10436, 10046, 6...</td>\n",
       "      <td>[11, 20, 14, 20, 28, 38, 33, 35, 21, 20, 23, 4...</td>\n",
       "    </tr>\n",
       "    <tr>\n",
       "      <th>4</th>\n",
       "      <td>3</td>\n",
       "      <td>2</td>\n",
       "      <td>[the, asbestos, fiber, ,, crocidolite, ,, is, ...</td>\n",
       "      <td>[DT, NN, NN, ,, NN, ,, VBZ, RB, JJ, IN, PRP, V...</td>\n",
       "      <td>[9949, 1553, 4420, 20, 3142, 20, 5659, 10403, ...</td>\n",
       "      <td>[11, 20, 20, 4, 20, 4, 40, 28, 15, 14, 26, 40,...</td>\n",
       "    </tr>\n",
       "  </tbody>\n",
       "</table>\n",
       "</div>"
      ],
      "text/plain": [
       "   doc_id  sentence_id                                              words  \\\n",
       "0       1            1  [pierre, vinken, ,, 61, years, old, ,, will, j...   \n",
       "1       1            2  [mr., vinken, is, chairman, of, elsevier, n.v....   \n",
       "2       2            1  [rudolph, agnew, ,, 55, years, old, and, forme...   \n",
       "3       3            1  [a, form, of, asbestos, once, used, to, make, ...   \n",
       "4       3            2  [the, asbestos, fiber, ,, crocidolite, ,, is, ...   \n",
       "\n",
       "                                                tags  \\\n",
       "0  [NNP, NNP, ,, CD, NNS, JJ, ,, MD, VB, DT, NN, ...   \n",
       "1  [NNP, NNP, VBZ, NN, IN, NNP, NNP, ,, DT, NNP, ...   \n",
       "2  [NNP, NNP, ,, CD, NNS, JJ, CC, JJ, NN, IN, NNP...   \n",
       "3  [DT, NN, IN, NN, RB, VBN, TO, VB, NNP, NN, NNS...   \n",
       "4  [DT, NN, NN, ,, NN, ,, VBZ, RB, JJ, IN, PRP, V...   \n",
       "\n",
       "                                       indexed_words  \\\n",
       "0  [7545, 10540, 20, 822, 10902, 7113, 20, 10776,...   \n",
       "1  [6738, 10540, 5659, 2445, 7078, 3936, 6791, 20...   \n",
       "2  [8678, 1239, 20, 771, 10902, 7113, 1377, 4590,...   \n",
       "3  [1028, 4584, 7078, 1553, 7129, 10436, 10046, 6...   \n",
       "4  [9949, 1553, 4420, 20, 3142, 20, 5659, 10403, ...   \n",
       "\n",
       "                                        indexed_tags  \n",
       "0  [21, 21, 4, 10, 23, 15, 4, 19, 35, 11, 20, 14,...  \n",
       "1  [21, 21, 40, 20, 14, 21, 21, 4, 11, 21, 37, 20...  \n",
       "2  [21, 21, 4, 10, 23, 15, 9, 15, 20, 14, 21, 21,...  \n",
       "3  [11, 20, 14, 20, 28, 38, 33, 35, 21, 20, 23, 4...  \n",
       "4  [11, 20, 20, 4, 20, 4, 40, 28, 15, 14, 26, 40,...  "
      ]
     },
     "execution_count": 20,
     "metadata": {},
     "output_type": "execute_result"
    }
   ],
   "source": [
    "df = extend_dataframe_with_index(df,word_to_idx, tag_to_idx )\n",
    "print(f\"Dataset size: {df.shape}\") \n",
    "df.head()"
   ]
  },
  {
   "cell_type": "markdown",
   "metadata": {
    "id": "6Tz92GDcHQZ2"
   },
   "source": [
    "Once we extended our dataframe we can finally split it into training, validation and test set. The dataset will be divided as follows:\n",
    "* The training set will contain all the sentences of the documents from 1 to 100\n",
    "* The validation set will contain the sentences of the documents from 101 to 150\n",
    "* The test set will contain all the sentences of the documents from 151 to the last one (document 199)"
   ]
  },
  {
   "cell_type": "code",
   "execution_count": 21,
   "metadata": {
    "id": "lnoAuDnQE1Sc"
   },
   "outputs": [],
   "source": [
    "def split_dataframe(df : pd.DataFrame, val_num : int, test_num : int) -> Tuple[pd.DataFrame, pd.DataFrame, pd.DataFrame]:\n",
    "  \"\"\"\n",
    "  Splits a dataframe into training, validation and test set.\n",
    "\n",
    "  :param df: Pandas DataFrame to be splitted\n",
    "  :param val_num: Number of documents which will be part of the validation set\n",
    "  :param test_num: Number of documents which will be in the test set.\n",
    "\n",
    "  :return:\n",
    "    - df_train: Pandas DataFrame containing all the documents of the training set\n",
    "    - df_val: Pandas DataFrame containing all the documents of the validation set\n",
    "    - df_test: Pandas DataFrame containing all the documents of the test set\n",
    "\n",
    "  \"\"\"\n",
    "  len_doc = df[COLUMN_DOCUMENT_ID].nunique()\n",
    "\n",
    "  df_train = None\n",
    "  df_test = None\n",
    "  df_val = None\n",
    "  train_num = len_doc - test_num - val_num\n",
    "\n",
    "  df_train = df.loc[df[COLUMN_DOCUMENT_ID].isin(range(train_num + 1))]\n",
    "  df_val = df.loc[df[COLUMN_DOCUMENT_ID].isin(range(train_num + 1, train_num + val_num + 1))]\n",
    "  df_test = df.loc[df[COLUMN_DOCUMENT_ID].isin(range(train_num + val_num + 1, len_doc + 1))]\n",
    "\n",
    "  return (df_train, df_val, df_test)"
   ]
  },
  {
   "cell_type": "code",
   "execution_count": 22,
   "metadata": {
    "colab": {
     "base_uri": "https://localhost:8080/"
    },
    "id": "Z_pIwT9LKuj-",
    "outputId": "4647e755-fd06-484e-8d68-3a142cff9dca"
   },
   "outputs": [
    {
     "name": "stdout",
     "output_type": "stream",
     "text": [
      "Length of training dataset:  1963\n",
      "Length of validation dataset:  1299\n",
      "Length of testing dataset:  652\n"
     ]
    }
   ],
   "source": [
    "df_train, df_val, df_test = split_dataframe(df, val_num=50, test_num=49 )\n",
    "print('Length of training dataset: ', len(df_train))\n",
    "print('Length of validation dataset: ', len(df_val))\n",
    "print('Length of testing dataset: ', len(df_test))"
   ]
  },
  {
   "cell_type": "markdown",
   "metadata": {
    "id": "d3pN-fKcPpzz"
   },
   "source": [
    "# Word Embeddings - GloVe"
   ]
  },
  {
   "cell_type": "markdown",
   "metadata": {
    "id": "-leXIo2YBskN"
   },
   "source": [
    "In this section we are going to perform the word embeddings: we will use GloVe pre-trained embeddings with a fixed dimensionality of 50."
   ]
  },
  {
   "cell_type": "code",
   "execution_count": 23,
   "metadata": {
    "id": "7lZhKHvPP0_e"
   },
   "outputs": [],
   "source": [
    "def load_embedding_model(embedding_dimension: int = 50) -> gensim.models.keyedvectors.KeyedVectors:\n",
    "    \"\"\"\n",
    "    Loads a pre-trained word embedding model via gensim library.\n",
    "\n",
    "    :param model_type: name of the word embedding model to load.\n",
    "    :param embedding_dimension: size of the embedding space to consider\n",
    "\n",
    "    :return\n",
    "        - pre-trained word embedding model (gensim KeyedVectors object)\n",
    "    \"\"\"\n",
    "    download_path = \"glove-wiki-gigaword-{}\".format(embedding_dimension)\n",
    " \n",
    "    try:\n",
    "        emb_model = gloader.load(download_path)\n",
    "    except ValueError as e:\n",
    "        print(\"Invalid embedding model name! Check the embedding dimension:\")\n",
    "        print(\"Glove: 50, 100, 200, 300\")\n",
    "        raise e\n",
    "\n",
    "    return emb_model"
   ]
  },
  {
   "cell_type": "code",
   "execution_count": 24,
   "metadata": {
    "colab": {
     "base_uri": "https://localhost:8080/"
    },
    "id": "F18aeE4BQQMq",
    "outputId": "a3b9dc7c-f87a-43f5-eff0-65a7d5349797"
   },
   "outputs": [],
   "source": [
    "EMBEDDING_DIMENSION = 50\n",
    "embedding_model = load_embedding_model(embedding_dimension=EMBEDDING_DIMENSION)"
   ]
  },
  {
   "cell_type": "markdown",
   "metadata": {},
   "source": [
    "Now that we have the GloVe embeddings we can check if there are any Out of Vocabulary words (OOV). We consider a word as OOV if it is present in our set but not in the GloVe embeddings."
   ]
  },
  {
   "cell_type": "code",
   "execution_count": 25,
   "metadata": {
    "id": "IyhUSVnrRsYr"
   },
   "outputs": [],
   "source": [
    "def check_OOV_terms(embedding_model: gensim.models.keyedvectors.KeyedVectors, word_listing: List[str]):\n",
    "    \"\"\"\n",
    "    Checks differences between pre-trained embedding model vocabulary\n",
    "    and dataset specific vocabulary in order to highlight out-of-vocabulary terms.\n",
    "\n",
    "    :param embedding_model: pre-trained word embedding model (gensim wrapper)\n",
    "    :param word_listing: dataset specific vocabulary (list)\n",
    "\n",
    "    :return\n",
    "        - list of OOV terms\n",
    "    \"\"\"\n",
    "    embedding_vocabulary = set(embedding_model.vocab.keys())\n",
    "    oov = set(word_listing).difference(embedding_vocabulary)\n",
    "    return list(oov)"
   ]
  },
  {
   "cell_type": "code",
   "execution_count": 26,
   "metadata": {
    "colab": {
     "base_uri": "https://localhost:8080/"
    },
    "id": "KU6VfB2HVk3L",
    "outputId": "16711605-4c51-4dab-9622-04d452660b80"
   },
   "outputs": [
    {
     "name": "stdout",
     "output_type": "stream",
     "text": [
      "Total OOV terms: 676 (6.18%)\n",
      "Training set OOV terms: 359 (4.85%)\n",
      "Validion set OOV terms: 213 (3.93%)\n",
      "Test set OOV terms: 161 (4.73%)\n"
     ]
    }
   ],
   "source": [
    "total_oov_terms = check_OOV_terms(embedding_model, words_listing)\n",
    "total_oov_percentage = float(len(total_oov_terms)) * 100 / len(words_listing)\n",
    "\n",
    "train_unique_words = get_unique_words(df_train)\n",
    "train_oov_terms = check_OOV_terms(embedding_model, train_unique_words)\n",
    "train_oov_percentage = float(len(train_oov_terms)) * 100 / len(train_unique_words)\n",
    "\n",
    "val_unique_words = get_unique_words(df_val)\n",
    "val_oov_terms = check_OOV_terms(embedding_model, val_unique_words)\n",
    "val_oov_percentage = float(len(val_oov_terms)) * 100 / len(val_unique_words)\n",
    "\n",
    "test_unique_words = get_unique_words(df_test)\n",
    "test_oov_terms = check_OOV_terms(embedding_model, test_unique_words)\n",
    "test_oov_percentage = float(len(test_oov_terms)) * 100 / len(test_unique_words)\n",
    "\n",
    "\n",
    "print(f\"Total OOV terms: {len(total_oov_terms)} ({total_oov_percentage:.2f}%)\")\n",
    "print(f\"Training set OOV terms: {len(train_oov_terms)} ({train_oov_percentage:.2f}%)\")\n",
    "print(f\"Validion set OOV terms: {len(val_oov_terms)} ({val_oov_percentage:.2f}%)\")\n",
    "print(f\"Test set OOV terms: {len(test_oov_terms)} ({test_oov_percentage:.2f}%)\")"
   ]
  },
  {
   "cell_type": "markdown",
   "metadata": {},
   "source": [
    "We now define the functions used to build and update the embedding matrix. We decided to create a function which allows to compute the embedding vector, which is used only for the OOV terms. It is possible to compute the embedding vector in 3 static ways:\n",
    "* Using a random vector;\n",
    "* Using a fixed placeholder\n",
    "* Computing the mean of the neighbors of the single term"
   ]
  },
  {
   "cell_type": "code",
   "execution_count": 27,
   "metadata": {
    "id": "ux46NO47Yubb"
   },
   "outputs": [],
   "source": [
    "def compute_embedding_vector(word : str, \n",
    "                             mode : str, \n",
    "                             embedding_model : gensim.models.keyedvectors.KeyedVectors,\n",
    "                             placeholder : float = 0.,\n",
    "                             neighbors=None):\n",
    "    \"\"\"\n",
    "    The function allows to compute the embedding vector of a given word in one of 3 different modalities: placeholder, random\n",
    "    or mean. \n",
    "    \n",
    "    :param word: word of which we want to compute the embedding vector\n",
    "    :param mode: modality in which the embedding vector will be computed\n",
    "    :param embedding_model: embedding model\n",
    "    :param placeholder: (optional) represents the value for the placeholder. Default to 0\n",
    "    :param neighbors: list of words which are close to the target word, it is used only in case of mean as modality.\n",
    "    \n",
    "    :return word_vector: Embedding of the word.\n",
    "    \n",
    "    \"\"\"\n",
    "    \n",
    "    \n",
    "    word_vector = []\n",
    "    if mode == 'random':\n",
    "        word_vector = np.random.uniform(low=-0.05, high=0.05, size=EMBEDDING_DIMENSION)\n",
    "\n",
    "    elif mode == 'placeholder':\n",
    "        word_vector = [placeholder] * EMBEDDING_DIMENSION\n",
    "\n",
    "    elif mode == 'mean': \n",
    "        #take neighbors for the specified word\n",
    "        neighborhood = neighbors[word]\n",
    "        not_oov_neighbors = []\n",
    "\n",
    "        #check if there is any OOV between the neighbors\n",
    "        for n in neighborhood:\n",
    "            if n in embedding_model.vocab.keys():\n",
    "              not_oov_neighbors.append(embedding_model[n])\n",
    "\n",
    "        # If there is at least one neighbor compute the mean of their word vectorsm,\n",
    "        # Otherwise, use random mode\n",
    "        if len(not_oov_neighbors) > 0:\n",
    "          word_vector = np.mean(not_oov_neighbors, axis=0)\n",
    "        else:\n",
    "          word_vector = np.random.uniform(low=-0.05, high=0.05, size=EMBEDDING_DIMENSION)\n",
    "    \n",
    "    return word_vector\n",
    "      \n",
    "\n",
    "\n",
    "def build_embedding_matrix(embedding_model: gensim.models.keyedvectors.KeyedVectors,\n",
    "                           word_to_idx: Dict[str, int],\n",
    "                           unique_words: List[str],\n",
    "                           oov_terms: List[str],\n",
    "                           mode = 'random',\n",
    "                           placeholder = 0.5,\n",
    "                           neighbors = None) -> np.ndarray:\n",
    "    \"\"\"\n",
    "    The function allows to build the embedding matrix, given an embedding model and the list of unique words.\n",
    "    \n",
    "    :param embedding_model: embedding model\n",
    "    :param word_to_idx: Dictionary containing all the mappings between words and indexed\n",
    "    :param unique_words: list of unique words\n",
    "    :param mode: mode in which the embedding for the OOV words will be computed. One of 'random', 'placeholder' or\n",
    "                 'mean'. Default is 'random'\n",
    "    :param placeholder: placeholder value used for OOV only in case of placeholder embedding\n",
    "    :param neighbors: list of neighbors for each word.\n",
    "    \n",
    "    :return embedding_matrix: embedding matrix.\n",
    "\n",
    "    \"\"\"\n",
    "\n",
    "    assert mode in ('random', 'placeholder', 'mean')\n",
    "    assert mode != \"mean\" or (mode == \"mean\" and neighbors is not None)\n",
    "\n",
    "    embedding_matrix = np.zeros((len(word_to_idx), EMBEDDING_DIMENSION), dtype=np.float32)\n",
    "\n",
    "    for word in tqdm(unique_words):\n",
    "        idx = word_to_idx[word]\n",
    "        word_vector = np.zeros((1, EMBEDDING_DIMENSION))\n",
    "\n",
    "        if word  in oov_terms:\n",
    "            word_vector = compute_embedding_vector(word, mode, embedding_model, placeholder,neighbors )\n",
    "        else:\n",
    "            word_vector = embedding_model[word]\n",
    "\n",
    "        embedding_matrix[idx] = word_vector\n",
    "\n",
    "    return embedding_matrix\n",
    "\n",
    "\n",
    "def update_embedding_matrix(embedding_model: gensim.models.keyedvectors.KeyedVectors,\n",
    "                           word_to_idx: Dict[str, int],\n",
    "                           unique_words: List[str],\n",
    "                           oov_terms: List[str],\n",
    "                           prev_embedding_matrix: np.ndarray,\n",
    "                           prev_oov_terms,\n",
    "                           mode = 'random',\n",
    "                           placeholder = 0.5,\n",
    "                           neighbors = None) -> np.ndarray:\n",
    "    \"\"\"\n",
    "    The function allows to update the embedding matrix. This function is useful in a real world scenario.\n",
    "    Given an embedding model and a defined embedding matrix, with the previously oov terms it updates the original\n",
    "    embedding matrix.\n",
    "    \n",
    "    :param embedding_model: embedding model\n",
    "    :param word_to_idx: Dictionary containing all the mappings between words and indexed\n",
    "    :param unique_words: list of unique words\n",
    "    :param oov_terms: list of out of vocabulary terms which have to be updated\n",
    "    :param prev_embedding_matrix: embedding matrix\n",
    "    :param prev_oov_terms:  list of old oov terms, already in the embedding matrix\n",
    "    :param mode: mode in which the embedding for the OOV words will be computed. One of 'random', 'placeholder' or\n",
    "                 'mean'. Default is 'random'\n",
    "    :param placeholder: placeholder value used for OOV only in case of placeholder embedding\n",
    "    :param neighbors: list of neighbors for each word.\n",
    "    \n",
    "    :return prev_embedding_matrix: The updated embedding matrix.\n",
    "\n",
    "    \"\"\"\n",
    "\n",
    "    assert mode in ('random', 'placeholder', 'mean')\n",
    "    assert mode != \"mean\" or (mode == \"mean\" and neighbors is not None)\n",
    "    \n",
    "    unseen_oov_terms = list(set(oov_terms) - set(prev_oov_terms))    \n",
    "\n",
    "    for word in tqdm(unique_words):\n",
    "        idx = word_to_idx[word]\n",
    "        word_vector = np.zeros((1, EMBEDDING_DIMENSION))\n",
    "\n",
    "        if word in unseen_oov_terms:\n",
    "            word_vector = compute_embedding_vector(word, mode, embedding_model, placeholder,neighbors )\n",
    "        elif word not in prev_oov_terms:\n",
    "            word_vector = embedding_model[word]\n",
    "\n",
    "        prev_embedding_matrix[idx] = word_vector\n",
    "\n",
    "    return prev_embedding_matrix\n"
   ]
  },
  {
   "cell_type": "markdown",
   "metadata": {
    "id": "IgyS_IMgxC-K"
   },
   "source": [
    "Of the three modalities defined before we will run our tests using as mode the mean"
   ]
  },
  {
   "cell_type": "code",
   "execution_count": 28,
   "metadata": {
    "id": "uMHNBTA_xFyw"
   },
   "outputs": [],
   "source": [
    "EMBEDDING_OOV_MODE = 'mean'"
   ]
  },
  {
   "cell_type": "code",
   "execution_count": 29,
   "metadata": {
    "id": "G0hxBFs3xIPj"
   },
   "outputs": [],
   "source": [
    "def find_indices(list_to_check, item_to_find):\n",
    "    indices = []\n",
    "    for idx, value in enumerate(list_to_check):\n",
    "        if value == item_to_find:\n",
    "            indices.append(idx)\n",
    "    return indices\n",
    "\n",
    "\n",
    "def compute_neighbors(words : str, sentences : List[List[str]], window_size : int = 1):\n",
    "  neighbors = OrderedDict()\n",
    "\n",
    "  for word in words:\n",
    "    neighborhood = []\n",
    "\n",
    "    for sentence in sentences:\n",
    "      if word in sentence:\n",
    "        indeces = find_indices(sentence, word)\n",
    "        for idx in indeces:\n",
    "          prev_context = sentence[ max(0, idx - window_size) : idx]\n",
    "          next_context = sentence[idx+1 : min(idx+window_size + 1, len(sentence))]\n",
    "\n",
    "          neighborhood.extend(prev_context)\n",
    "          neighborhood.extend(next_context)\n",
    "    \n",
    "    neighborhood = list(set(neighborhood))\n",
    "    if word in neighborhood:\n",
    "        neighborhood.remove(word)\n",
    "\n",
    "    neighbors[word] = neighborhood\n",
    "\n",
    "  return neighbors"
   ]
  },
  {
   "cell_type": "markdown",
   "metadata": {
    "id": "X26W4NvRxMF-"
   },
   "source": [
    "We can now compute the neighbors in the training set for the OOV words of the training set"
   ]
  },
  {
   "cell_type": "code",
   "execution_count": 30,
   "metadata": {
    "colab": {
     "base_uri": "https://localhost:8080/"
    },
    "id": "DDMMRa64xNfu",
    "outputId": "1727a859-558c-4b0d-9595-83d55f2f99c6"
   },
   "outputs": [
    {
     "name": "stdout",
     "output_type": "stream",
     "text": [
      "First 3 OOV in the training set -> ['sacramento-based', '361,376', '436.01']\n",
      "Corresponding neighbors:\n",
      "oov: \"sacramento-based\" -> neighbors ['s&l', 'the']\n",
      "oov: \"361,376\" -> neighbors ['units', 'to']\n",
      "oov: \"436.01\" -> neighbors ['.', 'to']\n"
     ]
    }
   ],
   "source": [
    "train_oov_neighbors = compute_neighbors(train_oov_terms, df_train[COLUMN_WORDS].to_numpy(), window_size = 1)\n",
    "\n",
    "print(f'First 3 OOV in the training set -> {train_oov_terms[:3]}')\n",
    "print(f'Corresponding neighbors:')\n",
    "\n",
    "for oov in train_oov_terms[:3]:\n",
    "  print(f'oov: \"{oov}\" -> neighbors {train_oov_neighbors[oov]}')"
   ]
  },
  {
   "cell_type": "code",
   "execution_count": 31,
   "metadata": {
    "colab": {
     "base_uri": "https://localhost:8080/"
    },
    "id": "KEmR3eZAc3xp",
    "outputId": "8128e8e8-4f4a-4c3d-cab4-67cd0c19e76a"
   },
   "outputs": [
    {
     "name": "stderr",
     "output_type": "stream",
     "text": [
      "100%|███████████████████████████████████████████████████████████████████████████| 7404/7404 [00:00<00:00, 84098.03it/s]"
     ]
    },
    {
     "name": "stdout",
     "output_type": "stream",
     "text": [
      "\n",
      " Train embedding matrix shape: (10948, 50)\n",
      "Padding token embedding:  [0. 0. 0. 0. 0. 0. 0. 0. 0. 0. 0. 0. 0. 0. 0. 0. 0. 0. 0. 0. 0. 0. 0. 0.\n",
      " 0. 0. 0. 0. 0. 0. 0. 0. 0. 0. 0. 0. 0. 0. 0. 0. 0. 0. 0. 0. 0. 0. 0. 0.\n",
      " 0. 0.]\n",
      "\n",
      "Embedding for the word \"the\" :  [ 4.1800e-01  2.4968e-01 -4.1242e-01  1.2170e-01  3.4527e-01 -4.4457e-02\n",
      " -4.9688e-01 -1.7862e-01 -6.6023e-04 -6.5660e-01  2.7843e-01 -1.4767e-01\n",
      " -5.5677e-01  1.4658e-01 -9.5095e-03  1.1658e-02  1.0204e-01 -1.2792e-01\n",
      " -8.4430e-01 -1.2181e-01 -1.6801e-02 -3.3279e-01 -1.5520e-01 -2.3131e-01\n",
      " -1.9181e-01 -1.8823e+00 -7.6746e-01  9.9051e-02 -4.2125e-01 -1.9526e-01\n",
      "  4.0071e+00 -1.8594e-01 -5.2287e-01 -3.1681e-01  5.9213e-04  7.4449e-03\n",
      "  1.7778e-01 -1.5897e-01  1.2041e-02 -5.4223e-02 -2.9871e-01 -1.5749e-01\n",
      " -3.4758e-01 -4.5637e-02 -4.4251e-01  1.8785e-01  2.7849e-03 -1.8411e-01\n",
      " -1.1514e-01 -7.8581e-01]\n"
     ]
    },
    {
     "name": "stderr",
     "output_type": "stream",
     "text": [
      "\n"
     ]
    }
   ],
   "source": [
    "embeddings = build_embedding_matrix(\n",
    "    embedding_model,\n",
    "    word_to_idx,\n",
    "    train_unique_words,\n",
    "    train_oov_terms,\n",
    "    mode=EMBEDDING_OOV_MODE,\n",
    "    neighbors = train_oov_neighbors\n",
    ")\n",
    "\n",
    "print(\"\\n Train embedding matrix shape: {}\".format(embeddings.shape))\n",
    "print('Padding token embedding: ', embeddings[0])\n",
    "print()\n",
    "print('Embedding for the word \"the\" : ', embeddings[word_to_idx['the']] )"
   ]
  },
  {
   "cell_type": "markdown",
   "metadata": {
    "id": "fIO3K2Us0UZd"
   },
   "source": [
    "We update embedding matrix with the val split"
   ]
  },
  {
   "cell_type": "code",
   "execution_count": 32,
   "metadata": {
    "colab": {
     "base_uri": "https://localhost:8080/"
    },
    "id": "q6XPuPcz0Cx6",
    "outputId": "28765417-1cb7-4c04-a426-43d10ce56b68"
   },
   "outputs": [
    {
     "name": "stdout",
     "output_type": "stream",
     "text": [
      "number of val OOV not computed yet: 189\n",
      "First 10 example of new OOV from val set: ['middle-ground', '30,537', 'multi-crystal', 'liquid-nitrogen', 'seven-million-ton', 'four-foot-high', 'anti-program', 'citizen-sparked', 'severable', 'contingency-fee']\n",
      "Actual embedding vector for 'middle-ground' ->  [0. 0. 0. 0. 0. 0. 0. 0. 0. 0. 0. 0. 0. 0. 0. 0. 0. 0. 0. 0. 0. 0. 0. 0.\n",
      " 0. 0. 0. 0. 0. 0. 0. 0. 0. 0. 0. 0. 0. 0. 0. 0. 0. 0. 0. 0. 0. 0. 0. 0.\n",
      " 0. 0.]\n"
     ]
    }
   ],
   "source": [
    "unseen_oov_terms = list(set(val_oov_terms) - set(train_oov_terms))\n",
    "print('number of val OOV not computed yet:', len(unseen_oov_terms))\n",
    "print('First 10 example of new OOV from val set:', unseen_oov_terms[:10])\n",
    "print(f\"Actual embedding vector for '{unseen_oov_terms[0]}' -> \",embeddings[word_to_idx[unseen_oov_terms[0]]] )"
   ]
  },
  {
   "cell_type": "code",
   "execution_count": 33,
   "metadata": {
    "colab": {
     "base_uri": "https://localhost:8080/"
    },
    "id": "JQYu0mBL18CO",
    "outputId": "2e21727a-3c47-402f-af6e-27026b9564ad"
   },
   "outputs": [
    {
     "name": "stderr",
     "output_type": "stream",
     "text": [
      "100%|███████████████████████████████████████████████████████████████████████████| 5420/5420 [00:00<00:00, 69143.47it/s]"
     ]
    },
    {
     "name": "stdout",
     "output_type": "stream",
     "text": [
      "\n",
      "New embedding vector for 'middle-ground' ->  [ 5.2895498e-01 -2.4913050e-01 -1.5628856e-01 -6.1901450e-01\n",
      " -7.9773998e-01  3.5921499e-01 -4.4419000e-01 -2.7867001e-01\n",
      " -5.1681501e-01 -1.0260001e-02 -4.3265000e-01 -3.3689998e-02\n",
      " -4.8154500e-01  1.0744050e-01  1.6400069e-03 -3.0272499e-01\n",
      "  1.0425000e-01 -5.0229502e-01  6.9554502e-01 -3.2394353e-01\n",
      "  5.7888997e-01 -3.5925600e-01 -1.8680501e-01 -3.8243499e-01\n",
      "  3.4470007e-02 -1.2811000e+00 -1.6010001e-01 -5.2967000e-01\n",
      " -4.9235499e-01  4.0417001e-01  3.5102000e+00  2.4925499e-01\n",
      " -3.3138999e-01 -6.5911001e-01 -1.7890501e-01  3.3479649e-01\n",
      " -9.0414003e-02  2.7689201e-01 -4.7897500e-01  3.1349152e-01\n",
      " -9.1755998e-01  5.1540010e-02 -6.2110014e-03 -6.6275001e-02\n",
      "  4.3549985e-03  7.9679996e-02 -5.1323998e-01  3.0041349e-01\n",
      " -2.4289995e-02 -5.6518495e-01]\n"
     ]
    },
    {
     "name": "stderr",
     "output_type": "stream",
     "text": [
      "\n"
     ]
    }
   ],
   "source": [
    "val_oov_neighbors = compute_neighbors(val_oov_terms, df_val[COLUMN_WORDS].to_numpy(), window_size = 1)\n",
    "\n",
    "\n",
    "embeddings = update_embedding_matrix(   \n",
    "    embedding_model,\n",
    "    word_to_idx,\n",
    "    val_unique_words,\n",
    "    val_oov_terms,\n",
    "    embeddings,\n",
    "    train_oov_terms,\n",
    "    mode=EMBEDDING_OOV_MODE, \n",
    "    neighbors = val_oov_neighbors)\n",
    "\n",
    "print(f\"\\nNew embedding vector for '{unseen_oov_terms[0]}' -> \",embeddings[word_to_idx[unseen_oov_terms[0]]] )"
   ]
  },
  {
   "cell_type": "markdown",
   "metadata": {
    "id": "t4gzfpcH_gCt"
   },
   "source": [
    "And finally update embedding matrix with the test split"
   ]
  },
  {
   "cell_type": "code",
   "execution_count": 34,
   "metadata": {
    "colab": {
     "base_uri": "https://localhost:8080/"
    },
    "id": "nzK2rSbw_jem",
    "outputId": "252b93ec-d1e2-49ec-db99-658777425c7c"
   },
   "outputs": [
    {
     "name": "stdout",
     "output_type": "stream",
     "text": [
      "number of test OOV not computed yet: 128\n"
     ]
    }
   ],
   "source": [
    "prev_oov_terms = np.unique(train_oov_terms+val_oov_terms)\n",
    "unseen_oov_terms = list(set(test_oov_terms) - set(prev_oov_terms))\n",
    "\n",
    "print('number of test OOV not computed yet:', len(unseen_oov_terms))"
   ]
  },
  {
   "cell_type": "code",
   "execution_count": 35,
   "metadata": {
    "colab": {
     "base_uri": "https://localhost:8080/"
    },
    "id": "_cEI3V9JAcYl",
    "outputId": "650aba1a-4875-4d46-8464-45edc53ba3b6",
    "scrolled": true
   },
   "outputs": [
    {
     "name": "stderr",
     "output_type": "stream",
     "text": [
      "100%|███████████████████████████████████████████████████████████████████████████| 3407/3407 [00:00<00:00, 54814.15it/s]"
     ]
    },
    {
     "name": "stdout",
     "output_type": "stream",
     "text": [
      "\n",
      " Padding token embedding:  [0. 0. 0. 0. 0. 0. 0. 0. 0. 0. 0. 0. 0. 0. 0. 0. 0. 0. 0. 0. 0. 0. 0. 0.\n",
      " 0. 0. 0. 0. 0. 0. 0. 0. 0. 0. 0. 0. 0. 0. 0. 0. 0. 0. 0. 0. 0. 0. 0. 0.\n",
      " 0. 0.]\n",
      "\n",
      "New embedding vector for '434.4' ->  [ 0.790145    0.474099    1.6323      0.0771215   0.54606     0.290035\n",
      " -0.79051    -1.5855501   0.18040499  0.60898995 -1.13911    -0.544845\n",
      "  0.705625   -1.3378      1.84125    -0.41995502 -0.28331     0.48715502\n",
      " -1.04064    -0.032455    1.0080149  -0.1810395   0.06019001 -1.1932\n",
      " -1.0160899  -0.94515     0.282595   -0.69882    -0.07049    -0.56282\n",
      "  3.45825     0.7076      0.150239    1.4131      0.27468145 -0.60366\n",
      "  0.060685   -0.09876201  0.903075   -1.09121    -0.07068501  0.2433595\n",
      "  1.27115     0.44439    -1.29655     0.12384501 -0.87866503  0.2154605\n",
      " -0.576905    0.337905  ]\n"
     ]
    },
    {
     "name": "stderr",
     "output_type": "stream",
     "text": [
      "\n"
     ]
    }
   ],
   "source": [
    "test_oov_neighbors = compute_neighbors(test_oov_terms, df_test[COLUMN_WORDS].to_numpy(), window_size = 1)\n",
    "\n",
    "\n",
    "embeddings = update_embedding_matrix(   \n",
    "    embedding_model,\n",
    "    word_to_idx,\n",
    "    test_unique_words,\n",
    "    test_oov_terms,\n",
    "    embeddings,\n",
    "    prev_oov_terms,\n",
    "    mode=EMBEDDING_OOV_MODE,\n",
    "    neighbors = test_oov_neighbors)\n",
    "\n",
    "\n",
    "print('\\n Padding token embedding: ', embeddings[0])\n",
    "print(f\"\\nNew embedding vector for '{unseen_oov_terms[0]}' -> \",embeddings[word_to_idx[unseen_oov_terms[0]]] )"
   ]
  },
  {
   "cell_type": "markdown",
   "metadata": {
    "id": "B0hTApoqXD9B"
   },
   "source": [
    "# Preprocessing on input and output\n",
    "\n",
    "\n",
    "The first operation we do is padding of input text and one-hot encoding of tags labels. In this way we have all the input sentences of a fixed lenght."
   ]
  },
  {
   "cell_type": "code",
   "execution_count": 36,
   "metadata": {
    "colab": {
     "base_uri": "https://localhost:8080/"
    },
    "id": "Sn2xZwZvbaxZ",
    "outputId": "a1e48742-36a1-47cd-82af-9affa41e8887"
   },
   "outputs": [
    {
     "name": "stdout",
     "output_type": "stream",
     "text": [
      "An example of an indexed sentence [7545, 10540, 20, 822, 10902, 7113, 20, 10776, 5732, 9949, 1996, 1551, 1028, 6971, 3537, 7011, 519, 27]\n",
      "Shape of x_train (1963,)\n",
      "An example of the corresponding indexed tags [21, 21, 4, 10, 23, 15, 4, 19, 35, 11, 20, 14, 11, 15, 20, 21, 10, 7]\n",
      "Shape of y_train (1963,)\n"
     ]
    }
   ],
   "source": [
    "x_train = df_train[COLUMN_WORDS_INDEXED].to_numpy()\n",
    "y_train = df_train[COLUMN_TAGS_INDEXED].to_numpy()\n",
    "\n",
    "print(f'An example of an indexed sentence {x_train[0]}')\n",
    "print(f'Shape of x_train {x_train.shape}')\n",
    "print(f'An example of the corresponding indexed tags {y_train[0]}')\n",
    "print(f'Shape of y_train {y_train.shape}')"
   ]
  },
  {
   "cell_type": "code",
   "execution_count": 37,
   "metadata": {
    "colab": {
     "base_uri": "https://localhost:8080/"
    },
    "id": "o9buc1qgeRHm",
    "outputId": "360327c9-4aa2-42dd-fb29-3b7d459166de"
   },
   "outputs": [
    {
     "name": "stdout",
     "output_type": "stream",
     "text": [
      "Max sequence length in the training set -> 249\n",
      "An example of the first padded indexed sentence [ 7545 10540    20   822 10902  7113    20 10776  5732  9949  1996  1551\n",
      "  1028  6971  3537  7011   519    27     0     0     0     0     0     0\n",
      "     0     0     0     0     0     0     0     0     0     0     0     0\n",
      "     0     0     0     0     0     0     0     0     0     0     0     0\n",
      "     0     0     0     0     0     0     0     0     0     0     0     0\n",
      "     0     0     0     0     0     0     0     0     0     0     0     0\n",
      "     0     0     0     0     0     0     0     0     0     0     0     0\n",
      "     0     0     0     0     0     0     0     0     0     0     0     0\n",
      "     0     0     0     0     0     0     0     0     0     0     0     0\n",
      "     0     0     0     0     0     0     0     0     0     0     0     0\n",
      "     0     0     0     0     0     0     0     0     0     0     0     0\n",
      "     0     0     0     0     0     0     0     0     0     0     0     0\n",
      "     0     0     0     0     0     0     0     0     0     0     0     0\n",
      "     0     0     0     0     0     0     0     0     0     0     0     0\n",
      "     0     0     0     0     0     0     0     0     0     0     0     0\n",
      "     0     0     0     0     0     0     0     0     0     0     0     0\n",
      "     0     0     0     0     0     0     0     0     0     0     0     0\n",
      "     0     0     0     0     0     0     0     0     0     0     0     0\n",
      "     0     0     0     0     0     0     0     0     0     0     0     0\n",
      "     0     0     0     0     0     0     0     0     0     0     0     0\n",
      "     0     0     0     0     0     0     0     0     0]\n",
      "\n",
      "And of the corresponding padded indexed tags [21 21  4 10 23 15  4 19 35 11 20 14 11 15 20 21 10  7  0  0  0  0  0  0\n",
      "  0  0  0  0  0  0  0  0  0  0  0  0  0  0  0  0  0  0  0  0  0  0  0  0\n",
      "  0  0  0  0  0  0  0  0  0  0  0  0  0  0  0  0  0  0  0  0  0  0  0  0\n",
      "  0  0  0  0  0  0  0  0  0  0  0  0  0  0  0  0  0  0  0  0  0  0  0  0\n",
      "  0  0  0  0  0  0  0  0  0  0  0  0  0  0  0  0  0  0  0  0  0  0  0  0\n",
      "  0  0  0  0  0  0  0  0  0  0  0  0  0  0  0  0  0  0  0  0  0  0  0  0\n",
      "  0  0  0  0  0  0  0  0  0  0  0  0  0  0  0  0  0  0  0  0  0  0  0  0\n",
      "  0  0  0  0  0  0  0  0  0  0  0  0  0  0  0  0  0  0  0  0  0  0  0  0\n",
      "  0  0  0  0  0  0  0  0  0  0  0  0  0  0  0  0  0  0  0  0  0  0  0  0\n",
      "  0  0  0  0  0  0  0  0  0  0  0  0  0  0  0  0  0  0  0  0  0  0  0  0\n",
      "  0  0  0  0  0  0  0  0  0]\n",
      "\n",
      "Shape of x_train (1963, 249)\n",
      "Shape of y_train (1963, 249)\n"
     ]
    }
   ],
   "source": [
    "max_sequence_length = len(max(x_train, key=len)) # gets the maximum length of the sentences in the training set\n",
    "print(f'Max sequence length in the training set -> {max_sequence_length}')\n",
    "\n",
    "x_train = ks.utils.pad_sequences(x_train, maxlen = max_sequence_length, padding='post', value = PADDING_TOKEN_VAL)\n",
    "y_train = ks.utils.pad_sequences(y_train, maxlen = max_sequence_length, padding='post', value = PADDING_TOKEN_VAL)\n",
    "print(f'An example of the first padded indexed sentence {x_train[0]}')\n",
    "print()\n",
    "print(f'And of the corresponding padded indexed tags {y_train[0]}')\n",
    "print()\n",
    "print(f'Shape of x_train {x_train.shape}')\n",
    "print(f'Shape of y_train {y_train.shape}')"
   ]
  },
  {
   "cell_type": "markdown",
   "metadata": {
    "id": "REom6gIfh-KD"
   },
   "source": [
    "After this we define the function which allows to do the One-hot encoding of y and then the function which allows to restore the value from the one hot encoding "
   ]
  },
  {
   "cell_type": "code",
   "execution_count": 38,
   "metadata": {
    "id": "gr2ukdlriAB3"
   },
   "outputs": [],
   "source": [
    "def to_categorical(sequences, categories):\n",
    "    cat_sequences = []\n",
    "    for s in sequences:\n",
    "        cats = []\n",
    "        for item in s:\n",
    "            cats.append(np.zeros(categories))\n",
    "            cats[-1][item] = 1.0\n",
    "        cat_sequences.append(cats)\n",
    "    return np.array(cat_sequences)\n",
    "\n",
    "\n",
    "def get_value_from_one_hot(x: List[int]):\n",
    "    return np.argmax(x)"
   ]
  },
  {
   "cell_type": "code",
   "execution_count": 39,
   "metadata": {
    "colab": {
     "base_uri": "https://localhost:8080/"
    },
    "id": "ym8FItlQoSTr",
    "outputId": "7f34ccb7-bbeb-451f-9120-c1efcccef344"
   },
   "outputs": [
    {
     "name": "stdout",
     "output_type": "stream",
     "text": [
      "Shape of y after one-hot encoding:  (1963, 249, 46)\n"
     ]
    }
   ],
   "source": [
    "y_train = to_categorical(y_train, len(tag_to_idx))\n",
    "print('Shape of y after one-hot encoding: ', y_train.shape)"
   ]
  },
  {
   "cell_type": "code",
   "execution_count": 40,
   "metadata": {
    "id": "nRSnugSaYM2M"
   },
   "outputs": [],
   "source": [
    "x_val = df_val[COLUMN_WORDS_INDEXED].to_numpy()\n",
    "y_val = df_val[COLUMN_TAGS_INDEXED].to_numpy()\n",
    "\n",
    "x_val = ks.utils.pad_sequences(x_val, maxlen = max_sequence_length, padding='post', value = PADDING_TOKEN_VAL)\n",
    "y_val = ks.utils.pad_sequences(y_val, maxlen = max_sequence_length, padding='post', value = PADDING_TOKEN_VAL)\n",
    "\n",
    "\n",
    "y_val = to_categorical(y_val, len(tag_to_idx))"
   ]
  },
  {
   "cell_type": "markdown",
   "metadata": {
    "id": "9kHgeng3HmZm"
   },
   "source": [
    "# Model definition"
   ]
  },
  {
   "cell_type": "code",
   "execution_count": 41,
   "metadata": {
    "id": "4UVMvGXQoQlG"
   },
   "outputs": [],
   "source": [
    "# Utility functions that will be used later.\n",
    "\n",
    "def write_params_on_file(filepath: str, params: Dict):\n",
    "  \"\"\"\n",
    "  The function allows to write a dictionary on a .pickle file\n",
    "  \n",
    "  :param filepath: path of the file\n",
    "  :param params: Dictionary of the parameters we want to save\n",
    "  \"\"\"  \n",
    "    \n",
    "  for key in params.keys():\n",
    "    params[key] = str(params[key]) # This is done to make sure we are only storing string elements inside the pickle file\n",
    "  with open(filepath, 'wb') as picklefile: \n",
    "    pickle.dump(params, picklefile, protocol=pickle.HIGHEST_PROTOCOL)\n",
    "\n",
    "\n",
    "def restore_params_from_file(filepath: str) -> Dict[str,str]:\n",
    "  \"\"\"\n",
    "  The function allows to open a pickle file and save all the info stores as key-value pairs inside a dictionary\n",
    "  \n",
    "  :return picklefile: Dictionary containing all the information\n",
    "  \"\"\"  \n",
    "  with open(filepath, 'rb') as scoresFile:\n",
    "    picklefile = pickle.load(scoresFile)\n",
    "\n",
    "  return picklefile"
   ]
  },
  {
   "cell_type": "markdown",
   "metadata": {
    "id": "PAs9Nm5ZHzF5"
   },
   "source": [
    "## Grid Search for hyperparameters tuning\n"
   ]
  },
  {
   "cell_type": "markdown",
   "metadata": {},
   "source": [
    "The quality of a predictive model critically depends on its hyperparameter configuration, but it is poorly understood how these hyperparameters interact with each other to affect the resulting model. \n",
    "An active field in the machine learning research is related to the problem of hyperparameter optimization. We can define this problem as the problem of choosing a set of optimal  hyperparameters for a learning algorithm. \n",
    "\n",
    "A naive solution for this problem would be a grid search on all the possible configuration of hyperparameters, or at least a subset of them, and then choosing the combination which provides the best results. The major drawback of this solution is that it is extremely costly, both in terms of time and CPU usage.\n",
    "\n",
    "For this task we will use the library keras_tuner, which is a scalable hyperparameter optimization framework that solves the pain points of hyperparameter search."
   ]
  },
  {
   "cell_type": "markdown",
   "metadata": {
    "id": "7bClSn0ld3NT"
   },
   "source": [
    "First of all we define the lists of parameters that will be used for the grid search of all models."
   ]
  },
  {
   "cell_type": "code",
   "execution_count": 42,
   "metadata": {
    "id": "BugsR1NLaatz"
   },
   "outputs": [],
   "source": [
    "learning_rates = [1e-2, 1e-3, 1e-4]\n",
    "\n",
    "# Model specific variables\n",
    "lstm_units = [16,32,64,128,256]\n",
    "gru_units = [16,32,64,128,256]\n",
    "fc_units = [16,32,64,128,256]\n",
    "fc_activ = ['relu', 'tanh']"
   ]
  },
  {
   "cell_type": "markdown",
   "metadata": {},
   "source": [
    "The procedure for the hyperparameter tuning will be executed using Hyperband, which is a Bandit-Based Approach to Hyperparameter Optimization proposed by Li et Al.(2018). <br>\n",
    "As defined by the authors in the paper, this procedure relies on a principled early-stopping strategy to allocate resources, allowing it to evaluate orders-of-magnitude more configurations than black-box procedures like Bayesian optimization methods."
   ]
  },
  {
   "cell_type": "markdown",
   "metadata": {
    "id": "QtyG1nsgd-Jd"
   },
   "source": [
    "### Baseline Model\n",
    "\n"
   ]
  },
  {
   "cell_type": "markdown",
   "metadata": {},
   "source": [
    "The first model we will test is a simple model made of a Bidirectional LSTM layer followed by a Dense layer."
   ]
  },
  {
   "cell_type": "markdown",
   "metadata": {},
   "source": [
    "The first step is the definition of the function used to build the model. this function takes as argument hp to define hyperparameters during model creation. "
   ]
  },
  {
   "cell_type": "code",
   "execution_count": 43,
   "metadata": {},
   "outputs": [],
   "source": [
    "def build_baseline_model(hp):\n",
    "    emb = layers.Embedding(input_dim = len(word_to_idx), \n",
    "                              output_dim = EMBEDDING_DIMENSION, \n",
    "                              input_length=max_sequence_length,\n",
    "                              weights = [embeddings],\n",
    "                              trainable = False, # do not train embeddings\n",
    "                              mask_zero = True)\n",
    "    \n",
    "    baseline = ks.Sequential()\n",
    "     \n",
    "    baseline.add(emb)\n",
    "    baseline.add(layers.Bidirectional(layers.LSTM(hp.Choice(LSTM_UNITS, lstm_units), return_sequences = True)))\n",
    "    baseline.add(layers.TimeDistributed(layers.Dense(len(tags_listing) + 1, activation='softmax'))) #outputs the one hot encoding of the class\n",
    "    \n",
    "    hp_learning_rate = hp.Choice(LEARNING_RATE, \n",
    "                                 values=learning_rates\n",
    "                                )\n",
    "    \n",
    "    # Since it is not possible to tune the model passing directly hp.Choice with an optimizer object \n",
    "    # we need to use this workaround\n",
    "    optimizers_dict = {\n",
    "        \"Adam\":    ks.optimizers.Adam(learning_rate=hp_learning_rate),\n",
    "        \"SGD\":     ks.optimizers.SGD(learning_rate=hp_learning_rate),\n",
    "        \"RMSProp\": ks.optimizers.RMSprop(learning_rate=hp_learning_rate)\n",
    "    }\n",
    "    \n",
    "    \n",
    "    hp_optimizers = hp.Choice(\n",
    "        OPTIMIZER, \n",
    "        values=[\"Adam\", \"SGD\", \"RMSProp\"]\n",
    "        )\n",
    "    \n",
    "    baseline.compile(loss='categorical_crossentropy', optimizer= optimizers_dict[hp_optimizers], metrics = ['accuracy'])\n",
    "    \n",
    "    return baseline"
   ]
  },
  {
   "cell_type": "markdown",
   "metadata": {},
   "source": [
    "After the definition of the function to build the model we simply perform a search using the aforementioned search algorithm and then save our best parameters"
   ]
  },
  {
   "cell_type": "code",
   "execution_count": 46,
   "metadata": {
    "scrolled": true
   },
   "outputs": [
    {
     "name": "stdout",
     "output_type": "stream",
     "text": [
      "Trial 30 Complete [00h 05m 18s]\n",
      "val_accuracy: 0.8061764240264893\n",
      "\n",
      "Best val_accuracy So Far: 0.8853221535682678\n",
      "Total elapsed time: 02h 38m 24s\n",
      "INFO:tensorflow:Oracle triggered exit\n"
     ]
    }
   ],
   "source": [
    "tuner_baseline = kt.Hyperband(build_baseline_model,\n",
    "                     objective=kt.Objective(\"val_accuracy\", direction=\"max\"),\n",
    "                     max_epochs=10,\n",
    "                     directory=\"tuner\",\n",
    "                     project_name=\"tuner_baseline\")\n",
    "\n",
    "tuner_baseline.search(x_train, y_train, epochs=10, batch_size=16, validation_data=(x_val, y_val))\n",
    "best_baseline_config = tuner_baseline.get_best_hyperparameters()[0]"
   ]
  },
  {
   "cell_type": "code",
   "execution_count": 47,
   "metadata": {},
   "outputs": [
    {
     "name": "stdout",
     "output_type": "stream",
     "text": [
      "The best configuration found for the Baseline model is the following one:\n",
      "-lstm_units:\t256\n",
      "-lr:\t0.01\n",
      "-optim:\tRMSProp\n"
     ]
    }
   ],
   "source": [
    "BASELINE_MODEL_KEYS = [LSTM_UNITS,LEARNING_RATE,OPTIMIZER]\n",
    "best_params_baseline = dict()\n",
    "\n",
    "\n",
    "print(\"The best configuration found for the Baseline model is the following one:\")\n",
    "for key in BASELINE_MODEL_KEYS:\n",
    "    print(\"-{0}:\\t{1}\".format(key, best_baseline_config.get(key)))\n",
    "    best_params_baseline[key] = best_baseline_config.get(key)"
   ]
  },
  {
   "cell_type": "code",
   "execution_count": 48,
   "metadata": {},
   "outputs": [
    {
     "name": "stdout",
     "output_type": "stream",
     "text": [
      "Saving the best configuration found to file\n",
      "Files saved at the following path:  C:\\Users\\Nicola\\Desktop\\baseline.pickle\n"
     ]
    }
   ],
   "source": [
    "## Save results in the pickle file\n",
    "\n",
    "print(\"Saving the best configuration found to file\")\n",
    "filename = BASELINE + \".pickle\"\n",
    "filepath = os.path.join(os.getcwd(),filename)\n",
    "write_params_on_file(filepath, best_params_baseline)\n",
    "print(\"Files saved at the following path: \", filepath)"
   ]
  },
  {
   "cell_type": "markdown",
   "metadata": {
    "id": "JVJF2bJKIZJI"
   },
   "source": [
    "### GRU model "
   ]
  },
  {
   "cell_type": "markdown",
   "metadata": {},
   "source": [
    "The second architecture we are going to tune is made of a Bidirectional GRU layer, followed by a Dense layer."
   ]
  },
  {
   "cell_type": "code",
   "execution_count": 49,
   "metadata": {},
   "outputs": [],
   "source": [
    "def build_gru_model(hp):\n",
    "    emb = layers.Embedding(input_dim = len(word_to_idx), \n",
    "                              output_dim = EMBEDDING_DIMENSION, \n",
    "                              input_length=max_sequence_length,\n",
    "                              weights = [embeddings],\n",
    "                              trainable = False, # do not train embeddings\n",
    "                              mask_zero = True)\n",
    "    \n",
    "    gru = ks.Sequential()\n",
    "    gru.add(layers.Masking(name='padding_masking', mask_value=PADDING_TOKEN_VAL))\n",
    "    gru.add(emb)\n",
    "    gru.add(layers.Bidirectional(layers.GRU(hp.Choice(LSTM_UNITS, lstm_units), return_sequences = True)))\n",
    "    gru.add(layers.TimeDistributed(layers.Dense(len(tags_listing) + 1, activation='softmax'))) #outputs the one hot encoding of the class\n",
    "    \n",
    "    hp_learning_rate = hp.Choice(LEARNING_RATE, \n",
    "                                 values=learning_rates\n",
    "                                )\n",
    "    optimizers_dict = {\n",
    "        \"Adam\":    ks.optimizers.Adam(learning_rate=hp_learning_rate),\n",
    "        \"SGD\":     ks.optimizers.SGD(learning_rate=hp_learning_rate),\n",
    "        \"RMSProp\": ks.optimizers.RMSprop(learning_rate=hp_learning_rate)\n",
    "    }\n",
    "    \n",
    "    \n",
    "    hp_optimizers = hp.Choice(\n",
    "        OPTIMIZER, \n",
    "        values=[\"Adam\", \"SGD\", \"RMSProp\"]\n",
    "        )\n",
    "    \n",
    "    gru.compile(loss='categorical_crossentropy', optimizer= optimizers_dict[hp_optimizers], metrics = ['accuracy'])\n",
    "    \n",
    "    return gru\n",
    "    "
   ]
  },
  {
   "cell_type": "code",
   "execution_count": 50,
   "metadata": {
    "id": "a8XX5IyTi6lS"
   },
   "outputs": [
    {
     "name": "stdout",
     "output_type": "stream",
     "text": [
      "Trial 30 Complete [00h 06m 21s]\n",
      "val_accuracy: 0.852687656879425\n",
      "\n",
      "Best val_accuracy So Far: 0.8769330382347107\n",
      "Total elapsed time: 02h 30m 00s\n",
      "INFO:tensorflow:Oracle triggered exit\n"
     ]
    }
   ],
   "source": [
    "tuner_gru = kt.Hyperband(build_gru_model,\n",
    "                     objective=kt.Objective(\"val_accuracy\", direction=\"max\"),\n",
    "                     max_epochs=10,\n",
    "                     directory=\"tuner\",\n",
    "                     project_name=\"tuner_gru\")\n",
    "\n",
    "tuner_gru.search(x_train, y_train, epochs=10, batch_size=16, validation_data=(x_val, y_val))\n",
    "best_gru_config = tuner_gru.get_best_hyperparameters()[0]"
   ]
  },
  {
   "cell_type": "code",
   "execution_count": 51,
   "metadata": {
    "id": "sh8vcbRii6lS"
   },
   "outputs": [
    {
     "name": "stdout",
     "output_type": "stream",
     "text": [
      "The best configuration found for the GRU model is the following one:\n",
      "-lstm_units:\t64\n",
      "-lr:\t0.01\n",
      "-optim:\tAdam\n"
     ]
    }
   ],
   "source": [
    "GRU_MODEL_KEYS = [LSTM_UNITS,LEARNING_RATE,OPTIMIZER]\n",
    "best_params_gru = dict()\n",
    "\n",
    "print(\"The best configuration found for the GRU model is the following one:\")\n",
    "for key in GRU_MODEL_KEYS:\n",
    "    print(\"-{0}:\\t{1}\".format(key, best_gru_config.get(key)))\n",
    "    best_params_gru[key] = best_gru_config.get(key)"
   ]
  },
  {
   "cell_type": "code",
   "execution_count": 52,
   "metadata": {},
   "outputs": [
    {
     "name": "stdout",
     "output_type": "stream",
     "text": [
      "Saving the best configuration found to file\n",
      "Files saved at the following path:  C:\\Users\\Nicola\\Desktop\\gru.pickle\n"
     ]
    }
   ],
   "source": [
    "## Save results in the pickle file\n",
    "\n",
    "print(\"Saving the best configuration found to file\")\n",
    "filename = GRU + \".pickle\"\n",
    "filepath = os.path.join(os.getcwd(),filename)\n",
    "write_params_on_file(filepath, best_params_gru)\n",
    "print(\"Files saved at the following path: \", filepath)"
   ]
  },
  {
   "cell_type": "markdown",
   "metadata": {
    "id": "nYVHOk-HIbu7"
   },
   "source": [
    "### Double LSTM Model"
   ]
  },
  {
   "cell_type": "markdown",
   "metadata": {},
   "source": [
    "The third neural architecture is composed by two Bidirectional LSTM layers followed by a Dense layer."
   ]
  },
  {
   "cell_type": "code",
   "execution_count": 53,
   "metadata": {},
   "outputs": [],
   "source": [
    "def build_doubleLSTM_model(hp):\n",
    "    input = layers.Embedding(input_dim = len(word_to_idx), \n",
    "                              output_dim = EMBEDDING_DIMENSION, \n",
    "                              input_length=max_sequence_length,\n",
    "                              weights = [embeddings],\n",
    "                              trainable = False, # do not train embeddings\n",
    "                              mask_zero = True)\n",
    "    \n",
    "    doubleLSTM = ks.Sequential()\n",
    "    doubleLSTM.add(input)\n",
    "    doubleLSTM.add(layers.Bidirectional(layers.LSTM(hp.Choice(LSTM_UNITS, lstm_units), return_sequences = True)))\n",
    "    doubleLSTM.add(layers.Bidirectional(layers.LSTM(hp.Choice(SECOND_LSTM_UNITS, lstm_units), return_sequences = True)))\n",
    "    doubleLSTM.add(layers.TimeDistributed(layers.Dense(len(tags_listing) + 1, activation='softmax'))) #outputs the one hot encoding of the class\n",
    "    \n",
    "    hp_learning_rate = hp.Choice(LEARNING_RATE, \n",
    "                                 values=learning_rates\n",
    "                                )\n",
    "    optimizers_dict = {\n",
    "        \"Adam\":    ks.optimizers.Adam(learning_rate=hp_learning_rate),\n",
    "        \"SGD\":     ks.optimizers.SGD(learning_rate=hp_learning_rate),\n",
    "        \"RMSProp\": ks.optimizers.RMSprop(learning_rate=hp_learning_rate)\n",
    "    }\n",
    "    \n",
    "    \n",
    "    hp_optimizers = hp.Choice(\n",
    "        OPTIMIZER, \n",
    "        values=[\"Adam\", \"SGD\", \"RMSProp\"]\n",
    "        )\n",
    "    \n",
    "    doubleLSTM.compile(loss='categorical_crossentropy', optimizer= optimizers_dict[hp_optimizers], metrics = ['accuracy'])\n",
    "    \n",
    "    return doubleLSTM"
   ]
  },
  {
   "cell_type": "code",
   "execution_count": 63,
   "metadata": {
    "id": "lwh8QqmAi7KI"
   },
   "outputs": [
    {
     "name": "stdout",
     "output_type": "stream",
     "text": [
      "Trial 30 Complete [00h 39m 31s]\n",
      "val_accuracy: 0.1446300894021988\n",
      "\n",
      "Best val_accuracy So Far: 0.8954558372497559\n",
      "Total elapsed time: 11h 11m 00s\n",
      "INFO:tensorflow:Oracle triggered exit\n"
     ]
    }
   ],
   "source": [
    "tuner_doubleLSTM = kt.Hyperband(build_doubleLSTM_model,\n",
    "                     objective=kt.Objective(\"val_accuracy\", direction=\"max\"),\n",
    "                     max_epochs=10,\n",
    "                     directory=\"tuner\",\n",
    "                     project_name=\"tuner_double_lstm\")\n",
    "\n",
    "tuner_doubleLSTM.search(x_train, y_train, epochs=10, batch_size=16, validation_data=(x_val, y_val))\n",
    "best_doubleLSTM_config = tuner_doubleLSTM.get_best_hyperparameters()[0]"
   ]
  },
  {
   "cell_type": "code",
   "execution_count": 64,
   "metadata": {
    "id": "eSFB5Hj2i7KJ"
   },
   "outputs": [
    {
     "name": "stdout",
     "output_type": "stream",
     "text": [
      "The best configuration found for the double LSTM model is the following one:\n",
      "-lstm_units:\t64\n",
      "-second_lstm_units:\t128\n",
      "-lr:\t0.01\n",
      "-optim:\tRMSProp\n"
     ]
    }
   ],
   "source": [
    "DOUBLE_LSTM_MODEL_KEYS = [LSTM_UNITS,SECOND_LSTM_UNITS,LEARNING_RATE,OPTIMIZER]\n",
    "best_params_doubleLSTM = dict()\n",
    "\n",
    "print(\"The best configuration found for the double LSTM model is the following one:\")\n",
    "for key in DOUBLE_LSTM_MODEL_KEYS:\n",
    "    print(\"-{0}:\\t{1}\".format(key, best_doubleLSTM_config.get(key)))\n",
    "    best_params_doubleLSTM[key] = best_doubleLSTM_config.get(key)"
   ]
  },
  {
   "cell_type": "code",
   "execution_count": 65,
   "metadata": {},
   "outputs": [
    {
     "name": "stdout",
     "output_type": "stream",
     "text": [
      "Saving the best configuration found to file\n",
      "Files saved at the following path:  C:\\Users\\Nicola\\Desktop\\double_lstm.pickle\n"
     ]
    }
   ],
   "source": [
    "## Save results in the pickle file\n",
    "\n",
    "print(\"Saving the best configuration found to file\")\n",
    "filename = DOUBLE_LSTM + \".pickle\"\n",
    "filepath = os.path.join(os.getcwd(),filename)\n",
    "write_params_on_file(filepath, best_params_doubleLSTM)\n",
    "print(\"Files saved at the following path: \", filepath)"
   ]
  },
  {
   "cell_type": "markdown",
   "metadata": {
    "id": "_jJt4d6wi7gU"
   },
   "source": [
    "### Double FC Model\n",
    "\n"
   ]
  },
  {
   "cell_type": "markdown",
   "metadata": {},
   "source": [
    "The last architecture we are going to tune is composed by a Bidirectional LSTM layer, followed by 2 Dense layers."
   ]
  },
  {
   "cell_type": "code",
   "execution_count": 66,
   "metadata": {},
   "outputs": [],
   "source": [
    "def build_doubleFC_model(hp):\n",
    "    input = layers.Embedding(input_dim = len(word_to_idx), \n",
    "                              output_dim = EMBEDDING_DIMENSION, \n",
    "                              input_length=max_sequence_length,\n",
    "                              weights = [embeddings],\n",
    "                              trainable = False, # do not train embeddings\n",
    "                              mask_zero = True)\n",
    "    \n",
    "    doubleFC = ks.Sequential()\n",
    "    doubleFC.add(input)\n",
    "    doubleFC.add(layers.Bidirectional(layers.LSTM(hp.Choice(LSTM_UNITS, lstm_units), return_sequences = True)))\n",
    "    doubleFC.add(layers.TimeDistributed(layers.Dense(\n",
    "                    hp.Choice(FC_UNITS, fc_units), \n",
    "                    activation=hp.Choice(FC_ACTIVATIONS, fc_activ)))\n",
    "                )\n",
    "    doubleFC.add(layers.TimeDistributed(layers.Dense(len(tags_listing) + 1, activation='softmax'))) #outputs the one hot encoding of the class\n",
    "    \n",
    "    hp_learning_rate = hp.Choice(LEARNING_RATE, \n",
    "                                 values=learning_rates\n",
    "                                )\n",
    "    optimizers_dict = {\n",
    "        \"Adam\":    ks.optimizers.Adam(learning_rate=hp_learning_rate),\n",
    "        \"SGD\":     ks.optimizers.SGD(learning_rate=hp_learning_rate),\n",
    "        \"RMSProp\": ks.optimizers.RMSprop(learning_rate=hp_learning_rate)\n",
    "    }\n",
    "    \n",
    "    \n",
    "    hp_optimizers = hp.Choice(\n",
    "        OPTIMIZER, \n",
    "        values=[\"Adam\", \"SGD\", \"RMSProp\"]\n",
    "        )\n",
    "    \n",
    "    doubleFC.compile(loss='categorical_crossentropy', optimizer= optimizers_dict[hp_optimizers], metrics = ['accuracy'])\n",
    "    \n",
    "    return doubleFC"
   ]
  },
  {
   "cell_type": "code",
   "execution_count": 67,
   "metadata": {
    "id": "4dPQlhuxi7gV"
   },
   "outputs": [
    {
     "name": "stdout",
     "output_type": "stream",
     "text": [
      "Trial 30 Complete [00h 30m 48s]\n",
      "val_accuracy: 0.880575954914093\n",
      "\n",
      "Best val_accuracy So Far: 0.8924093246459961\n",
      "Total elapsed time: 03h 53m 38s\n",
      "INFO:tensorflow:Oracle triggered exit\n"
     ]
    }
   ],
   "source": [
    "tuner_doubleFC = kt.Hyperband(build_doubleFC_model,\n",
    "                     objective=kt.Objective(\"val_accuracy\", direction=\"max\"),\n",
    "                     max_epochs=10,\n",
    "                     directory=\"tuner\",\n",
    "                     project_name=\"tuner_double_fc\")\n",
    "\n",
    "tuner_doubleFC.search(x_train, y_train, epochs=10, batch_size=16, validation_data=(x_val, y_val))\n",
    "best_doubleFC_config = tuner_doubleFC.get_best_hyperparameters()[0]"
   ]
  },
  {
   "cell_type": "code",
   "execution_count": 68,
   "metadata": {
    "id": "SPWw4_7Xi7gV"
   },
   "outputs": [
    {
     "name": "stdout",
     "output_type": "stream",
     "text": [
      "The best configuration found for the double FC model is the following one:\n",
      "-lstm_units:\t128\n",
      "-fc_units:\t64\n",
      "-fc_activ:\ttanh\n",
      "-lr:\t0.01\n",
      "-optim:\tAdam\n"
     ]
    }
   ],
   "source": [
    "DOUBLE_FC_MODEL_KEYS = [LSTM_UNITS, FC_UNITS,FC_ACTIVATIONS, LEARNING_RATE,OPTIMIZER]\n",
    "best_params_doubleFC = dict()\n",
    "\n",
    "print(\"The best configuration found for the double FC model is the following one:\")\n",
    "for key in DOUBLE_FC_MODEL_KEYS:\n",
    "    print(\"-{0}:\\t{1}\".format(key, best_doubleFC_config.get(key)))\n",
    "    best_params_doubleFC[key] = best_doubleFC_config.get(key)   "
   ]
  },
  {
   "cell_type": "code",
   "execution_count": 69,
   "metadata": {},
   "outputs": [
    {
     "name": "stdout",
     "output_type": "stream",
     "text": [
      "Saving the best configuration found to file\n",
      "Files saved at the following path:  C:\\Users\\Nicola\\Desktop\\NLP_Assignment1\\double_fc.pickle\n"
     ]
    }
   ],
   "source": [
    "## Save results in the pickle file\n",
    "\n",
    "print(\"Saving the best configuration found to file\")\n",
    "filename = DOUBLE_FC + \".pickle\"\n",
    "filepath = os.path.join(os.getcwd(),filename)\n",
    "write_params_on_file(filepath, best_params_doubleFC)\n",
    "print(\"Files saved at the following path: \", filepath)"
   ]
  },
  {
   "cell_type": "markdown",
   "metadata": {},
   "source": [
    "# Training of the best  models"
   ]
  },
  {
   "cell_type": "markdown",
   "metadata": {},
   "source": [
    "As we can see from the results obtained, the models which gave an higher score for validation data are the **Double LSTM** and **Double FC** model, so we will focus our training on those two models.\n",
    "\n",
    "The first step is the definition of the models\n"
   ]
  },
  {
   "cell_type": "code",
   "execution_count": 70,
   "metadata": {},
   "outputs": [],
   "source": [
    "EPOCHS = 15\n",
    "BATCH_SIZE = 16\n",
    "\n",
    "# We also define the callbacks we will use for the training, in order to improve the performance of the models.\n",
    "\n",
    "reduceLR = ks.callbacks.ReduceLROnPlateau(monitor='val_accuracy', factor = 0.005 , patience=4)\n",
    "es = ks.callbacks.EarlyStopping(monitor='val_accuracy', min_delta=0.001, patience=4, restore_best_weights=True)\n",
    "\n",
    "callbacks = [reduceLR, es]"
   ]
  },
  {
   "cell_type": "code",
   "execution_count": 71,
   "metadata": {},
   "outputs": [],
   "source": [
    "def show_history(history: ks.callbacks.History):\n",
    "    \"\"\"\n",
    "    Shows training history data stored by the History Keras callback\n",
    "\n",
    "    :param history: History Keras callback\n",
    "    \"\"\"\n",
    "    history_data = history.history\n",
    "    print(f\"Displaying the following history keys: {history_data.keys()}\")\n",
    "\n",
    "    for key, value in history_data.items():\n",
    "        if not key.startswith('val'):\n",
    "            fig, ax = plt.subplots(1, 1)\n",
    "            ax.set_title(key)\n",
    "            ax.plot(value)\n",
    "            if f'val_{key}' in history_data:\n",
    "                ax.plot(history_data[f'val_{key}'])\n",
    "            else:\n",
    "                print(f\"Couldn't find validation values for metric: {key}\")\n",
    "\n",
    "            ax.set_ylabel(key)\n",
    "            ax.set_xlabel('epoch')\n",
    "            ax.legend(['train', 'val'], loc='best')\n",
    "    plt.show()"
   ]
  },
  {
   "cell_type": "markdown",
   "metadata": {},
   "source": [
    "## Double LSTM Model"
   ]
  },
  {
   "cell_type": "markdown",
   "metadata": {},
   "source": [
    "First of all we reload the previously computed and saved hyperparameters for the model and we pass them as a dictionary to the function which creates the model"
   ]
  },
  {
   "cell_type": "code",
   "execution_count": 72,
   "metadata": {},
   "outputs": [],
   "source": [
    "double_lstm_filepath = os.path.join(os.getcwd(), DOUBLE_LSTM + \".pickle\")\n",
    "double_lstm_hyperparams = restore_params_from_file(double_lstm_filepath)"
   ]
  },
  {
   "cell_type": "code",
   "execution_count": 73,
   "metadata": {},
   "outputs": [],
   "source": [
    "def create_doubleLSTM_model(hyperparamsDict: Dict[str, str]):\n",
    "    \n",
    "    input = layers.Embedding(input_dim = len(word_to_idx), \n",
    "                              output_dim = EMBEDDING_DIMENSION, \n",
    "                              input_length=max_sequence_length,\n",
    "                              weights = [embeddings],\n",
    "                              trainable = False, # do not train embeddings\n",
    "                              mask_zero = True)\n",
    "    \n",
    "    doubleLSTM = ks.Sequential()\n",
    "    doubleLSTM.add(input)\n",
    "    \n",
    "    doubleLSTM.add(layers.Bidirectional(layers.LSTM(int(hyperparamsDict[LSTM_UNITS]),\n",
    "                                                    return_sequences = True)))\n",
    "    doubleLSTM.add(layers.Bidirectional(layers.LSTM(int(hyperparamsDict[SECOND_LSTM_UNITS]),\n",
    "                                                    return_sequences = True)))\n",
    "    \n",
    "    doubleLSTM.add(layers.TimeDistributed(layers.Dense(len(tags_listing) + 1, activation='softmax'))) \n",
    "\n",
    "    if hyperparamsDict[OPTIMIZER] == 'Adam':\n",
    "        optimizer = ks.optimizers.Adam(learning_rate= float(hyperparamsDict[LEARNING_RATE]))\n",
    "    elif hyperparamsDict[OPTIMIZER] == \"SGD\":    \n",
    "        optimizer = ks.optimizers.SGD(learning_rate=float(hyperparamsDict[LEARNING_RATE]))\n",
    "    elif hyperparamsDict[OPTIMIZER] == \"RMSProp\": \n",
    "        optimizer = ks.optimizers.RMSprop(learning_rate=float(hyperparamsDict[LEARNING_RATE]))\n",
    "    else:\n",
    "        raise\n",
    "    \n",
    "        \n",
    "    doubleLSTM.compile(loss='categorical_crossentropy', optimizer= optimizer, metrics = ['accuracy'])\n",
    "    \n",
    "    return doubleLSTM"
   ]
  },
  {
   "cell_type": "code",
   "execution_count": 74,
   "metadata": {},
   "outputs": [
    {
     "name": "stdout",
     "output_type": "stream",
     "text": [
      "Model: \"sequential\"\n",
      "_________________________________________________________________\n",
      " Layer (type)                Output Shape              Param #   \n",
      "=================================================================\n",
      " embedding (Embedding)       (None, 249, 50)           547400    \n",
      "                                                                 \n",
      " bidirectional (Bidirectiona  (None, 249, 128)         58880     \n",
      " l)                                                              \n",
      "                                                                 \n",
      " bidirectional_1 (Bidirectio  (None, 249, 256)         263168    \n",
      " nal)                                                            \n",
      "                                                                 \n",
      " time_distributed (TimeDistr  (None, 249, 46)          11822     \n",
      " ibuted)                                                         \n",
      "                                                                 \n",
      "=================================================================\n",
      "Total params: 881,270\n",
      "Trainable params: 333,870\n",
      "Non-trainable params: 547,400\n",
      "_________________________________________________________________\n"
     ]
    }
   ],
   "source": [
    "doubleLSTM_model = create_doubleLSTM_model(double_lstm_hyperparams)\n",
    "\n",
    "doubleLSTM_model.summary()"
   ]
  },
  {
   "cell_type": "markdown",
   "metadata": {},
   "source": [
    "Now we can train our first model, using the following callbacks provided by Keras:\n",
    "* EarlyStopping: This callback allows to stop training before it reaches the number of epochs specified by the user. The parameter restore_best_weights set to True allows to restore the best weights of the model once the training is finished.\n",
    "* ReduceLROnPlateau: As the name suggests, the callback allows to dynamically reduce the LR used by the model if the metric which is being mointored does not improve"
   ]
  },
  {
   "cell_type": "code",
   "execution_count": 78,
   "metadata": {},
   "outputs": [
    {
     "name": "stdout",
     "output_type": "stream",
     "text": [
      "Epoch 1/15\n",
      "123/123 [==============================] - 102s 703ms/step - loss: 0.1337 - accuracy: 0.6024 - val_loss: 0.0588 - val_accuracy: 0.8105 - lr: 0.0100\n",
      "Epoch 2/15\n",
      "123/123 [==============================] - 80s 656ms/step - loss: 0.0397 - accuracy: 0.8737 - val_loss: 0.0416 - val_accuracy: 0.8668 - lr: 0.0100\n",
      "Epoch 3/15\n",
      "123/123 [==============================] - 81s 660ms/step - loss: 0.0242 - accuracy: 0.9227 - val_loss: 0.0374 - val_accuracy: 0.8813 - lr: 0.0100\n",
      "Epoch 4/15\n",
      "123/123 [==============================] - 79s 643ms/step - loss: 0.0152 - accuracy: 0.9507 - val_loss: 0.0369 - val_accuracy: 0.8914 - lr: 0.0100\n",
      "Epoch 5/15\n",
      "123/123 [==============================] - 78s 632ms/step - loss: 0.0094 - accuracy: 0.9692 - val_loss: 0.0401 - val_accuracy: 0.8895 - lr: 0.0100\n",
      "Epoch 6/15\n",
      "123/123 [==============================] - 80s 648ms/step - loss: 0.0058 - accuracy: 0.9811 - val_loss: 0.0400 - val_accuracy: 0.8946 - lr: 0.0100\n",
      "Epoch 7/15\n",
      "123/123 [==============================] - 80s 652ms/step - loss: 0.0044 - accuracy: 0.9853 - val_loss: 0.0438 - val_accuracy: 0.8921 - lr: 0.0100\n",
      "Epoch 8/15\n",
      "123/123 [==============================] - 80s 652ms/step - loss: 0.0035 - accuracy: 0.9879 - val_loss: 0.0464 - val_accuracy: 0.8919 - lr: 0.0100\n",
      "Epoch 9/15\n",
      "123/123 [==============================] - 80s 649ms/step - loss: 0.0030 - accuracy: 0.9893 - val_loss: 0.0471 - val_accuracy: 0.8953 - lr: 0.0100\n",
      "Epoch 10/15\n",
      "123/123 [==============================] - 79s 641ms/step - loss: 0.0029 - accuracy: 0.9897 - val_loss: 0.0513 - val_accuracy: 0.8936 - lr: 0.0100\n"
     ]
    }
   ],
   "source": [
    "double_lstm_history = doubleLSTM_model.fit(x_train, y_train, epochs  = EPOCHS, validation_data= (x_val, y_val), \n",
    "                     batch_size = BATCH_SIZE, callbacks = callbacks)"
   ]
  },
  {
   "cell_type": "markdown",
   "metadata": {},
   "source": [
    "After the training we store the weights of the model, so we can restore them"
   ]
  },
  {
   "cell_type": "code",
   "execution_count": 79,
   "metadata": {},
   "outputs": [],
   "source": [
    "WEIGHTS_DIR = 'saved_weights'\n",
    "\n",
    "WEIGHTS_PATH = os.path.join(os.getcwd(), WEIGHTS_DIR)\n",
    "\n",
    "if not os.path.exists(WEIGHTS_PATH):\n",
    "    os.mkdir(WEIGHTS_PATH)\n",
    "\n",
    "doubleLSTM_weightsPath = os.path.join(WEIGHTS_PATH, DOUBLE_LSTM)\n",
    "doubleFC_weightsPath = os.path.join(WEIGHTS_PATH, DOUBLE_FC)\n",
    "\n",
    "if not os.path.exists(doubleLSTM_weightsPath):\n",
    "    os.mkdir(doubleLSTM_weightsPath)\n",
    "\n",
    "if not os.path.exists(doubleFC_weightsPath):\n",
    "    os.mkdir(doubleFC_weightsPath)    "
   ]
  },
  {
   "cell_type": "code",
   "execution_count": 80,
   "metadata": {},
   "outputs": [
    {
     "name": "stdout",
     "output_type": "stream",
     "text": [
      "Weights successfully saved!\n"
     ]
    }
   ],
   "source": [
    "doubleLSTM_weightsFilePath = os.path.join(doubleLSTM_weightsPath, DOUBLE_LSTM + '.h5')\n",
    "\n",
    "doubleLSTM_model.save_weights(doubleLSTM_weightsFilePath)\n",
    "print(\"Weights successfully saved!\")"
   ]
  },
  {
   "cell_type": "markdown",
   "metadata": {},
   "source": [
    "### Training history of the model"
   ]
  },
  {
   "cell_type": "code",
   "execution_count": 81,
   "metadata": {},
   "outputs": [
    {
     "name": "stdout",
     "output_type": "stream",
     "text": [
      "Displaying the following history keys: dict_keys(['loss', 'accuracy', 'val_loss', 'val_accuracy', 'lr'])\n",
      "Couldn't find validation values for metric: lr\n"
     ]
    },
    {
     "data": {
      "image/png": "[encoded data removed]",
      "text/plain": [
       "<Figure size 800x550 with 1 Axes>"
      ]
     },
     "metadata": {
      "needs_background": "light"
     },
     "output_type": "display_data"
    },
    {
     "data": {
      "image/png": "[encoded data removed]",
      "text/plain": [
       "<Figure size 800x550 with 1 Axes>"
      ]
     },
     "metadata": {
      "needs_background": "light"
     },
     "output_type": "display_data"
    },
    {
     "data": {
      "image/png": "[encoded data removed]",
      "text/plain": [
       "<Figure size 800x550 with 1 Axes>"
      ]
     },
     "metadata": {
      "needs_background": "light"
     },
     "output_type": "display_data"
    }
   ],
   "source": [
    "show_history(double_lstm_history)"
   ]
  },
  {
   "cell_type": "markdown",
   "metadata": {},
   "source": [
    "## Double Fully Connected Layer model\n",
    "\n",
    "The second, and last, model that we will train is the one with the 2 fully connected layers. The procedure will be exactly the same as before and we will use the same callbacks also for this training\n"
   ]
  },
  {
   "cell_type": "code",
   "execution_count": 82,
   "metadata": {},
   "outputs": [],
   "source": [
    "double_fc_filepath = os.path.join(os.getcwd(), DOUBLE_FC + \".pickle\")\n",
    "double_fc_hyperparams = restore_params_from_file(double_fc_filepath)"
   ]
  },
  {
   "cell_type": "code",
   "execution_count": 83,
   "metadata": {},
   "outputs": [],
   "source": [
    "def create_doubleFC_model(hyperparamsDict: Dict[str, str]):\n",
    "    \n",
    "    input = layers.Embedding(input_dim = len(word_to_idx), \n",
    "                              output_dim = EMBEDDING_DIMENSION, \n",
    "                              input_length=max_sequence_length,\n",
    "                              weights = [embeddings],\n",
    "                              trainable = False, # do not train embeddings\n",
    "                              mask_zero = True)\n",
    "    \n",
    "    doubleFC = ks.Sequential()\n",
    "    doubleFC.add(input)\n",
    "    \n",
    "    doubleFC.add(layers.Bidirectional(layers.LSTM(int(hyperparamsDict[LSTM_UNITS]),\n",
    "                                                  return_sequences = True)))\n",
    "    \n",
    "    doubleFC.add(layers.TimeDistributed(layers.Dense(\n",
    "                    int(hyperparamsDict[FC_UNITS]), \n",
    "                    activation= hyperparamsDict[FC_ACTIVATIONS])))\n",
    "                \n",
    "    doubleFC.add(layers.TimeDistributed(layers.Dense(len(tags_listing) + 1, activation='softmax')))\n",
    "\n",
    "    if hyperparamsDict[OPTIMIZER] == 'Adam':\n",
    "        optimizer = ks.optimizers.Adam(learning_rate= float(hyperparamsDict[LEARNING_RATE]))\n",
    "    elif hyperparamsDict[OPTIMIZER] == \"SGD\":    \n",
    "        optimizer = ks.optimizers.SGD(learning_rate=float(hyperparamsDict[LEARNING_RATE]))\n",
    "    elif hyperparamsDict[OPTIMIZER] == \"RMSProp\": \n",
    "        optimizer = ks.optimizers.RMSprop(learning_rate=float(hyperparamsDict[LEARNING_RATE]))\n",
    "    else:\n",
    "        raise\n",
    "    \n",
    "    \n",
    "    doubleFC.compile(loss='categorical_crossentropy', optimizer= optimizer, metrics = ['accuracy'])\n",
    "    \n",
    "    return doubleFC"
   ]
  },
  {
   "cell_type": "code",
   "execution_count": 84,
   "metadata": {},
   "outputs": [
    {
     "name": "stdout",
     "output_type": "stream",
     "text": [
      "Model: \"sequential_1\"\n",
      "_________________________________________________________________\n",
      " Layer (type)                Output Shape              Param #   \n",
      "=================================================================\n",
      " embedding_1 (Embedding)     (None, 249, 50)           547400    \n",
      "                                                                 \n",
      " bidirectional_2 (Bidirectio  (None, 249, 256)         183296    \n",
      " nal)                                                            \n",
      "                                                                 \n",
      " time_distributed_1 (TimeDis  (None, 249, 64)          16448     \n",
      " tributed)                                                       \n",
      "                                                                 \n",
      " time_distributed_2 (TimeDis  (None, 249, 46)          2990      \n",
      " tributed)                                                       \n",
      "                                                                 \n",
      "=================================================================\n",
      "Total params: 750,134\n",
      "Trainable params: 202,734\n",
      "Non-trainable params: 547,400\n",
      "_________________________________________________________________\n"
     ]
    }
   ],
   "source": [
    "doubleFC_model = create_doubleFC_model(double_fc_hyperparams)\n",
    "\n",
    "doubleFC_model.summary()"
   ]
  },
  {
   "cell_type": "code",
   "execution_count": 85,
   "metadata": {},
   "outputs": [
    {
     "name": "stdout",
     "output_type": "stream",
     "text": [
      "Epoch 1/15\n",
      "123/123 [==============================] - 50s 361ms/step - loss: 0.0994 - accuracy: 0.7128 - val_loss: 0.0529 - val_accuracy: 0.8339 - lr: 0.0100\n",
      "Epoch 2/15\n",
      "123/123 [==============================] - 39s 318ms/step - loss: 0.0372 - accuracy: 0.8863 - val_loss: 0.0420 - val_accuracy: 0.8668 - lr: 0.0100\n",
      "Epoch 3/15\n",
      "123/123 [==============================] - 38s 312ms/step - loss: 0.0243 - accuracy: 0.9244 - val_loss: 0.0389 - val_accuracy: 0.8809 - lr: 0.0100\n",
      "Epoch 4/15\n",
      "123/123 [==============================] - 39s 320ms/step - loss: 0.0154 - accuracy: 0.9512 - val_loss: 0.0387 - val_accuracy: 0.8870 - lr: 0.0100\n",
      "Epoch 5/15\n",
      "123/123 [==============================] - 39s 318ms/step - loss: 0.0098 - accuracy: 0.9689 - val_loss: 0.0426 - val_accuracy: 0.8868 - lr: 0.0100\n",
      "Epoch 6/15\n",
      "123/123 [==============================] - 39s 319ms/step - loss: 0.0067 - accuracy: 0.9794 - val_loss: 0.0430 - val_accuracy: 0.8919 - lr: 0.0100\n",
      "Epoch 7/15\n",
      "123/123 [==============================] - 50s 408ms/step - loss: 0.0045 - accuracy: 0.9860 - val_loss: 0.0468 - val_accuracy: 0.8880 - lr: 0.0100\n",
      "Epoch 8/15\n",
      "123/123 [==============================] - 40s 324ms/step - loss: 0.0033 - accuracy: 0.9898 - val_loss: 0.0491 - val_accuracy: 0.8848 - lr: 0.0100\n",
      "Epoch 9/15\n",
      "123/123 [==============================] - 37s 303ms/step - loss: 0.0031 - accuracy: 0.9906 - val_loss: 0.0525 - val_accuracy: 0.8859 - lr: 0.0100\n",
      "Epoch 10/15\n",
      "123/123 [==============================] - 35s 287ms/step - loss: 0.0042 - accuracy: 0.9859 - val_loss: 0.0552 - val_accuracy: 0.8804 - lr: 0.0100\n"
     ]
    }
   ],
   "source": [
    "double_fc_history = doubleFC_model.fit(x_train, y_train, epochs  = EPOCHS, validation_data= (x_val, y_val), \n",
    "                     batch_size = BATCH_SIZE, callbacks = callbacks)"
   ]
  },
  {
   "cell_type": "code",
   "execution_count": 91,
   "metadata": {},
   "outputs": [
    {
     "name": "stdout",
     "output_type": "stream",
     "text": [
      "Weights successfully saved!\n"
     ]
    }
   ],
   "source": [
    "doubleFC_weightsFilePath = os.path.join(doubleFC_weightsPath, DOUBLE_FC + '.h5')\n",
    "\n",
    "doubleFC_model.save_weights(doubleFC_weightsFilePath)\n",
    "print(\"Weights successfully saved!\")"
   ]
  },
  {
   "cell_type": "markdown",
   "metadata": {},
   "source": [
    "### Training history of the model"
   ]
  },
  {
   "cell_type": "code",
   "execution_count": 92,
   "metadata": {},
   "outputs": [
    {
     "name": "stdout",
     "output_type": "stream",
     "text": [
      "Displaying the following history keys: dict_keys(['loss', 'accuracy', 'val_loss', 'val_accuracy', 'lr'])\n",
      "Couldn't find validation values for metric: lr\n"
     ]
    },
    {
     "data": {
      "image/png": "[encoded data removed]",
      "text/plain": [
       "<Figure size 800x550 with 1 Axes>"
      ]
     },
     "metadata": {
      "needs_background": "light"
     },
     "output_type": "display_data"
    },
    {
     "data": {
      "image/png": "[encoded data removed]",
      "text/plain": [
       "<Figure size 800x550 with 1 Axes>"
      ]
     },
     "metadata": {
      "needs_background": "light"
     },
     "output_type": "display_data"
    },
    {
     "data": {
      "image/png": "[encoded data removed]",
      "text/plain": [
       "<Figure size 800x550 with 1 Axes>"
      ]
     },
     "metadata": {
      "needs_background": "light"
     },
     "output_type": "display_data"
    }
   ],
   "source": [
    "show_history(double_fc_history)"
   ]
  },
  {
   "cell_type": "markdown",
   "metadata": {},
   "source": [
    "# Evaluation of the models"
   ]
  },
  {
   "cell_type": "markdown",
   "metadata": {},
   "source": [
    "In this section we will evaluate the performances of the two models on the test set. To emulate a real case scenario, we decided to make a function which takes in input the list of tokens and produces the POS tag for each sentence. In this way, the word will be indexed by the function and not by the user, before producing the results. "
   ]
  },
  {
   "cell_type": "code",
   "execution_count": 93,
   "metadata": {},
   "outputs": [],
   "source": [
    "def clip_outputs(predictions: List[List[List[float]]], sentences_len: List[int]) -> List[List[List[float]]]:\n",
    "    \"\"\"\n",
    "    This function helps clipping the lengths of the output of the network to the right length of the original\n",
    "    sentence.\n",
    "    \n",
    "    :param predictions: output of the neural network\n",
    "    :param  sentences_len: list containing the original lengths of the sentences\n",
    "    \n",
    "    :return y_clipped: output of the neural network clipped at the right length\n",
    "    \"\"\"\n",
    "    \n",
    "    y_clipped = []\n",
    "    \n",
    "    assert len(predictions) == len(sentences_len), \"You must provide the same number of predictions and sentences lengths\"\n",
    "    \n",
    "    for i, prediction in enumerate(predictions):\n",
    "        if sentences_len[i] < max_sequence_length:\n",
    "            y_clipped.append(prediction[0: sentences_len[i]])\n",
    "        else:\n",
    "            y_clipped.append(prediction) # If the length of the sentence is not less than max_sequence_len the sentence does not\n",
    "                                        # need to be truncated\n",
    "\n",
    "    return y_clipped\n",
    "\n",
    "\n",
    "\n",
    "def produce_pos(model: ks.Model, texts: List[str])-> List[List[str]] : \n",
    "    \"\"\"\n",
    "    The following function, given a list of sentences, splitted in tokens, produces the \n",
    "    POS tag for each token of each sentence.\n",
    "    \n",
    "    :param texts: List of sentences of which the user want to have the POS tagging.\n",
    "    \n",
    "    :return pos_tags_list: List which is composed of lists. Each inner list contains the\n",
    "    POS tag for each word in the original text.\n",
    "    \"\"\"\n",
    "    \n",
    "    assert (len(texts) > 0), \"You must feed the network at least one sentence!\"\n",
    "    \n",
    "    pos_tags_list = []\n",
    "    splitted_texts = []     \n",
    "    x_test = [] # data that will be fed to the network\n",
    "    \n",
    "    \n",
    "    sentences_len = [len(x) for x in texts]\n",
    "\n",
    "    \n",
    "    # Convert all the sentences into their token\n",
    "    for sentence in texts:\n",
    "      try:  \n",
    "        x_test.append([word_to_idx[word] for word in sentence])\n",
    "      except:\n",
    "        x_test.append(\"-OOV-\") # Append out of vocabulary token in case the word is not in the vocabulary \n",
    "    \n",
    "    x_test = ks.utils.pad_sequences(x_test, max_sequence_length, padding='post', truncating = 'post',\n",
    "                                     value = PADDING_TOKEN_VAL)\n",
    "    \n",
    "    y_pred = model.predict(x_test)\n",
    "\n",
    "    \n",
    "    #For each output, we only care about the results for the first n tokens, where n is the length of the sentence\n",
    "    y_clipped_predictions = clip_outputs(y_pred, sentences_len)\n",
    "    \n",
    "    for sentence in y_clipped_predictions:\n",
    "      pos_tags_list.append([idx_to_tag[get_value_from_one_hot(sentence[i])] for i in range(len(sentence))])\n",
    "    \n",
    "    \n",
    "    return pos_tags_list"
   ]
  },
  {
   "cell_type": "markdown",
   "metadata": {},
   "source": [
    "## Metrics"
   ]
  },
  {
   "cell_type": "markdown",
   "metadata": {},
   "source": [
    "We will evaluate the performances of both models on unseen data using the F1 macro score. For evaluation purposes we will not use all the classes but we will remove the classes which are related to punctuation. <br>\n",
    "The F1 score, in a binary case is defined as:\n",
    "$$ F1 = 2 * \\frac{precision\\  \\cdot \\ recall}{precision \\ + \\ recall} $$\n",
    "\n",
    "In a multiclass setting as this one, we need to use some form of averaging. Some of the most common are *micro*, *macro*, *weighted*. As said before, the score will be computed using the F1 macro score. <br> The macro averaging consists into the computation of the metrics for each label in a binary setting (belongs to the class vs  does not belong to the class) and then find the unweighted mean of the F1 scores obtained."
   ]
  },
  {
   "cell_type": "code",
   "execution_count": 94,
   "metadata": {},
   "outputs": [],
   "source": [
    "PUNCTUATION_TAGS = ['#', '$', \"''\", ',' ,  '.', ':', '-LRB-', '-RRB-', '``']\n",
    "\n",
    "\n",
    "def get_eval_tags():\n",
    "    \"\"\"\n",
    "    The function produces the list of tags that have to be included in the \n",
    "    evaluation for the f1_score\n",
    "    \n",
    "    \n",
    "    \"\"\"\n",
    "    eval_tags = []\n",
    "    \n",
    "    for key in idx_to_tag.keys():\n",
    "        if idx_to_tag[key] not in PUNCTUATION_TAGS:\n",
    "            eval_tags.append(idx_to_tag[key])\n",
    "    \n",
    "    return np.array(eval_tags)\n",
    "\n",
    "\n",
    "def flattener(matr):\n",
    "    \"\"\"\n",
    "    The function transforms the matrix into a 1d array, which is required in input by the \n",
    "    metrics\n",
    "    \n",
    "    :param matr: list of senquence to be flattened\n",
    "    \n",
    "    :return flat: flattened list \n",
    "    \"\"\"\n",
    "    flat = []\n",
    "    \n",
    "    for sequence in matr:\n",
    "        for elem in sequence:\n",
    "            flat.append(str(elem))\n",
    "    \n",
    "    return np.array(flat)\n",
    "    \n",
    "    \n",
    "    \n",
    "\n",
    "\n",
    "def compute_metrics(y_pred, y_true):\n",
    "    \"\"\"\n",
    "    The function allows to compute the f1 score on a list of sentences\n",
    "    :param y_pred: POS tag predicted by the network:\n",
    "    :param y_true: True POS tag\n",
    "    \n",
    "    :return metrics for the given data\n",
    "    \"\"\"\n",
    "    y_pred_flat = flattener(y_pred)\n",
    "    y_true_flat = flattener(y_true) \n",
    "    \n",
    "    \n",
    "    labels = get_eval_tags()\n",
    "    \n",
    "    metrics = [\n",
    "        partial(accuracy_score),\n",
    "        partial(f1_score, labels = labels, average='macro',zero_division=0)\n",
    "    ]\n",
    "    \n",
    "    metric_names = [\n",
    "        \"accuracy\",\n",
    "        \"macro_f1\"\n",
    "    ]\n",
    "    \n",
    "    metrics_dict = dict()\n",
    "    \n",
    "    for metric, name in zip(metrics, metric_names):\n",
    "        metrics_dict[name] = metric(y_true_flat, y_pred_flat)\n",
    "    \n",
    "    return metrics_dict"
   ]
  },
  {
   "cell_type": "markdown",
   "metadata": {},
   "source": [
    "Now we first need to extract the list of train sentences from the DataFrame, with the corresponding correct POS tag labels"
   ]
  },
  {
   "cell_type": "code",
   "execution_count": 95,
   "metadata": {},
   "outputs": [],
   "source": [
    "x_test = df_test[COLUMN_WORDS].to_numpy()\n",
    "y_true = df_test[COLUMN_TAGS].to_numpy()\n",
    "\n",
    "# load the weights of the models obtained with the training\n",
    "doubleLSTM_model.load_weights(doubleLSTM_weightsFilePath)\n",
    "doubleFC_model.load_weights(doubleFC_weightsFilePath)"
   ]
  },
  {
   "cell_type": "code",
   "execution_count": 96,
   "metadata": {},
   "outputs": [
    {
     "name": "stdout",
     "output_type": "stream",
     "text": [
      "Prediction for the double LSTM model\n",
      "21/21 [==============================] - 8s 162ms/step\n",
      "Predictions for the double FC model\n",
      "21/21 [==============================] - 4s 117ms/step\n",
      "Predictions complete for both sets!\n"
     ]
    }
   ],
   "source": [
    "print(\"Prediction for the double LSTM model\")\n",
    "y_doubleLSTM = produce_pos(doubleLSTM_model ,x_test)\n",
    "\n",
    "print(\"Predictions for the double FC model\")\n",
    "y_doubleFC = produce_pos(doubleFC_model, x_test)\n",
    "\n",
    "print(\"Predictions complete for both sets!\")"
   ]
  },
  {
   "cell_type": "markdown",
   "metadata": {},
   "source": [
    "# Evaluation of the models"
   ]
  },
  {
   "cell_type": "markdown",
   "metadata": {},
   "source": [
    "Now we will compute the metrics for both models, using the function defined above"
   ]
  },
  {
   "cell_type": "code",
   "execution_count": 97,
   "metadata": {},
   "outputs": [
    {
     "name": "stdout",
     "output_type": "stream",
     "text": [
      "Results obtained with the model:\n",
      "accuracy:\t0.9038275972981666\n",
      "macro_f1:\t0.7003775790838596\n"
     ]
    }
   ],
   "source": [
    "doubleLSTM_metrics = compute_metrics(y_doubleLSTM, y_true)\n",
    "\n",
    "print(\"Results obtained with the model:\")\n",
    "for metric_name in doubleLSTM_metrics.keys():\n",
    "    print(\"{0}:\\t{1}\".format(metric_name, doubleLSTM_metrics[metric_name]))\n"
   ]
  },
  {
   "cell_type": "code",
   "execution_count": 98,
   "metadata": {},
   "outputs": [
    {
     "name": "stdout",
     "output_type": "stream",
     "text": [
      "Results obtained with the model:\n",
      "accuracy:\t0.899002894821486\n",
      "macro_f1:\t0.699283779507188\n"
     ]
    }
   ],
   "source": [
    "doubleFC_metrics = compute_metrics(y_doubleFC, y_true)\n",
    "\n",
    "print(\"Results obtained with the model:\")\n",
    "for metric_name in doubleFC_metrics.keys():\n",
    "    print(\"{0}:\\t{1}\".format(metric_name, doubleFC_metrics[metric_name]))"
   ]
  },
  {
   "cell_type": "markdown",
   "metadata": {},
   "source": [
    "# Error Analysis"
   ]
  },
  {
   "cell_type": "markdown",
   "metadata": {},
   "source": [
    "In this section we will discuss and analyze the errors made by both models, trying to find and explain the causes of the errors done by both models.<br>\n",
    "Before we dive into the analysis of the errors for each model, we want to inspect the distribution of tags into the three different sets, trying to understand if the tags have a similar distribution across the whole dataset or if each dataset has its distribution of tag. <br>\n",
    "This is an important aspect to consider because ML is based on the hypothesis that the training set will be representative for the true distribution of data (in our case of POS tags), so if this hypothesis is not matched in the distribution we have already found a cause of errors at prediction time."
   ]
  },
  {
   "cell_type": "code",
   "execution_count": 99,
   "metadata": {},
   "outputs": [],
   "source": [
    "def get_counts(list_of_tags: List[str], tag_to_idx: Dict[str,int]) ->  np.array:\n",
    "    counts = np.zeros(len(tag_to_idx.keys()))\n",
    "    \n",
    "    for tag in list_of_tags:\n",
    "        idx = tag_to_idx[tag]\n",
    "        counts[idx] += 1\n",
    "    \n",
    "    return counts\n",
    "\n",
    "\n",
    "def plot_histogram(df: pd.DataFrame, tag_to_idx: Dict[str, int]) -> np.array:\n",
    "    \"\"\"\n",
    "    The function allows to plot the distribution of the tags with an histogram in the distribution\n",
    "    and returns the counts of the tags\n",
    "    \n",
    "    :param df: DataFrame containing data\n",
    "    :tags_list: unique list of tags, will represent the labels of the histrogram\n",
    "    \n",
    "    :return counts: count of tag inside the set for each tag\n",
    "    \n",
    "    \"\"\"\n",
    "    \n",
    "    tags_label = list(tag_to_idx.keys())\n",
    "    \n",
    "    list_of_tags = df[COLUMN_TAGS].to_numpy()\n",
    "    flat_list = flattener(list_of_tags)\n",
    "    \n",
    "    counts = get_counts(flat_list, tag_to_idx)\n",
    "    \n",
    "    # We remove both the padding token and the relative count because they are not in the dataframes but are manually\n",
    "    # added later\n",
    "    \n",
    "    tags_label = tags_label[1:]\n",
    "    counts = counts[1:]\n",
    "    \n",
    "    \n",
    "    plt.figure()\n",
    "    plt.bar(tags_label, counts, align=\"center\")\n",
    "    plt.xticks(rotation='vertical')\n",
    "    plt.show()\n",
    "    \n",
    "    return counts\n",
    "    \n"
   ]
  },
  {
   "cell_type": "markdown",
   "metadata": {},
   "source": [
    "Let's start by inspecting the training set\n"
   ]
  },
  {
   "cell_type": "code",
   "execution_count": 100,
   "metadata": {},
   "outputs": [
    {
     "data": {
      "image/png": "[encoded data removed]",
      "text/plain": [
       "<Figure size 800x550 with 1 Axes>"
      ]
     },
     "metadata": {
      "needs_background": "light"
     },
     "output_type": "display_data"
    }
   ],
   "source": [
    "train_counts = plot_histogram(df_train, tag_to_idx)"
   ]
  },
  {
   "cell_type": "markdown",
   "metadata": {},
   "source": [
    "As it was easy to guess, the dataset is highly unbalanced but in a real world scenario we also have some kind of unbalancing among different part of speech, which may result into worst performances in identifying classes with fewer examples in the training set, misclassifying them."
   ]
  },
  {
   "cell_type": "code",
   "execution_count": 101,
   "metadata": {},
   "outputs": [
    {
     "data": {
      "image/png": "[encoded data removed]",
      "text/plain": [
       "<Figure size 800x550 with 1 Axes>"
      ]
     },
     "metadata": {
      "needs_background": "light"
     },
     "output_type": "display_data"
    }
   ],
   "source": [
    "val_counts = plot_histogram(df_val, tag_to_idx)"
   ]
  },
  {
   "cell_type": "code",
   "execution_count": 102,
   "metadata": {},
   "outputs": [
    {
     "data": {
      "image/png": "[encoded data removed]",
      "text/plain": [
       "<Figure size 800x550 with 1 Axes>"
      ]
     },
     "metadata": {
      "needs_background": "light"
     },
     "output_type": "display_data"
    }
   ],
   "source": [
    "test_counts = plot_histogram(df_test, tag_to_idx)"
   ]
  },
  {
   "cell_type": "markdown",
   "metadata": {},
   "source": [
    "Now let's inspect the differences among the counts between the training set and both validation and test set"
   ]
  },
  {
   "cell_type": "code",
   "execution_count": 103,
   "metadata": {},
   "outputs": [
    {
     "data": {
      "image/png": "[encoded data removed]",
      "text/plain": [
       "<Figure size 800x550 with 1 Axes>"
      ]
     },
     "metadata": {
      "needs_background": "light"
     },
     "output_type": "display_data"
    }
   ],
   "source": [
    "train_dist_percentages = np.array([x * 100 / np.sum(train_counts) for x in train_counts])\n",
    "val_dist_percentages = np.array([x * 100 / np.sum(val_counts) for x in val_counts])\n",
    "\n",
    "trainVal_differences = train_dist_percentages - val_dist_percentages\n",
    "\n",
    "tags_list = list(tag_to_idx.keys())[1:]\n",
    "\n",
    "\n",
    "plt.figure()\n",
    "plt.bar(tags_list,trainVal_differences, align='center')\n",
    "plt.xticks(rotation='vertical')\n",
    "plt.title(\"Percentage differences among train and validation set\")\n",
    "plt.show()"
   ]
  },
  {
   "cell_type": "code",
   "execution_count": 104,
   "metadata": {},
   "outputs": [
    {
     "data": {
      "image/png": "[encoded data removed]",
      "text/plain": [
       "<Figure size 800x550 with 1 Axes>"
      ]
     },
     "metadata": {
      "needs_background": "light"
     },
     "output_type": "display_data"
    }
   ],
   "source": [
    "test_dist_percentages = np.array([x * 100/ np.sum(test_counts) for x in test_counts])\n",
    "\n",
    "trainTest_differences = train_dist_percentages - test_dist_percentages\n",
    "\n",
    "tags_list = list(tag_to_idx.keys())[1:]\n",
    "\n",
    "\n",
    "plt.figure()\n",
    "plt.bar(tags_list,trainTest_differences, align='center')\n",
    "plt.xticks(rotation='vertical')\n",
    "plt.title(\"Percentage differences among train and test set\")\n",
    "plt.show()"
   ]
  },
  {
   "cell_type": "markdown",
   "metadata": {},
   "source": [
    "As we can see from this plot there are some differences in the relative distributions of the samples in the sets, but the distributions are similar among them, so the distributions of the sets do not represent a potential harm to the learning of the network."
   ]
  },
  {
   "cell_type": "markdown",
   "metadata": {},
   "source": [
    "Now we can start focusing on each model and inspect the sources of errors produced by its prediction"
   ]
  },
  {
   "cell_type": "markdown",
   "metadata": {},
   "source": [
    " ## Double LSTM Model"
   ]
  },
  {
   "cell_type": "markdown",
   "metadata": {},
   "source": [
    "We start inspecting the performances of our model by looking at the  classificationn report produced on the test set. This allows us to see the precison, recall and f1-score for each different tag in our set. This analysis may help us finding which are the classes the model struggles to classify correctly."
   ]
  },
  {
   "cell_type": "code",
   "execution_count": 105,
   "metadata": {},
   "outputs": [
    {
     "name": "stdout",
     "output_type": "stream",
     "text": [
      "              precision    recall  f1-score   support\n",
      "\n",
      "           $       0.97      1.00      0.99       209\n",
      "          ''       1.00      0.99      0.99        70\n",
      "           ,       1.00      1.00      1.00       787\n",
      "       -LRB-       0.60      0.50      0.55        18\n",
      "       -RRB-       0.62      0.56      0.59        18\n",
      "           .       1.00      1.00      1.00       638\n",
      "           :       0.98      1.00      0.99        56\n",
      "          CC       0.98      0.99      0.99       366\n",
      "          CD       0.97      0.97      0.97       858\n",
      "          DT       0.99      0.99      0.99      1335\n",
      "          EX       1.00      1.00      1.00         5\n",
      "          IN       0.97      0.97      0.97      1630\n",
      "          JJ       0.71      0.80      0.75       918\n",
      "         JJR       0.79      0.53      0.63        59\n",
      "         JJS       0.90      0.61      0.73        31\n",
      "          MD       0.98      0.99      0.98       167\n",
      "          NN       0.85      0.85      0.85      2383\n",
      "         NNP       0.88      0.85      0.86      1504\n",
      "        NNPS       0.41      0.16      0.23        44\n",
      "         NNS       0.87      0.85      0.86       941\n",
      "         PDT       0.00      0.00      0.00         4\n",
      "         POS       0.99      0.99      0.99       152\n",
      "         PRP       0.98      0.99      0.99       192\n",
      "        PRP$       1.00      0.98      0.99        99\n",
      "          RB       0.85      0.82      0.83       381\n",
      "         RBR       0.26      0.60      0.36        15\n",
      "         RBS       0.33      1.00      0.50         3\n",
      "          RP       0.52      0.70      0.60        33\n",
      "          TO       1.00      1.00      1.00       386\n",
      "          VB       0.92      0.96      0.94       403\n",
      "         VBD       0.93      0.88      0.91       634\n",
      "         VBG       0.67      0.64      0.65       221\n",
      "         VBN       0.78      0.77      0.78       366\n",
      "         VBP       0.82      0.84      0.83       134\n",
      "         VBZ       0.84      0.93      0.88       280\n",
      "         WDT       0.96      0.95      0.96        84\n",
      "          WP       1.00      1.00      1.00        20\n",
      "         WP$       1.00      1.00      1.00         4\n",
      "         WRB       1.00      0.79      0.88        24\n",
      "          ``       1.00      1.00      1.00        73\n",
      "\n",
      "    accuracy                           0.90     15545\n",
      "   macro avg       0.83      0.84      0.83     15545\n",
      "weighted avg       0.90      0.90      0.90     15545\n",
      "\n"
     ]
    }
   ],
   "source": [
    "flat_y_true = flattener(y_true)\n",
    "\n",
    "print(classification_report(flat_y_true, flattener(y_doubleLSTM), zero_division=0))"
   ]
  },
  {
   "cell_type": "markdown",
   "metadata": {},
   "source": [
    "From the classification report we want to focus our attention on some of the classes which present low f1-scores. In particular we will focus on:\n",
    "* **PDT** which is the most problematic class, since it has a f1-score of 0.00\n",
    "* **NNPS** that has a low recall and low precision\n",
    "* **RBS** with a low precision, high recall and low support\n",
    "* **RBR** with a low support and low precision"
   ]
  },
  {
   "cell_type": "markdown",
   "metadata": {},
   "source": [
    "### PDT - Predeterminer            "
   ]
  },
  {
   "cell_type": "markdown",
   "metadata": {},
   "source": [
    "First of all let's try to understand what a predeterminer is: in grammar, a predeterminer is a word that is sometimes used before a determiner to give more information about a noun in a noun phrase. <br>\n",
    "For example, in the phrases \"all these children\" and \"once a day\" the words \"all\" and \"once'\" are predeterminers. <br>\n",
    "\n",
    "First of all we can investigate in which sentences a predeterminer is found in the training set, then in the test set and let's see for the latter how the POS tagging is made by the model."
   ]
  },
  {
   "cell_type": "code",
   "execution_count": 106,
   "metadata": {},
   "outputs": [],
   "source": [
    "def recreate_sentence(splitted_sentence: List[str]) -> str:\n",
    "    \"\"\"\n",
    "    Given a list of words, recreates the original sentence\n",
    "    \n",
    "    :param  splitted_sentence:  splitted sentence\n",
    "    \n",
    "    :return sentence: the sentence not splitted\n",
    "    \n",
    "    \"\"\"\n",
    "    sentence = splitted_sentence[0] + \" \"\n",
    "    \n",
    "    for i in range(1, len(splitted_sentence)):\n",
    "        sentence += splitted_sentence[i] + \" \"\n",
    "        \n",
    "    return sentence\n",
    "    \n",
    "\n",
    "\n",
    "\n",
    "def get_sentences_with_a_given_tag(df: pd.DataFrame, tag: str, limit: int = -1, print_sentences: bool = True) -> List[int]:\n",
    "    \"\"\"\n",
    "    The function allows to print the sentences in which there is a given tag, from a given DataFrame\n",
    "    \n",
    "    :param df: DataFrame containing the sentences and the tags\n",
    "    :param tag: tag we want to find\n",
    "    :param limit: max number of sentences to print, if is -1, then all the sentences will be collected\n",
    "    \n",
    "    :return sentences_idx: the indexes of the sentences\n",
    "    \n",
    "    \"\"\"\n",
    "    \n",
    "    rows = df.shape[0]\n",
    "    found = 0\n",
    "    sentences_list = []\n",
    "    sentences_idx = []\n",
    "    sentences_pos = []\n",
    "    \n",
    "    assert limit > -2 and limit != 0, \"The limit parameter must either be positive or -1 if you want all the sentences\"\n",
    "    \n",
    "    for i in range(rows):\n",
    "        sentence_tag = df.iloc[i][COLUMN_TAGS]\n",
    "        if tag in sentence_tag:\n",
    "            sentences_pos.append(sentence_tag)\n",
    "            sentences_idx.append(i)\n",
    "            sentence = recreate_sentence(df.iloc[i][COLUMN_WORDS])\n",
    "            sentences_list.append(sentence)\n",
    "            found += 1\n",
    "            \n",
    "            if found == limit:\n",
    "                break\n",
    "    \n",
    "    if found == limit:\n",
    "        print(\"Found the max number of sentences asked\")\n",
    "    elif found > 0:\n",
    "        print(\"Found {0} sentences\".format(found))\n",
    "    else:\n",
    "        print(\"No sentences with the given tag have been found\")\n",
    "    \n",
    "    print()\n",
    "    \n",
    "    if print_sentences:\n",
    "        for i, sentence in enumerate(sentences_list):\n",
    "            print(\"{0}: {1}\".format(i,sentence))\n",
    "\n",
    "    return sentences_idx\n",
    "    \n",
    "    "
   ]
  },
  {
   "cell_type": "code",
   "execution_count": 107,
   "metadata": {},
   "outputs": [
    {
     "name": "stdout",
     "output_type": "stream",
     "text": [
      "Found 9 sentences\n",
      "\n",
      "0: but he has not said before that the country wants half the debt forgiven . \n",
      "1: `` wilder has managed to get across the idea that coleman will say anything to get elected governor and -- more important -- has been able to put the onus for all the negative campaigning on coleman . '' \n",
      "2: `` the message to the board of education out of all this is we 've got to take a serious look at how we 're doing our curriculum and our testing policies in this state , '' said the talk-show host . \n",
      "3: on the back , the shirts read , `` we have all the answers . '' \n",
      "4: a spokesman for temple estimated that sea containers ' plan -- if all the asset sales materialize -- would result in shareholders receiving only $ 36 to $ 45 a share in cash . \n",
      "5: troubled nbi inc. said it fired more than half its work force and is discontinuing its hardware business to focus on its software and service operations . \n",
      "6: such an editorial point of view perpetuates an insidious , stereotyped perspective . \n",
      "7: they have n't forgotten the leap in share prices last dec. 7 , when the first bout of foreign-led index arbitrage drove stocks skyward in the last half-hour of trading , startling regulators who thought they had written enough rules to prevent such a swing . \n",
      "8: while the minimum wage had traditionally been pegged at half the average u.s. manufacturing wage , the level of $ 4.25 an hour in 1991 will still be less than 35 % of average factory pay , mr. williams said . \n"
     ]
    },
    {
     "data": {
      "text/plain": [
       "[240, 608, 792, 801, 1183, 1736, 1805, 1870, 1907]"
      ]
     },
     "execution_count": 107,
     "metadata": {},
     "output_type": "execute_result"
    }
   ],
   "source": [
    "# we do not save the indexes because we do not need them now, we will save them for the test set\n",
    "\n",
    "get_sentences_with_a_given_tag(df_train, \"PDT\", limit = -1)"
   ]
  },
  {
   "cell_type": "markdown",
   "metadata": {},
   "source": [
    "As we can already see, this tag is rarely used inside the whole train dataset. Let's now check its support in the test set"
   ]
  },
  {
   "cell_type": "code",
   "execution_count": 108,
   "metadata": {},
   "outputs": [
    {
     "name": "stdout",
     "output_type": "stream",
     "text": [
      "Found 4 sentences\n",
      "\n",
      "0: but it is n't clear yet whether the central bank will make such a move . \n",
      "1: all this has cast a pall over columbia savings & loan association and its high-rolling 43-year-old chairman , thomas spiegel , who built the $ 12.7 billion beverly hills , calif. , thrift with high-yield junk bonds . \n",
      "2: while many problems would attend a restructuring of columbia , investors say mr. spiegel is mulling such a plan to mitigate columbia 's junk problems . \n",
      "3: columbia wo n't comment on all the speculation . \n"
     ]
    }
   ],
   "source": [
    "sentences_indexes = get_sentences_with_a_given_tag(df_test, \"PDT\", limit = -1)"
   ]
  },
  {
   "cell_type": "code",
   "execution_count": 109,
   "metadata": {},
   "outputs": [
    {
     "name": "stdout",
     "output_type": "stream",
     "text": [
      "For the sentence number: 0\n",
      " the correct POS tagging is:\n",
      " ['CC', 'PRP', 'VBZ', 'RB', 'JJ', 'RB', 'IN', 'DT', 'JJ', 'NN', 'MD', 'VB', 'PDT', 'DT', 'NN', '.'] \n",
      " The one made by the model is:\n",
      " ['CC', 'PRP', 'VBZ', 'RB', 'JJ', 'NN', 'IN', 'DT', 'JJ', 'NNP', 'MD', 'VB', 'JJ', 'DT', 'NN', '.']\n",
      "\n",
      "\n",
      "For the sentence number: 1\n",
      " the correct POS tagging is:\n",
      " ['PDT', 'DT', 'VBZ', 'VBN', 'DT', 'NN', 'IN', 'NNP', 'NNPS', 'CC', 'NNP', 'NNP', 'CC', 'PRP$', 'JJ', 'JJ', 'NN', ',', 'NNP', 'NNP', ',', 'WP', 'VBD', 'DT', '$', 'CD', 'CD', 'NNP', 'NNP', ',', 'NNP', ',', 'NN', 'IN', 'JJ', 'NN', 'NNS', '.'] \n",
      " The one made by the model is:\n",
      " ['DT', 'DT', 'VBZ', 'VBN', 'DT', 'NN', 'IN', 'NNP', 'NNPS', 'CC', 'NNP', 'NNP', 'CC', 'PRP$', 'JJ', 'JJ', 'NN', ',', 'NNP', 'NNP', ',', 'WP', 'VBD', 'DT', '$', 'CD', 'CD', 'NNP', 'NNP', ',', 'NNP', ',', 'NN', 'IN', 'JJ', 'NNS', 'NNS', '.']\n",
      "\n",
      "\n",
      "For the sentence number: 2\n",
      " the correct POS tagging is:\n",
      " ['IN', 'JJ', 'NNS', 'MD', 'VB', 'DT', 'NN', 'IN', 'NNP', ',', 'NNS', 'VBP', 'NNP', 'NNP', 'VBZ', 'VBG', 'PDT', 'DT', 'NN', 'TO', 'VB', 'NNP', 'POS', 'NN', 'NNS', '.'] \n",
      " The one made by the model is:\n",
      " ['IN', 'JJ', 'NNS', 'MD', 'VB', 'DT', 'NN', 'IN', 'NNP', ',', 'NNS', 'VBP', 'NNP', 'NNP', 'VBZ', 'VBG', 'JJ', 'DT', 'NN', 'TO', 'VB', 'NNP', 'POS', 'JJ', 'NNS', '.']\n",
      "\n",
      "\n",
      "For the sentence number: 3\n",
      " the correct POS tagging is:\n",
      " ['NNP', 'MD', 'RB', 'VB', 'IN', 'PDT', 'DT', 'NN', '.'] \n",
      " The one made by the model is:\n",
      " ['NNP', 'MD', 'RB', 'VB', 'IN', 'DT', 'DT', 'NN', '.']\n",
      "\n",
      "\n"
     ]
    }
   ],
   "source": [
    "for i,index in enumerate(sentences_indexes):\n",
    "    print(\"For the sentence number: {0}\\n the correct POS tagging is:\\n {1} \\n The one made by the model is:\\n {2}\\n\\n\".format(i,y_true[index], y_doubleLSTM[index]))"
   ]
  },
  {
   "cell_type": "markdown",
   "metadata": {},
   "source": [
    "As we can see our model failed to recognize this tag, wrongly classifying it all the times. In particular, of the 4 times the tag PDT appeared in the test set, it has been identified twice as adjective and twice as Determiner. <br>\n",
    "Predeterminers, and the same can be said for determiners can be easily confused with adjectives because of the position they take in the sentence (before the noun) and because of the role they have in the sentence (they are used to identify a noun). <br>\n",
    "A possible way to fix this mis-classification would be to give more examples of predeterminers in the raining set, so the model may be able to learn from them,  in fact predeterminers only represent the 0.00019% of the whole training set (9 words tagged as PDT on 47356)."
   ]
  },
  {
   "cell_type": "markdown",
   "metadata": {},
   "source": [
    "### NNPS - Proper noun, plural"
   ]
  },
  {
   "cell_type": "markdown",
   "metadata": {},
   "source": [
    "In this case we do not need to explain what the tag represent, instead we want to see how the tags have been misclassified by the model and try to analyize what may be the root cause for the errors"
   ]
  },
  {
   "cell_type": "code",
   "execution_count": 110,
   "metadata": {},
   "outputs": [],
   "source": [
    "def get_false_negative_info(df: pd.DataFrame, misclassified_idx: List[int], target_tag: str, y_true: List[List[str]], \n",
    "                           y_pred: List[List[str]]) -> Tuple[\n",
    "                                                        Dict[int, List[str]],\n",
    "                                                        Dict[int, List[int]],\n",
    "                                                        Dict[str, int]\n",
    "                                                    ]:\n",
    "    \"\"\"\n",
    "    The function gets all the false negatives for a given target tag in a DataFrame, given the indexes in which\n",
    "    you have the misclassified tag.\n",
    "    \n",
    "    :param df: DataFrame in which there are the misclassified sentences\n",
    "    :param misclassified_idx: list containing all the row numbers of the misclassified sentences in the given df\n",
    "    :param target_tag: tag we are inspecting\n",
    "    :param y_true: Gold standard for the classification\n",
    "    :param y_pred: Predictions given by the model\n",
    "    \n",
    "    :return\n",
    "            position_of_the_error: Dict containing for each misclassified sentence the position of the \n",
    "                                   misclassified tag in the sentence\n",
    "            predicted_tag: Dict containing the predicted tag for each sentence\n",
    "            error_frequency: Dict containing the number of times the tag has been predicted, making a mistake\n",
    "    \"\"\"\n",
    "    \n",
    "    position_of_the_error = {}\n",
    "    predicted_tag = {}\n",
    "    error_frequency = {}\n",
    "    \n",
    "    for idx in misclassified_idx:\n",
    "        \n",
    "        #Initialize the lists of errors for the sentence\n",
    "        position_errors = []\n",
    "        predicted_tags = []\n",
    "        \n",
    "        \n",
    "        for position, tag in enumerate(y_true[idx]):\n",
    "            if tag == target_tag and tag != y_pred[idx][position]: # if the tag is misclassified\n",
    "                error = y_pred[idx][position]\n",
    "                position_errors.append(position)\n",
    "                predicted_tags.append(error)\n",
    "                error_frequency[error] = error_frequency.get(error, 0) + 1 \n",
    "        \n",
    "        # Add the found errors with the given tag in the sentence\n",
    "        if len(position_errors) > 0:\n",
    "            position_of_the_error[idx] = position_errors\n",
    "            predicted_tag[idx] = predicted_tags\n",
    "            \n",
    "    \n",
    "    return (position_of_the_error, predicted_tag, error_frequency)\n",
    "\n",
    "\n",
    "\n",
    "def get_false_positive_info(df: pd.DataFrame, target_tag: str, y_true: List[List[str]], \n",
    "                           y_pred: List[List[str]]) -> Tuple[\n",
    "                                                        Dict[int, List[str]],\n",
    "                                                        Dict[int, List[int]],\n",
    "                                                        Dict[int, List[str]],\n",
    "                                                        Dict[str, int]\n",
    "                                                    ]:\n",
    "    \"\"\"\n",
    "    The function gets all the false positive for a given target tag in a DataFrame, given the indexes in which\n",
    "    you have the misclassified tag.\n",
    "    \n",
    "    :param df: DataFrame in which there are the misclassified sentences\n",
    "    :param target_tag: tag we are inspecting\n",
    "    :param y_true: Gold standard for the classification\n",
    "    :param y_pred: Predictions given by the model\n",
    "    \n",
    "    :return\n",
    "            position_of_the_error: Dict containing for each misclassified sentence the position of the \n",
    "                                   misclassified tag in the sentence\n",
    "            true_tag: Dict containing the true tag for each sentence\n",
    "            misclassified_words: Dict containing all the target_tag false positives\n",
    "            error_frequency: Dict containing the number of times the tag has been predicted, making a mistake\n",
    "    \"\"\"\n",
    "    \n",
    "    position_of_the_error = {}\n",
    "    true_tag = {}\n",
    "    misclassified_words = {}\n",
    "    error_frequency = {}\n",
    "    \n",
    "    for idx, sentence_predictions in enumerate(y_pred):\n",
    "        sentence = df.iloc[idx][COLUMN_WORDS]\n",
    "        \n",
    "        #Initialize the lists of errors for the sentence\n",
    "        position_errors = []\n",
    "        true_tags = []\n",
    "        miscl_words = []\n",
    "        \n",
    "        \n",
    "        for position, predicted_tag in enumerate(sentence_predictions):\n",
    "            if predicted_tag == target_tag and predicted_tag != y_true[idx][position]: # if the tag is a FP\n",
    "                \n",
    "                error = y_true[idx][position]\n",
    "                position_errors.append(position)\n",
    "                true_tags.append(error)\n",
    "                miscl_words.append(sentence[position])\n",
    "                error_frequency[error] = error_frequency.get(error, 0) + 1 \n",
    "        \n",
    "        # Add the found errors with the given tag in the sentence\n",
    "        if len(position_errors) > 0:\n",
    "            position_of_the_error[idx] = position_errors\n",
    "            true_tag[idx] = true_tags\n",
    "            misclassified_words[idx] = miscl_words\n",
    "            \n",
    "    \n",
    "    return (position_of_the_error, true_tag, misclassified_words, error_frequency)\n"
   ]
  },
  {
   "cell_type": "code",
   "execution_count": 111,
   "metadata": {},
   "outputs": [
    {
     "name": "stdout",
     "output_type": "stream",
     "text": [
      "Found 41 sentences\n",
      "\n",
      "The number of false negatives is:  37\n",
      "Distribution of false negatives for NNPS tag : \n",
      "{'NNP': 13, 'NNS': 20, 'VBP': 1, 'VBD': 1, 'RBR': 1, 'JJ': 1}\n"
     ]
    }
   ],
   "source": [
    "nnps_test_idx = get_sentences_with_a_given_tag(df_test, 'NNPS', print_sentences=False)\n",
    "\n",
    "pos_error, pred_tag, error_frequency = get_false_negative_info(df_train, nnps_test_idx, \"NNPS\", y_true, y_doubleLSTM)\n",
    "\n",
    "print(\"The number of false negatives is: \", np.sum(list(error_frequency.values())))\n",
    "print(\"Distribution of false negatives for NNPS tag : \")\n",
    "print(error_frequency)"
   ]
  },
  {
   "cell_type": "code",
   "execution_count": 112,
   "metadata": {},
   "outputs": [
    {
     "name": "stdout",
     "output_type": "stream",
     "text": [
      "The number of false negatives is:  10\n",
      "Distribution of false positive for NNPS tag : \n",
      "{'NNS': 5, 'NNP': 3, 'NN': 1, 'VBG': 1}\n"
     ]
    }
   ],
   "source": [
    "fp_pos_error, true_tags, misclassified_words , fp_error_freq = get_false_positive_info(df_test, \"NNPS\", y_true, y_doubleLSTM)\n",
    "\n",
    "print(\"The number of false negatives is: \", np.sum(list(fp_error_freq.values())))\n",
    "print(\"Distribution of false positive for NNPS tag : \")\n",
    "print(fp_error_freq)"
   ]
  },
  {
   "cell_type": "markdown",
   "metadata": {},
   "source": [
    "As it is possible to see from the inspection of the error distributions for the given tag, the majority of errors done, both false positives and false negatives are because the model still considers the term as a noun. In the majority of cases it is connsidered as a plural name, predicting correctly also the cardinality of the name."
   ]
  },
  {
   "cell_type": "markdown",
   "metadata": {},
   "source": [
    "### RBR - Adverb comparative"
   ]
  },
  {
   "cell_type": "markdown",
   "metadata": {},
   "source": [
    "As done for the proper name, lets investigate the errors done by the network for this tag and then let's discuss them "
   ]
  },
  {
   "cell_type": "code",
   "execution_count": 113,
   "metadata": {},
   "outputs": [
    {
     "name": "stdout",
     "output_type": "stream",
     "text": [
      "Found 15 sentences\n",
      "\n",
      "0: a shift to producing more alcohol and less sugar had been expected , but the latest news , if true , indicates a more drastic shift than had been anticipated . \n",
      "1: that designation would , among other things , provide more generous credit terms under which the soviets could purchase grain . \n",
      "2: prudential-bache securities boosted the stock 's short-term investment rating in response to the departure ; analyst john mcmillin said he believes the company will turn to new management `` that 's more financially oriented . '' \n",
      "3: the sweetened offer has acceptances from more than 50 % of weisfield 's shareholders , and it is scheduled for completion by dec. 10 . \n",
      "4: house-senate conferees approved major portions of a package for more than $ 500 million in economic aid for poland . \n",
      "5: columbia stock recently hit 4 1\\/8 , after reaching 11 3\\/4 earlier this year on rumors that mr. spiegel would take the thrift private . \n",
      "6: but the pharmaceutical company said it `` anticipates the long-term savings resulting from the plan 's implementation will more than offset short-term costs . '' \n",
      "7: the company earlier this year adopted a shareholder-rights plan to ward off unwanted suitors . \n",
      "8: ralston purina co. reported a 47 % decline in fourth-quarter earnings , reflecting restructuring costs as well as a more difficult pet food market . \n",
      "9: moreover , usx exports more than other steelmakers , and the overseas market has been under more severe pricing pressure . \n",
      "10: still , usx fared better than other major steelmakers , earning more per ton of steel shipped than either bethlehem steel corp. , which posted a 54 % drop in net income , or inland steel industries inc. , whose profit plummeted 70 % . \n",
      "11: the rise in the stock 's price may also reflect the fact that usx 's steel segment fared better than some other steelmakers ' . \n",
      "12: charles bradford , an analyst with merrill lynch capital markets , said usx may have received orders lost by competitors who were involved in labor contracts earlier this year . \n",
      "13: he said usx also appeared to sell a richer mix of steel products , such as the more profitable pipe and galvanized coated sheet , than lower-priced structural goods . \n",
      "14: mr. icahn has said he believes usx would be worth more if broken up into steel and energy segments . \n"
     ]
    }
   ],
   "source": [
    "rbr_test_idx = get_sentences_with_a_given_tag(df_test, 'RBR', print_sentences=True)"
   ]
  },
  {
   "cell_type": "code",
   "execution_count": 114,
   "metadata": {},
   "outputs": [
    {
     "name": "stdout",
     "output_type": "stream",
     "text": [
      "The number of false negatives is:  6\n",
      "Distribution of false negatives for RBR tag : \n",
      "{'JJR': 4, 'RB': 1, 'DT': 1}\n"
     ]
    }
   ],
   "source": [
    "pos_error, pred_tag, error_frequency = get_false_negative_info(df_train, rbr_test_idx, \"RBR\", y_true, y_doubleLSTM)\n",
    "\n",
    "print(\"The number of false negatives is: \", np.sum(list(error_frequency.values())))\n",
    "print(\"Distribution of false negatives for RBR tag : \")\n",
    "print(error_frequency)"
   ]
  },
  {
   "cell_type": "code",
   "execution_count": 115,
   "metadata": {},
   "outputs": [
    {
     "name": "stdout",
     "output_type": "stream",
     "text": [
      "The number of false negatives is:  26\n",
      "Distribution of false positive for RBR tag : \n",
      "{'JJR': 21, 'IN': 2, 'VBG': 1, 'NNPS': 1, 'NN': 1}\n"
     ]
    }
   ],
   "source": [
    "fp_pos_error, true_tags, misclassified_words , fp_error_freq = get_false_positive_info(df_test, \"RBR\", y_true, y_doubleLSTM)\n",
    "\n",
    "print(\"The number of false negatives is: \", np.sum(list(fp_error_freq.values())))\n",
    "print(\"Distribution of false positive for RBR tag : \")\n",
    "print(fp_error_freq)"
   ]
  },
  {
   "cell_type": "markdown",
   "metadata": {},
   "source": [
    "As concerns the false negatives, the most frequent error is idenntifying the adverb as asjective. The model seems capable to understand that it is a comparative but struggles in distinguishing adverbs from adjectives.  <br>\n",
    "For false positives instead the model mainly identifies comparative adjectives as adverbs, and this is probably due to the lexical similarity in the formation of regular comparatives in english. "
   ]
  },
  {
   "cell_type": "markdown",
   "metadata": {},
   "source": [
    "### RBS -  Adverb, superlative"
   ]
  },
  {
   "cell_type": "markdown",
   "metadata": {},
   "source": [
    "As done for the other classes, let's investigate the support of the tag in the test set, and then the false positives. We do not look for false negatives because there are not, since the recall is 1."
   ]
  },
  {
   "cell_type": "code",
   "execution_count": 116,
   "metadata": {},
   "outputs": [
    {
     "name": "stdout",
     "output_type": "stream",
     "text": [
      "Found 3 sentences\n",
      "\n",
      "0: most important , ms. ganes noted , `` brazilian officials said that no decision has as yet been made on the suspension of exports . '' \n",
      "1: traders said prices also were supported by widespread rumors that the soviet union is on the verge of receiving most favored nation status from the u.s. . \n",
      "2: the soviet union bought roughly 310 million bushels of u.s. corn in october , which is the most ever sold to the soviet union in one month from the u.s. . \n"
     ]
    }
   ],
   "source": [
    "rbs_test_idx = get_sentences_with_a_given_tag(df_test, 'RBS', print_sentences=True)"
   ]
  },
  {
   "cell_type": "code",
   "execution_count": 117,
   "metadata": {},
   "outputs": [
    {
     "name": "stdout",
     "output_type": "stream",
     "text": [
      "The number of false negatives is:  6\n",
      "Distribution of false positive for RBS tag : \n",
      "{'JJS': 6}\n"
     ]
    }
   ],
   "source": [
    "fp_pos_error, true_tags, misclassified_words , fp_error_freq = get_false_positive_info(df_test, \"RBS\", y_true, y_doubleLSTM)\n",
    "\n",
    "print(\"The number of false negatives is: \", np.sum(list(fp_error_freq.values())))\n",
    "print(\"Distribution of false positive for RBS tag : \")\n",
    "print(fp_error_freq)"
   ]
  },
  {
   "cell_type": "markdown",
   "metadata": {},
   "source": [
    "As for comparatives adverbs the main error here is due to the similarity between adverbs and adjectives in English, thus the network struggles to distinguish clearly between adverbs and adjectives. <br>\n",
    "Lastly, it is again important to highlight that the support of this class is really low, so having more examples would be beneficial for the network"
   ]
  },
  {
   "cell_type": "markdown",
   "metadata": {},
   "source": [
    "## Confusion Matrix\n",
    "\n",
    "To have a more general glance at the errors made by the model we can inspect the results obtained on the set by means of the confusion matrix."
   ]
  },
  {
   "cell_type": "code",
   "execution_count": 118,
   "metadata": {},
   "outputs": [
    {
     "data": {
      "text/plain": [
       "<sklearn.metrics._plot.confusion_matrix.ConfusionMatrixDisplay at 0x2c75d357280>"
      ]
     },
     "execution_count": 118,
     "metadata": {},
     "output_type": "execute_result"
    },
    {
     "data": {
      "image/png": "[encoded data removed]",
      "text/plain": [
       "<Figure size 1800x2000 with 2 Axes>"
      ]
     },
     "metadata": {
      "needs_background": "light"
     },
     "output_type": "display_data"
    }
   ],
   "source": [
    "y_true_flat = flattener(y_true)\n",
    "y_doubleLSTM_flat = flattener(y_doubleLSTM)\n",
    "\n",
    "conf_matrix = confusion_matrix(y_true_flat, y_doubleLSTM_flat)\n",
    "display = ConfusionMatrixDisplay(conf_matrix, display_labels = np.unique(y_true_flat))\n",
    "\n",
    "fig, ax = plt.subplots(figsize=(18,20))\n",
    "\n",
    "display.plot(ax=ax, xticks_rotation= 'vertical')\n"
   ]
  },
  {
   "cell_type": "markdown",
   "metadata": {},
   "source": [
    "An analysis of the confusion matrix allows us to notice that the most relevant errors are:\n",
    "* **NN-JJ** Nouns predicted as adjectives and viceversa. The model probably struggles in distinguishing the two classes because often they are close to each other in the sentences (this also holds with proper nouns and adjectives);\n",
    "* **NN-NNP** Predictions of nouns as proper nouns and this is an understandable erorr;\n",
    "* **RBR-JJR** /  **RBS-JJS** Predicition of adjectives as adverbs and viceversa. This holds both for comparatives and superlatives\n",
    "\n",
    "Other errors made by the network are related to prediction of singular and plural names which often get confused by the network. In case of proper nouns it is really hard to distinguish whether a proper noun is plural or singular. In the case of common nouns instead, it is really hard to make a correct distinction since the main difference is usually represented by just one letter."
   ]
  },
  {
   "cell_type": "markdown",
   "metadata": {},
   "source": [
    "## Double FC model"
   ]
  },
  {
   "cell_type": "markdown",
   "metadata": {},
   "source": [
    "For this model we will follow the line used in the other case, so we will start inspecting the classification report, then focus on the most problematic classes and inspect them, before concluding with the analysis of the confusion matrix."
   ]
  },
  {
   "cell_type": "code",
   "execution_count": 119,
   "metadata": {},
   "outputs": [
    {
     "name": "stdout",
     "output_type": "stream",
     "text": [
      "              precision    recall  f1-score   support\n",
      "\n",
      "           $       0.99      1.00      0.99       209\n",
      "          ''       0.99      1.00      0.99        70\n",
      "           ,       1.00      1.00      1.00       787\n",
      "       -LRB-       0.79      0.61      0.69        18\n",
      "       -RRB-       0.55      0.67      0.60        18\n",
      "           .       1.00      1.00      1.00       638\n",
      "           :       0.98      1.00      0.99        56\n",
      "          CC       0.99      0.98      0.99       366\n",
      "          CD       0.97      0.96      0.97       858\n",
      "          DT       0.98      0.99      0.99      1335\n",
      "          EX       1.00      1.00      1.00         5\n",
      "          IN       0.96      0.96      0.96      1630\n",
      "          JJ       0.73      0.77      0.75       918\n",
      "         JJR       0.81      0.75      0.78        59\n",
      "         JJS       0.83      0.77      0.80        31\n",
      "          MD       0.98      0.99      0.99       167\n",
      "          NN       0.84      0.87      0.85      2383\n",
      "         NNP       0.88      0.83      0.86      1504\n",
      "        NNPS       0.25      0.05      0.08        44\n",
      "         NNS       0.83      0.87      0.85       941\n",
      "         PDT       0.00      0.00      0.00         4\n",
      "         POS       0.99      0.99      0.99       152\n",
      "         PRP       0.99      0.99      0.99       192\n",
      "        PRP$       0.98      0.99      0.98        99\n",
      "          RB       0.79      0.81      0.80       381\n",
      "         RBR       0.36      0.33      0.34        15\n",
      "         RBS       0.60      1.00      0.75         3\n",
      "          RP       0.52      0.85      0.64        33\n",
      "          TO       1.00      1.00      1.00       386\n",
      "          VB       0.92      0.93      0.92       403\n",
      "         VBD       0.92      0.85      0.88       634\n",
      "         VBG       0.70      0.57      0.63       221\n",
      "         VBN       0.80      0.72      0.76       366\n",
      "         VBP       0.81      0.82      0.81       134\n",
      "         VBZ       0.87      0.92      0.89       280\n",
      "         WDT       0.93      0.92      0.92        84\n",
      "          WP       1.00      1.00      1.00        20\n",
      "         WP$       1.00      0.75      0.86         4\n",
      "         WRB       0.90      0.79      0.84        24\n",
      "          ``       0.99      1.00      0.99        73\n",
      "\n",
      "    accuracy                           0.90     15545\n",
      "   macro avg       0.83      0.83      0.83     15545\n",
      "weighted avg       0.90      0.90      0.90     15545\n",
      "\n"
     ]
    }
   ],
   "source": [
    "print(classification_report(flat_y_true, flattener(y_doubleFC), zero_division=0))"
   ]
  },
  {
   "cell_type": "markdown",
   "metadata": {},
   "source": [
    "Interestingly, we notice that also in this case the classes the model struggles the most identifying are once again predeterminers (**PDT**) with a f1_score of 0.0, plural proper names (**NNPS**) which show a very low f1-score of 0.08 and comparative adverbs (**RBR**). We will now use the confusion matrix to show which are the main sources of errors of the model, as did before for the first model, and see if the errors made by this model are the same done by the first one."
   ]
  },
  {
   "cell_type": "code",
   "execution_count": 120,
   "metadata": {},
   "outputs": [
    {
     "data": {
      "text/plain": [
       "<sklearn.metrics._plot.confusion_matrix.ConfusionMatrixDisplay at 0x2c7570f0760>"
      ]
     },
     "execution_count": 120,
     "metadata": {},
     "output_type": "execute_result"
    },
    {
     "data": {
      "image/png": "[encoded data removed]",
      "text/plain": [
       "<Figure size 1800x2000 with 2 Axes>"
      ]
     },
     "metadata": {
      "needs_background": "light"
     },
     "output_type": "display_data"
    }
   ],
   "source": [
    "y_doubleFC_flat = flattener(y_doubleFC)\n",
    "\n",
    "conf_matrix = confusion_matrix(y_true_flat, y_doubleFC_flat)\n",
    "display = ConfusionMatrixDisplay(conf_matrix, display_labels = np.unique(y_true_flat))\n",
    "\n",
    "fig, ax = plt.subplots(figsize=(18,20))\n",
    "\n",
    "display.plot(ax=ax, xticks_rotation= 'vertical')"
   ]
  },
  {
   "cell_type": "markdown",
   "metadata": {},
   "source": [
    "From this plot we can notice how the kind of errors made are very similar (names and adjectives confused, predeterminers classified as determiners or adjectives and comparative adverbs classified as comparative adjectives). <br>\n",
    "To compare the two model we want to highlight that the model with 2 LSTM cells showed a slightly better capability of correctly classifying proper names. This can be explained by a higher model capacity (the model with 2 LSTM cells has 100.000 more parameters than the one with two FC layers) which allowed the model to perform slightly better in recognizing this class. <br>"
   ]
  },
  {
   "cell_type": "markdown",
   "metadata": {},
   "source": [
    "# Improving the results"
   ]
  },
  {
   "cell_type": "markdown",
   "metadata": {},
   "source": [
    "In the last part of this notebook, we want to try to improve the performances of our best model (Double LSTM model), trying to improve the f1-score. <br>\n",
    "First of all, we tried, as proposed in [1], to clip the norm of the gradient to a fixed, predefined, value because this could improve performance on sequence labeling task and because it can prevent the issue of exploding gradients."
   ]
  },
  {
   "cell_type": "code",
   "execution_count": 67,
   "metadata": {},
   "outputs": [],
   "source": [
    "def clipnorm_model(rate = 0.0):\n",
    "    \n",
    "    input = layers.Embedding(input_dim = len(word_to_idx), \n",
    "                              output_dim = EMBEDDING_DIMENSION, \n",
    "                              input_length=max_sequence_length,\n",
    "                              weights = [embeddings],\n",
    "                              trainable = False, # do not train embeddings\n",
    "                              mask_zero = True)\n",
    "    \n",
    "    doubleLSTM = ks.Sequential()\n",
    "    doubleLSTM.add(input)\n",
    "    \n",
    "    doubleLSTM.add(layers.Bidirectional(layers.LSTM(64, return_sequences = True)))\n",
    "    doubleLSTM.add(layers.Dropout(rate))\n",
    "    doubleLSTM.add(layers.Bidirectional(layers.LSTM(128, return_sequences = True)))\n",
    "    doubleLSTM.add(layers.Dropout(rate))\n",
    "    \n",
    "    doubleLSTM.add(layers.TimeDistributed(layers.Dense(len(tags_listing) + 1, activation='softmax'))) \n",
    "    doubleLSTM.add(layers.Dropout(rate))\n",
    "    \n",
    "    optimizer = ks.optimizers.RMSprop(learning_rate=0.01, clipnorm=10)\n",
    "        \n",
    "        \n",
    "    doubleLSTM.compile(loss='categorical_crossentropy', optimizer= optimizer, metrics = ['accuracy'])\n",
    "    \n",
    "    return doubleLSTM"
   ]
  },
  {
   "cell_type": "code",
   "execution_count": 43,
   "metadata": {},
   "outputs": [
    {
     "name": "stdout",
     "output_type": "stream",
     "text": [
      "Model: \"sequential_1\"\n",
      "_________________________________________________________________\n",
      " Layer (type)                Output Shape              Param #   \n",
      "=================================================================\n",
      " embedding_1 (Embedding)     (None, 249, 50)           547400    \n",
      "                                                                 \n",
      " bidirectional_2 (Bidirectio  (None, 249, 128)         58880     \n",
      " nal)                                                            \n",
      "                                                                 \n",
      " bidirectional_3 (Bidirectio  (None, 249, 256)         263168    \n",
      " nal)                                                            \n",
      "                                                                 \n",
      " time_distributed_1 (TimeDis  (None, 249, 46)          11822     \n",
      " tributed)                                                       \n",
      "                                                                 \n",
      "=================================================================\n",
      "Total params: 881,270\n",
      "Trainable params: 333,870\n",
      "Non-trainable params: 547,400\n",
      "_________________________________________________________________\n"
     ]
    }
   ],
   "source": [
    "model_cn = clipnorm_model()\n",
    "\n",
    "model_cn.summary()"
   ]
  },
  {
   "cell_type": "code",
   "execution_count": 44,
   "metadata": {},
   "outputs": [
    {
     "name": "stdout",
     "output_type": "stream",
     "text": [
      "Epoch 1/15\n",
      "123/123 [==============================] - 96s 682ms/step - loss: 0.1318 - accuracy: 0.6099 - val_loss: 0.0559 - val_accuracy: 0.8226 - lr: 0.0100\n",
      "Epoch 2/15\n",
      "123/123 [==============================] - 72s 585ms/step - loss: 0.0398 - accuracy: 0.8728 - val_loss: 0.0397 - val_accuracy: 0.8680 - lr: 0.0100\n",
      "Epoch 3/15\n",
      "123/123 [==============================] - 65s 528ms/step - loss: 0.0243 - accuracy: 0.9222 - val_loss: 0.0372 - val_accuracy: 0.8816 - lr: 0.0100\n",
      "Epoch 4/15\n",
      "123/123 [==============================] - 66s 540ms/step - loss: 0.0151 - accuracy: 0.9508 - val_loss: 0.0350 - val_accuracy: 0.8973 - lr: 0.0100\n",
      "Epoch 5/15\n",
      "123/123 [==============================] - 62s 509ms/step - loss: 0.0094 - accuracy: 0.9688 - val_loss: 0.0373 - val_accuracy: 0.8946 - lr: 0.0100\n",
      "Epoch 6/15\n",
      "123/123 [==============================] - 64s 520ms/step - loss: 0.0059 - accuracy: 0.9809 - val_loss: 0.0409 - val_accuracy: 0.8936 - lr: 0.0100\n",
      "Epoch 7/15\n",
      "123/123 [==============================] - 63s 509ms/step - loss: 0.0043 - accuracy: 0.9857 - val_loss: 0.0473 - val_accuracy: 0.8872 - lr: 0.0100\n",
      "Epoch 8/15\n",
      "123/123 [==============================] - 65s 529ms/step - loss: 0.0035 - accuracy: 0.9882 - val_loss: 0.0464 - val_accuracy: 0.8933 - lr: 0.0100\n"
     ]
    }
   ],
   "source": [
    "model_cn_history = model_cn.fit(x_train, y_train, epochs  = EPOCHS, validation_data= (x_val, y_val), \n",
    "                     batch_size = BATCH_SIZE, callbacks = callbacks)"
   ]
  },
  {
   "cell_type": "code",
   "execution_count": 45,
   "metadata": {},
   "outputs": [
    {
     "name": "stdout",
     "output_type": "stream",
     "text": [
      "Displaying the following history keys: dict_keys(['loss', 'accuracy', 'val_loss', 'val_accuracy', 'lr'])\n",
      "Couldn't find validation values for metric: lr\n"
     ]
    },
    {
     "data": {
      "image/png": "[encoded data removed]",
      "text/plain": [
       "<Figure size 432x288 with 1 Axes>"
      ]
     },
     "metadata": {
      "needs_background": "light"
     },
     "output_type": "display_data"
    },
    {
     "data": {
      "image/png": "[encoded data removed]",
      "text/plain": [
       "<Figure size 432x288 with 1 Axes>"
      ]
     },
     "metadata": {
      "needs_background": "light"
     },
     "output_type": "display_data"
    },
    {
     "data": {
      "image/png": "[encoded data removed]",
      "text/plain": [
       "<Figure size 432x288 with 1 Axes>"
      ]
     },
     "metadata": {
      "needs_background": "light"
     },
     "output_type": "display_data"
    }
   ],
   "source": [
    "show_history(model_cn_history)"
   ]
  },
  {
   "cell_type": "code",
   "execution_count": 49,
   "metadata": {},
   "outputs": [
    {
     "name": "stdout",
     "output_type": "stream",
     "text": [
      "21/21 [==============================] - 9s 199ms/step\n",
      "Results obtained with the model:\n",
      "accuracy:\t0.9065937600514635\n",
      "macro_f1:\t0.7160734303875612\n"
     ]
    }
   ],
   "source": [
    "y_cn = produce_pos(model_cn ,x_test)\n",
    "cn_metrics = compute_metrics(y_cn, y_true)\n",
    "\n",
    "print(\"Results obtained with the model:\")\n",
    "for metric_name in cn_metrics.keys():\n",
    "    print(\"{0}:\\t{1}\".format(metric_name, cn_metrics[metric_name]))\n"
   ]
  },
  {
   "cell_type": "code",
   "execution_count": 50,
   "metadata": {},
   "outputs": [
    {
     "name": "stdout",
     "output_type": "stream",
     "text": [
      "              precision    recall  f1-score   support\n",
      "\n",
      "           $       0.99      1.00      1.00       209\n",
      "          ''       1.00      1.00      1.00        70\n",
      "           ,       1.00      1.00      1.00       787\n",
      "       -LRB-       0.68      0.72      0.70        18\n",
      "       -RRB-       0.59      0.56      0.57        18\n",
      "           .       1.00      1.00      1.00       638\n",
      "           :       0.97      1.00      0.98        56\n",
      "          CC       0.99      1.00      1.00       366\n",
      "          CD       0.98      0.97      0.97       858\n",
      "          DT       0.99      0.99      0.99      1335\n",
      "          EX       1.00      1.00      1.00         5\n",
      "          IN       0.98      0.96      0.97      1630\n",
      "          JJ       0.68      0.82      0.75       918\n",
      "         JJR       0.70      0.56      0.62        59\n",
      "         JJS       0.92      0.74      0.82        31\n",
      "          LS       0.00      0.00      0.00         0\n",
      "          MD       0.98      0.96      0.97       167\n",
      "          NN       0.86      0.87      0.87      2383\n",
      "         NNP       0.87      0.87      0.87      1504\n",
      "        NNPS       0.20      0.05      0.07        44\n",
      "         NNS       0.90      0.87      0.88       941\n",
      "         PDT       1.00      0.25      0.40         4\n",
      "         POS       1.00      1.00      1.00       152\n",
      "         PRP       0.99      0.98      0.99       192\n",
      "        PRP$       1.00      0.99      0.99        99\n",
      "          RB       0.75      0.87      0.81       381\n",
      "         RBR       0.27      0.53      0.36        15\n",
      "         RBS       0.50      1.00      0.67         3\n",
      "          RP       0.62      0.76      0.68        33\n",
      "          TO       1.00      1.00      1.00       386\n",
      "          VB       0.95      0.93      0.94       403\n",
      "         VBD       0.93      0.88      0.91       634\n",
      "         VBG       0.69      0.57      0.62       221\n",
      "         VBN       0.82      0.70      0.75       366\n",
      "         VBP       0.84      0.79      0.82       134\n",
      "         VBZ       0.96      0.91      0.93       280\n",
      "         WDT       0.92      0.92      0.92        84\n",
      "          WP       1.00      1.00      1.00        20\n",
      "         WP$       1.00      1.00      1.00         4\n",
      "         WRB       1.00      0.88      0.93        24\n",
      "          ``       1.00      1.00      1.00        73\n",
      "\n",
      "    accuracy                           0.91     15545\n",
      "   macro avg       0.84      0.83      0.82     15545\n",
      "weighted avg       0.91      0.91      0.91     15545\n",
      "\n"
     ]
    }
   ],
   "source": [
    "print(classification_report(flat_y_true, flattener(y_cn), zero_division=0))"
   ]
  },
  {
   "cell_type": "markdown",
   "metadata": {},
   "source": [
    "As we can notice, the results of the f1-score improved by 1 point in percentage, helping us to produce a better f1-score. Although this may seem a good result, we have to notice how the metric improves mainly because the network now is able to identify predeterminers, differently from the previous networks presented. Despite that, for a lot of classes we reach slightly lower values for the f1-scores <br>\n",
    "\n",
    "On top of that, we also tried to improve the performances of our model by introducing dropout on both LSTM layers and on the final fully connected layer as stated in [1]. In the paper it is used **Variational dropout** as dropout technique, but for the sake of simplicity we will add the standard dropout present in tensorflow."
   ]
  },
  {
   "cell_type": "code",
   "execution_count": 68,
   "metadata": {},
   "outputs": [
    {
     "name": "stdout",
     "output_type": "stream",
     "text": [
      "Epoch 1/15\n",
      "123/123 [==============================] - 125s 916ms/step - loss: 0.4782 - accuracy: 0.4738 - val_loss: 0.0667 - val_accuracy: 0.7870 - lr: 0.0100\n",
      "Epoch 2/15\n",
      "123/123 [==============================] - 108s 883ms/step - loss: 0.4225 - accuracy: 0.6457 - val_loss: 0.0456 - val_accuracy: 0.8536 - lr: 0.0100\n",
      "Epoch 3/15\n",
      "123/123 [==============================] - 110s 894ms/step - loss: 0.4183 - accuracy: 0.6698 - val_loss: 0.0406 - val_accuracy: 0.8675 - lr: 0.0100\n",
      "Epoch 4/15\n",
      "123/123 [==============================] - 107s 868ms/step - loss: 0.4129 - accuracy: 0.6845 - val_loss: 0.0361 - val_accuracy: 0.8877 - lr: 0.0100\n",
      "Epoch 5/15\n",
      "123/123 [==============================] - 108s 877ms/step - loss: 0.4047 - accuracy: 0.6965 - val_loss: 0.0350 - val_accuracy: 0.8914 - lr: 0.0100\n",
      "Epoch 6/15\n",
      "123/123 [==============================] - 107s 869ms/step - loss: 0.4106 - accuracy: 0.6974 - val_loss: 0.0350 - val_accuracy: 0.8902 - lr: 0.0100\n",
      "Epoch 7/15\n",
      "123/123 [==============================] - 107s 870ms/step - loss: 0.4033 - accuracy: 0.7070 - val_loss: 0.0351 - val_accuracy: 0.8942 - lr: 0.0100\n",
      "Epoch 8/15\n",
      "123/123 [==============================] - 106s 863ms/step - loss: 0.3992 - accuracy: 0.7125 - val_loss: 0.0357 - val_accuracy: 0.8941 - lr: 0.0100\n",
      "Epoch 9/15\n",
      "123/123 [==============================] - 105s 855ms/step - loss: 0.4072 - accuracy: 0.7088 - val_loss: 0.0352 - val_accuracy: 0.8984 - lr: 0.0100\n",
      "Epoch 10/15\n",
      "123/123 [==============================] - 105s 851ms/step - loss: 0.4033 - accuracy: 0.7125 - val_loss: 0.0351 - val_accuracy: 0.9002 - lr: 0.0100\n",
      "Epoch 11/15\n",
      "123/123 [==============================] - 105s 856ms/step - loss: 0.4016 - accuracy: 0.7158 - val_loss: 0.0352 - val_accuracy: 0.8999 - lr: 0.0100\n",
      "Epoch 12/15\n",
      "123/123 [==============================] - 105s 853ms/step - loss: 0.3967 - accuracy: 0.7191 - val_loss: 0.0366 - val_accuracy: 0.8982 - lr: 0.0100\n",
      "Epoch 13/15\n",
      "123/123 [==============================] - 106s 862ms/step - loss: 0.4037 - accuracy: 0.7161 - val_loss: 0.0361 - val_accuracy: 0.9000 - lr: 0.0100\n",
      "Epoch 14/15\n",
      "123/123 [==============================] - 106s 859ms/step - loss: 0.3966 - accuracy: 0.7220 - val_loss: 0.0364 - val_accuracy: 0.9002 - lr: 0.0100\n",
      "Displaying the following history keys: dict_keys(['loss', 'accuracy', 'val_loss', 'val_accuracy', 'lr'])\n",
      "Couldn't find validation values for metric: lr\n"
     ]
    },
    {
     "data": {
      "image/png": "[encoded data removed]",
      "text/plain": [
       "<Figure size 432x288 with 1 Axes>"
      ]
     },
     "metadata": {
      "needs_background": "light"
     },
     "output_type": "display_data"
    },
    {
     "data": {
      "image/png": "[encoded data removed]",
      "text/plain": [
       "<Figure size 432x288 with 1 Axes>"
      ]
     },
     "metadata": {
      "needs_background": "light"
     },
     "output_type": "display_data"
    },
    {
     "data": {
      "image/png": "[encoded data removed]",
      "text/plain": [
       "<Figure size 432x288 with 1 Axes>"
      ]
     },
     "metadata": {
      "needs_background": "light"
     },
     "output_type": "display_data"
    }
   ],
   "source": [
    "dropout_rate = 0.25\n",
    "do_model = clipnorm_model(dropout_rate)\n",
    "\n",
    "\n",
    "do_history =  do_model.fit(x_train, y_train, epochs  = EPOCHS, validation_data= (x_val, y_val), \n",
    "                     batch_size = BATCH_SIZE, callbacks = callbacks)\n",
    "\n",
    "show_history(do_history)"
   ]
  },
  {
   "cell_type": "code",
   "execution_count": 69,
   "metadata": {},
   "outputs": [
    {
     "name": "stdout",
     "output_type": "stream",
     "text": [
      "21/21 [==============================] - 10s 307ms/step\n",
      "Results obtained with the model:\n",
      "accuracy:\t0.906207783853329\n",
      "macro_f1:\t0.7198875528220023\n",
      "\n",
      "              precision    recall  f1-score   support\n",
      "\n",
      "           $       1.00      1.00      1.00       209\n",
      "          ''       1.00      1.00      1.00        70\n",
      "           ,       1.00      1.00      1.00       787\n",
      "       -LRB-       0.71      0.67      0.69        18\n",
      "       -RRB-       0.62      0.56      0.59        18\n",
      "           .       1.00      1.00      1.00       638\n",
      "           :       1.00      1.00      1.00        56\n",
      "          CC       0.99      0.99      0.99       366\n",
      "          CD       0.98      0.97      0.97       858\n",
      "          DT       0.99      0.99      0.99      1335\n",
      "          EX       1.00      1.00      1.00         5\n",
      "          IN       0.98      0.96      0.97      1630\n",
      "          JJ       0.76      0.75      0.75       918\n",
      "         JJR       0.83      0.66      0.74        59\n",
      "         JJS       0.84      0.84      0.84        31\n",
      "          MD       0.97      0.99      0.98       167\n",
      "          NN       0.84      0.87      0.85      2383\n",
      "         NNP       0.85      0.90      0.88      1504\n",
      "        NNPS       0.00      0.00      0.00        44\n",
      "         NNS       0.86      0.85      0.85       941\n",
      "         PDT       0.50      0.25      0.33         4\n",
      "         POS       0.99      1.00      1.00       152\n",
      "         PRP       0.99      0.99      0.99       192\n",
      "        PRP$       0.99      1.00      0.99        99\n",
      "          RB       0.76      0.86      0.81       381\n",
      "         RBR       0.44      0.53      0.48        15\n",
      "         RBS       1.00      0.67      0.80         3\n",
      "          RP       0.58      0.85      0.69        33\n",
      "          TO       1.00      1.00      1.00       386\n",
      "          VB       0.94      0.93      0.93       403\n",
      "         VBD       0.94      0.87      0.90       634\n",
      "         VBG       0.78      0.58      0.66       221\n",
      "         VBN       0.75      0.77      0.76       366\n",
      "         VBP       0.86      0.82      0.84       134\n",
      "         VBZ       0.95      0.90      0.93       280\n",
      "         WDT       0.96      0.94      0.95        84\n",
      "          WP       0.95      1.00      0.98        20\n",
      "         WP$       1.00      0.75      0.86         4\n",
      "         WRB       1.00      0.83      0.91        24\n",
      "          ``       1.00      1.00      1.00        73\n",
      "\n",
      "    accuracy                           0.91     15545\n",
      "   macro avg       0.87      0.84      0.85     15545\n",
      "weighted avg       0.91      0.91      0.91     15545\n",
      "\n"
     ]
    }
   ],
   "source": [
    "y_dropout = produce_pos(do_model ,x_test)\n",
    "dropout_metrics = compute_metrics(y_dropout, y_true)\n",
    "\n",
    "print(\"Results obtained with the model:\")\n",
    "for metric_name in cn_metrics.keys():\n",
    "    print(\"{0}:\\t{1}\".format(metric_name, dropout_metrics[metric_name]))\n",
    "    \n",
    "    \n",
    "print()\n",
    "print(classification_report(flat_y_true, flattener(y_dropout), zero_division=0))"
   ]
  },
  {
   "cell_type": "markdown",
   "metadata": {},
   "source": [
    "Also in this case, adding dropout lead to a very tiny increase in performances but this did not seem to produce interesting results, since the improvement is less than 1%. A more detailed look of the effects of dropout for the task can happen adding the dropout layers to the other networks without clip norm and see if there is a better improvement than the one obtained here."
   ]
  },
  {
   "cell_type": "markdown",
   "metadata": {},
   "source": [
    "# Conclusions"
   ]
  },
  {
   "cell_type": "markdown",
   "metadata": {},
   "source": [
    "We can notice from the training done on the two best models, that early stopping intervenes in the training loop of both models we tested while fitting the model on the training data. For this dataset, seems that 10 epochs are sufficient to see good results on the validation sets. <br><br>\n",
    "\n",
    "We can also notice, from the step of hyperparameter tuning, that all the models reached similar validation scores, in detail the best scores obtained by the models on validation accuracy are:\n",
    "* 0.8853 for the **baseline model**\n",
    "* 0.8769 for the **GRU model**\n",
    "* 0.8954 for the **Double LSTM model**\n",
    "* 0.8924 for the **Double FC model**\n",
    "\n",
    "Given the results obtained we can notice that:\n",
    "* The GRU model did not have worst performance than the rest of the models as concerns validation accuracy, despite having less expressive capacity than the rest of the models which use LSTM cells. \n",
    "* Increasing the dimension of the model did not produce big improvements on the results obtained as well. Despite we saw some changes in the validation scores, this change in results may be harmful in situations in which saving computational costs would be beneficial.\n",
    "\n",
    "Despite what said in the second point, we still decided to evaluate the two best models (i.e. model 3 and 4) on the test set. Here the models performed well, showing that the network actually learned how to generalize on unseen data. As before, also in this case the results obtained with the Double LSTM models are slightly better in percentage than the results obtained by the Double FC models, both in accuracy and in f1-score, as shown in this table:\n",
    "\n",
    "|             | Accuracy | F1-Score |\n",
    "|:-----------:|----------|----------|\n",
    "| Double LSTM | 0.9038   | 0.7004   |\n",
    "|  Double FC  | 0.8990   | 0.6993   |\n",
    "\n",
    "The main sources of errors arised from categories with a very low support in both cases and from part of speech very similar among them (proper nouns and nouns, singular and plural proper nouns, comparatives adjectives and adverbs), so in our opinion a possible solution would be performing some kind of data augmentation or weight sampling techniques to give more importance to classes with a lower support and make the network distinghuish them, but we leave that to a future work. \n",
    "\n",
    "We also noticed from the experiments run that the introduction of clip_norm and dropout helps the model recognizing some tags which have low support in the dataset (as happened for predeterminers), thus producing an higher f1-score. <br><br>\n",
    "A future work in this field would be the one of fitting those models on bigger datasets, in which also less frequent tags have a higher support, in order to see the limitations of those small model's capacity. Other possible works can be related to the use of larger models to inspect the differences with respect to these simple models in terms of f1-scores. "
   ]
  },
  {
   "cell_type": "markdown",
   "metadata": {},
   "source": [
    "# References\n",
    "\n",
    "* [1] Nils Reimers and Iryna Gurevych (2017).<br> **Optimal Hyperparameters for Deep LSTM-Networks for Sequence Labeling Tasks.** <br> CoRR journal, abs/1707.06799 volume."
   ]
  }
 ],
 "metadata": {
  "accelerator": "GPU",
  "colab": {
   "collapsed_sections": [
    "3O9ErZQLJ0uE",
    "PteAbN1DSSMV"
   ],
   "provenance": []
  },
  "gpuClass": "standard",
  "kernelspec": {
   "display_name": "Python 3 (ipykernel)",
   "language": "python",
   "name": "python3"
  },
  "language_info": {
   "codemirror_mode": {
    "name": "ipython",
    "version": 3
   },
   "file_extension": ".py",
   "mimetype": "text/x-python",
   "name": "python",
   "nbconvert_exporter": "python",
   "pygments_lexer": "ipython3",
   "version": "3.8.8"
  }
 },
 "nbformat": 4,
 "nbformat_minor": 1
}
